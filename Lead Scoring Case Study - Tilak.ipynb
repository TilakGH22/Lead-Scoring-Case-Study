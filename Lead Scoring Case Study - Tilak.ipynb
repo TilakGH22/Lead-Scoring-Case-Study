{
 "cells": [
  {
   "cell_type": "markdown",
   "id": "82260363",
   "metadata": {},
   "source": [
    "## Lead Scoring - Case Study\n",
    "Problem Statement\n",
    "An X Education need help to select the most promising leads, i.e. the leads that are most likely to convert into paying customers. The company requires us to build a model wherein you need to assign a lead score to each of the leads such that the customers with higher lead score have a higher conversion chance and the customers with lower lead score have a lower conversion chance. The CEO, in particular, has given a ballpark of the target lead conversion rate to be around 80%.\n",
    "\n",
    "## Target of the Case Study\n",
    "\n",
    "Build a logistic regression model to assign a lead score between 0 and 100 to each of the leads which can be used by the company to target potential leads. A higher score would mean that the lead is hot, i.e. is most likely to convert whereas a lower score would mean that the lead is cold and will mostly not get converted."
   ]
  },
  {
   "cell_type": "markdown",
   "id": "d60ae696",
   "metadata": {},
   "source": [
    "### Importing the required libraries and dataset"
   ]
  },
  {
   "cell_type": "code",
   "execution_count": 1,
   "id": "51f1577b",
   "metadata": {},
   "outputs": [],
   "source": [
    "# import the important libraries\n",
    "\n",
    "import numpy as np\n",
    "import pandas as pd\n",
    "import matplotlib.pyplot as plt\n",
    "%matplotlib inline\n",
    "import seaborn as sns\n",
    "\n",
    "# Ignore warnings\n",
    "import warnings\n",
    "warnings.filterwarnings(\"ignore\")\n"
   ]
  },
  {
   "cell_type": "code",
   "execution_count": 2,
   "id": "99e1c352",
   "metadata": {},
   "outputs": [],
   "source": [
    "# Importing the dataset \n",
    "Lead = pd.read_csv(\"Leads.csv\")"
   ]
  },
  {
   "cell_type": "code",
   "execution_count": 3,
   "id": "b29f1962",
   "metadata": {},
   "outputs": [
    {
     "data": {
      "text/html": [
       "<div>\n",
       "<style scoped>\n",
       "    .dataframe tbody tr th:only-of-type {\n",
       "        vertical-align: middle;\n",
       "    }\n",
       "\n",
       "    .dataframe tbody tr th {\n",
       "        vertical-align: top;\n",
       "    }\n",
       "\n",
       "    .dataframe thead th {\n",
       "        text-align: right;\n",
       "    }\n",
       "</style>\n",
       "<table border=\"1\" class=\"dataframe\">\n",
       "  <thead>\n",
       "    <tr style=\"text-align: right;\">\n",
       "      <th></th>\n",
       "      <th>Prospect ID</th>\n",
       "      <th>Lead Number</th>\n",
       "      <th>Lead Origin</th>\n",
       "      <th>Lead Source</th>\n",
       "      <th>Do Not Email</th>\n",
       "      <th>Do Not Call</th>\n",
       "      <th>Converted</th>\n",
       "      <th>TotalVisits</th>\n",
       "      <th>Total Time Spent on Website</th>\n",
       "      <th>Page Views Per Visit</th>\n",
       "      <th>...</th>\n",
       "      <th>Get updates on DM Content</th>\n",
       "      <th>Lead Profile</th>\n",
       "      <th>City</th>\n",
       "      <th>Asymmetrique Activity Index</th>\n",
       "      <th>Asymmetrique Profile Index</th>\n",
       "      <th>Asymmetrique Activity Score</th>\n",
       "      <th>Asymmetrique Profile Score</th>\n",
       "      <th>I agree to pay the amount through cheque</th>\n",
       "      <th>A free copy of Mastering The Interview</th>\n",
       "      <th>Last Notable Activity</th>\n",
       "    </tr>\n",
       "  </thead>\n",
       "  <tbody>\n",
       "    <tr>\n",
       "      <th>0</th>\n",
       "      <td>7927b2df-8bba-4d29-b9a2-b6e0beafe620</td>\n",
       "      <td>660737</td>\n",
       "      <td>API</td>\n",
       "      <td>Olark Chat</td>\n",
       "      <td>No</td>\n",
       "      <td>No</td>\n",
       "      <td>0</td>\n",
       "      <td>0.0</td>\n",
       "      <td>0</td>\n",
       "      <td>0.0</td>\n",
       "      <td>...</td>\n",
       "      <td>No</td>\n",
       "      <td>Select</td>\n",
       "      <td>Select</td>\n",
       "      <td>02.Medium</td>\n",
       "      <td>02.Medium</td>\n",
       "      <td>15.0</td>\n",
       "      <td>15.0</td>\n",
       "      <td>No</td>\n",
       "      <td>No</td>\n",
       "      <td>Modified</td>\n",
       "    </tr>\n",
       "    <tr>\n",
       "      <th>1</th>\n",
       "      <td>2a272436-5132-4136-86fa-dcc88c88f482</td>\n",
       "      <td>660728</td>\n",
       "      <td>API</td>\n",
       "      <td>Organic Search</td>\n",
       "      <td>No</td>\n",
       "      <td>No</td>\n",
       "      <td>0</td>\n",
       "      <td>5.0</td>\n",
       "      <td>674</td>\n",
       "      <td>2.5</td>\n",
       "      <td>...</td>\n",
       "      <td>No</td>\n",
       "      <td>Select</td>\n",
       "      <td>Select</td>\n",
       "      <td>02.Medium</td>\n",
       "      <td>02.Medium</td>\n",
       "      <td>15.0</td>\n",
       "      <td>15.0</td>\n",
       "      <td>No</td>\n",
       "      <td>No</td>\n",
       "      <td>Email Opened</td>\n",
       "    </tr>\n",
       "    <tr>\n",
       "      <th>2</th>\n",
       "      <td>8cc8c611-a219-4f35-ad23-fdfd2656bd8a</td>\n",
       "      <td>660727</td>\n",
       "      <td>Landing Page Submission</td>\n",
       "      <td>Direct Traffic</td>\n",
       "      <td>No</td>\n",
       "      <td>No</td>\n",
       "      <td>1</td>\n",
       "      <td>2.0</td>\n",
       "      <td>1532</td>\n",
       "      <td>2.0</td>\n",
       "      <td>...</td>\n",
       "      <td>No</td>\n",
       "      <td>Potential Lead</td>\n",
       "      <td>Mumbai</td>\n",
       "      <td>02.Medium</td>\n",
       "      <td>01.High</td>\n",
       "      <td>14.0</td>\n",
       "      <td>20.0</td>\n",
       "      <td>No</td>\n",
       "      <td>Yes</td>\n",
       "      <td>Email Opened</td>\n",
       "    </tr>\n",
       "    <tr>\n",
       "      <th>3</th>\n",
       "      <td>0cc2df48-7cf4-4e39-9de9-19797f9b38cc</td>\n",
       "      <td>660719</td>\n",
       "      <td>Landing Page Submission</td>\n",
       "      <td>Direct Traffic</td>\n",
       "      <td>No</td>\n",
       "      <td>No</td>\n",
       "      <td>0</td>\n",
       "      <td>1.0</td>\n",
       "      <td>305</td>\n",
       "      <td>1.0</td>\n",
       "      <td>...</td>\n",
       "      <td>No</td>\n",
       "      <td>Select</td>\n",
       "      <td>Mumbai</td>\n",
       "      <td>02.Medium</td>\n",
       "      <td>01.High</td>\n",
       "      <td>13.0</td>\n",
       "      <td>17.0</td>\n",
       "      <td>No</td>\n",
       "      <td>No</td>\n",
       "      <td>Modified</td>\n",
       "    </tr>\n",
       "    <tr>\n",
       "      <th>4</th>\n",
       "      <td>3256f628-e534-4826-9d63-4a8b88782852</td>\n",
       "      <td>660681</td>\n",
       "      <td>Landing Page Submission</td>\n",
       "      <td>Google</td>\n",
       "      <td>No</td>\n",
       "      <td>No</td>\n",
       "      <td>1</td>\n",
       "      <td>2.0</td>\n",
       "      <td>1428</td>\n",
       "      <td>1.0</td>\n",
       "      <td>...</td>\n",
       "      <td>No</td>\n",
       "      <td>Select</td>\n",
       "      <td>Mumbai</td>\n",
       "      <td>02.Medium</td>\n",
       "      <td>01.High</td>\n",
       "      <td>15.0</td>\n",
       "      <td>18.0</td>\n",
       "      <td>No</td>\n",
       "      <td>No</td>\n",
       "      <td>Modified</td>\n",
       "    </tr>\n",
       "  </tbody>\n",
       "</table>\n",
       "<p>5 rows × 37 columns</p>\n",
       "</div>"
      ],
      "text/plain": [
       "                            Prospect ID  Lead Number              Lead Origin  \\\n",
       "0  7927b2df-8bba-4d29-b9a2-b6e0beafe620       660737                      API   \n",
       "1  2a272436-5132-4136-86fa-dcc88c88f482       660728                      API   \n",
       "2  8cc8c611-a219-4f35-ad23-fdfd2656bd8a       660727  Landing Page Submission   \n",
       "3  0cc2df48-7cf4-4e39-9de9-19797f9b38cc       660719  Landing Page Submission   \n",
       "4  3256f628-e534-4826-9d63-4a8b88782852       660681  Landing Page Submission   \n",
       "\n",
       "      Lead Source Do Not Email Do Not Call  Converted  TotalVisits  \\\n",
       "0      Olark Chat           No          No          0          0.0   \n",
       "1  Organic Search           No          No          0          5.0   \n",
       "2  Direct Traffic           No          No          1          2.0   \n",
       "3  Direct Traffic           No          No          0          1.0   \n",
       "4          Google           No          No          1          2.0   \n",
       "\n",
       "   Total Time Spent on Website  Page Views Per Visit  ...  \\\n",
       "0                            0                   0.0  ...   \n",
       "1                          674                   2.5  ...   \n",
       "2                         1532                   2.0  ...   \n",
       "3                          305                   1.0  ...   \n",
       "4                         1428                   1.0  ...   \n",
       "\n",
       "  Get updates on DM Content    Lead Profile    City  \\\n",
       "0                        No          Select  Select   \n",
       "1                        No          Select  Select   \n",
       "2                        No  Potential Lead  Mumbai   \n",
       "3                        No          Select  Mumbai   \n",
       "4                        No          Select  Mumbai   \n",
       "\n",
       "  Asymmetrique Activity Index Asymmetrique Profile Index  \\\n",
       "0                   02.Medium                  02.Medium   \n",
       "1                   02.Medium                  02.Medium   \n",
       "2                   02.Medium                    01.High   \n",
       "3                   02.Medium                    01.High   \n",
       "4                   02.Medium                    01.High   \n",
       "\n",
       "  Asymmetrique Activity Score Asymmetrique Profile Score  \\\n",
       "0                        15.0                       15.0   \n",
       "1                        15.0                       15.0   \n",
       "2                        14.0                       20.0   \n",
       "3                        13.0                       17.0   \n",
       "4                        15.0                       18.0   \n",
       "\n",
       "  I agree to pay the amount through cheque  \\\n",
       "0                                       No   \n",
       "1                                       No   \n",
       "2                                       No   \n",
       "3                                       No   \n",
       "4                                       No   \n",
       "\n",
       "  A free copy of Mastering The Interview Last Notable Activity  \n",
       "0                                     No              Modified  \n",
       "1                                     No          Email Opened  \n",
       "2                                    Yes          Email Opened  \n",
       "3                                     No              Modified  \n",
       "4                                     No              Modified  \n",
       "\n",
       "[5 rows x 37 columns]"
      ]
     },
     "execution_count": 3,
     "metadata": {},
     "output_type": "execute_result"
    }
   ],
   "source": [
    "# Checking the head of the dataframe\n",
    "Lead.head()"
   ]
  },
  {
   "cell_type": "code",
   "execution_count": 4,
   "id": "97af343c",
   "metadata": {},
   "outputs": [
    {
     "name": "stdout",
     "output_type": "stream",
     "text": [
      "<class 'pandas.core.frame.DataFrame'>\n",
      "RangeIndex: 9240 entries, 0 to 9239\n",
      "Data columns (total 37 columns):\n",
      " #   Column                                         Non-Null Count  Dtype  \n",
      "---  ------                                         --------------  -----  \n",
      " 0   Prospect ID                                    9240 non-null   object \n",
      " 1   Lead Number                                    9240 non-null   int64  \n",
      " 2   Lead Origin                                    9240 non-null   object \n",
      " 3   Lead Source                                    9204 non-null   object \n",
      " 4   Do Not Email                                   9240 non-null   object \n",
      " 5   Do Not Call                                    9240 non-null   object \n",
      " 6   Converted                                      9240 non-null   int64  \n",
      " 7   TotalVisits                                    9103 non-null   float64\n",
      " 8   Total Time Spent on Website                    9240 non-null   int64  \n",
      " 9   Page Views Per Visit                           9103 non-null   float64\n",
      " 10  Last Activity                                  9137 non-null   object \n",
      " 11  Country                                        6779 non-null   object \n",
      " 12  Specialization                                 7802 non-null   object \n",
      " 13  How did you hear about X Education             7033 non-null   object \n",
      " 14  What is your current occupation                6550 non-null   object \n",
      " 15  What matters most to you in choosing a course  6531 non-null   object \n",
      " 16  Search                                         9240 non-null   object \n",
      " 17  Magazine                                       9240 non-null   object \n",
      " 18  Newspaper Article                              9240 non-null   object \n",
      " 19  X Education Forums                             9240 non-null   object \n",
      " 20  Newspaper                                      9240 non-null   object \n",
      " 21  Digital Advertisement                          9240 non-null   object \n",
      " 22  Through Recommendations                        9240 non-null   object \n",
      " 23  Receive More Updates About Our Courses         9240 non-null   object \n",
      " 24  Tags                                           5887 non-null   object \n",
      " 25  Lead Quality                                   4473 non-null   object \n",
      " 26  Update me on Supply Chain Content              9240 non-null   object \n",
      " 27  Get updates on DM Content                      9240 non-null   object \n",
      " 28  Lead Profile                                   6531 non-null   object \n",
      " 29  City                                           7820 non-null   object \n",
      " 30  Asymmetrique Activity Index                    5022 non-null   object \n",
      " 31  Asymmetrique Profile Index                     5022 non-null   object \n",
      " 32  Asymmetrique Activity Score                    5022 non-null   float64\n",
      " 33  Asymmetrique Profile Score                     5022 non-null   float64\n",
      " 34  I agree to pay the amount through cheque       9240 non-null   object \n",
      " 35  A free copy of Mastering The Interview         9240 non-null   object \n",
      " 36  Last Notable Activity                          9240 non-null   object \n",
      "dtypes: float64(4), int64(3), object(30)\n",
      "memory usage: 2.6+ MB\n"
     ]
    }
   ],
   "source": [
    "# Checking if there are any null or missing values in the dataframe \n",
    "Lead.info()"
   ]
  },
  {
   "cell_type": "code",
   "execution_count": 5,
   "id": "92bcf7f6",
   "metadata": {},
   "outputs": [
    {
     "data": {
      "text/plain": [
       "(9240, 37)"
      ]
     },
     "execution_count": 5,
     "metadata": {},
     "output_type": "execute_result"
    }
   ],
   "source": [
    "# Checking the dimensions of the dataframe\n",
    "Lead.shape"
   ]
  },
  {
   "cell_type": "markdown",
   "id": "ab77e608",
   "metadata": {},
   "source": [
    "Here, we can see the presence of few categorical values for which we have to create dummy variables as well as the presence of null values can also be observed."
   ]
  },
  {
   "cell_type": "code",
   "execution_count": 6,
   "id": "a02f7d3d",
   "metadata": {},
   "outputs": [
    {
     "data": {
      "text/plain": [
       "True"
      ]
     },
     "execution_count": 6,
     "metadata": {},
     "output_type": "execute_result"
    }
   ],
   "source": [
    "#checking for the duplicate values\n",
    "sum(Lead.duplicated(subset = 'Prospect ID')) == 0"
   ]
  },
  {
   "cell_type": "code",
   "execution_count": 7,
   "id": "f97bd3f3",
   "metadata": {},
   "outputs": [
    {
     "data": {
      "text/plain": [
       "True"
      ]
     },
     "execution_count": 7,
     "metadata": {},
     "output_type": "execute_result"
    }
   ],
   "source": [
    "#check for duplicates\n",
    "sum(Lead.duplicated(subset = 'Lead Number')) == 0"
   ]
  },
  {
   "cell_type": "markdown",
   "id": "c97ae281",
   "metadata": {},
   "source": [
    "### Hence, no duplicate values exist in 'Prospect ID' and 'Lead Number'"
   ]
  },
  {
   "cell_type": "markdown",
   "id": "c9bbd369",
   "metadata": {},
   "source": [
    "# EDA"
   ]
  },
  {
   "cell_type": "markdown",
   "id": "76174264",
   "metadata": {},
   "source": [
    "### Data Cleaning\n",
    "#### Identifying Missing Values"
   ]
  },
  {
   "cell_type": "code",
   "execution_count": 8,
   "id": "fb115fc5",
   "metadata": {},
   "outputs": [],
   "source": [
    "# dropping Lead Number and Prospect ID since they have unique values only\n",
    "\n",
    "Lead.drop(['Prospect ID', 'Lead Number'], 1, inplace = True)"
   ]
  },
  {
   "cell_type": "markdown",
   "id": "44ec7b9e",
   "metadata": {},
   "source": [
    "### Some columns are having \"Select\" values i.e., the customer has not filled any data. We need to replace these select values with \"Nan\""
   ]
  },
  {
   "cell_type": "code",
   "execution_count": 9,
   "id": "40626a67",
   "metadata": {},
   "outputs": [],
   "source": [
    "# Replacing 'Select' values with Nan\n",
    "Lead=Lead.replace(\"Select\", np.nan)"
   ]
  },
  {
   "cell_type": "code",
   "execution_count": 10,
   "id": "ed20318f",
   "metadata": {},
   "outputs": [
    {
     "data": {
      "text/plain": [
       "Lead Origin                                         0\n",
       "Lead Source                                        36\n",
       "Do Not Email                                        0\n",
       "Do Not Call                                         0\n",
       "Converted                                           0\n",
       "TotalVisits                                       137\n",
       "Total Time Spent on Website                         0\n",
       "Page Views Per Visit                              137\n",
       "Last Activity                                     103\n",
       "Country                                          2461\n",
       "Specialization                                   3380\n",
       "How did you hear about X Education               7250\n",
       "What is your current occupation                  2690\n",
       "What matters most to you in choosing a course    2709\n",
       "Search                                              0\n",
       "Magazine                                            0\n",
       "Newspaper Article                                   0\n",
       "X Education Forums                                  0\n",
       "Newspaper                                           0\n",
       "Digital Advertisement                               0\n",
       "Through Recommendations                             0\n",
       "Receive More Updates About Our Courses              0\n",
       "Tags                                             3353\n",
       "Lead Quality                                     4767\n",
       "Update me on Supply Chain Content                   0\n",
       "Get updates on DM Content                           0\n",
       "Lead Profile                                     6855\n",
       "City                                             3669\n",
       "Asymmetrique Activity Index                      4218\n",
       "Asymmetrique Profile Index                       4218\n",
       "Asymmetrique Activity Score                      4218\n",
       "Asymmetrique Profile Score                       4218\n",
       "I agree to pay the amount through cheque            0\n",
       "A free copy of Mastering The Interview              0\n",
       "Last Notable Activity                               0\n",
       "dtype: int64"
      ]
     },
     "execution_count": 10,
     "metadata": {},
     "output_type": "execute_result"
    }
   ],
   "source": [
    "# Checking for count of missing values in each column\n",
    "Lead.isnull().sum()"
   ]
  },
  {
   "cell_type": "code",
   "execution_count": 11,
   "id": "3b45797e",
   "metadata": {},
   "outputs": [
    {
     "data": {
      "text/plain": [
       "Lead Origin                                       0.00\n",
       "Lead Source                                       0.39\n",
       "Do Not Email                                      0.00\n",
       "Do Not Call                                       0.00\n",
       "Converted                                         0.00\n",
       "TotalVisits                                       1.48\n",
       "Total Time Spent on Website                       0.00\n",
       "Page Views Per Visit                              1.48\n",
       "Last Activity                                     1.11\n",
       "Country                                          26.63\n",
       "Specialization                                   36.58\n",
       "How did you hear about X Education               78.46\n",
       "What is your current occupation                  29.11\n",
       "What matters most to you in choosing a course    29.32\n",
       "Search                                            0.00\n",
       "Magazine                                          0.00\n",
       "Newspaper Article                                 0.00\n",
       "X Education Forums                                0.00\n",
       "Newspaper                                         0.00\n",
       "Digital Advertisement                             0.00\n",
       "Through Recommendations                           0.00\n",
       "Receive More Updates About Our Courses            0.00\n",
       "Tags                                             36.29\n",
       "Lead Quality                                     51.59\n",
       "Update me on Supply Chain Content                 0.00\n",
       "Get updates on DM Content                         0.00\n",
       "Lead Profile                                     74.19\n",
       "City                                             39.71\n",
       "Asymmetrique Activity Index                      45.65\n",
       "Asymmetrique Profile Index                       45.65\n",
       "Asymmetrique Activity Score                      45.65\n",
       "Asymmetrique Profile Score                       45.65\n",
       "I agree to pay the amount through cheque          0.00\n",
       "A free copy of Mastering The Interview            0.00\n",
       "Last Notable Activity                             0.00\n",
       "dtype: float64"
      ]
     },
     "execution_count": 11,
     "metadata": {},
     "output_type": "execute_result"
    }
   ],
   "source": [
    "# Checking the percentage of null values in each column\n",
    "\n",
    "round(100*(Lead.isnull().sum()/len(Lead.index)), 2)"
   ]
  },
  {
   "cell_type": "markdown",
   "id": "0e5625f2",
   "metadata": {},
   "source": [
    "### Here the columns with high null value percentages will be dropped"
   ]
  },
  {
   "cell_type": "code",
   "execution_count": 12,
   "id": "5dcffb05",
   "metadata": {},
   "outputs": [],
   "source": [
    "# Drop all the columns with more than 35% missing values\n",
    "cols=Lead.columns\n",
    "\n",
    "for i in cols:\n",
    "    if((100*(Lead[i].isnull().sum()/len(Lead.index))) >= 35):\n",
    "        Lead.drop(i, 1, inplace = True)"
   ]
  },
  {
   "cell_type": "code",
   "execution_count": 13,
   "id": "0d42cdf0",
   "metadata": {},
   "outputs": [
    {
     "data": {
      "text/plain": [
       "Lead Origin                                       0.00\n",
       "Lead Source                                       0.39\n",
       "Do Not Email                                      0.00\n",
       "Do Not Call                                       0.00\n",
       "Converted                                         0.00\n",
       "TotalVisits                                       1.48\n",
       "Total Time Spent on Website                       0.00\n",
       "Page Views Per Visit                              1.48\n",
       "Last Activity                                     1.11\n",
       "Country                                          26.63\n",
       "What is your current occupation                  29.11\n",
       "What matters most to you in choosing a course    29.32\n",
       "Search                                            0.00\n",
       "Magazine                                          0.00\n",
       "Newspaper Article                                 0.00\n",
       "X Education Forums                                0.00\n",
       "Newspaper                                         0.00\n",
       "Digital Advertisement                             0.00\n",
       "Through Recommendations                           0.00\n",
       "Receive More Updates About Our Courses            0.00\n",
       "Update me on Supply Chain Content                 0.00\n",
       "Get updates on DM Content                         0.00\n",
       "I agree to pay the amount through cheque          0.00\n",
       "A free copy of Mastering The Interview            0.00\n",
       "Last Notable Activity                             0.00\n",
       "dtype: float64"
      ]
     },
     "execution_count": 13,
     "metadata": {},
     "output_type": "execute_result"
    }
   ],
   "source": [
    "# Checking the percentage of null values in each column after dropping columns with more than 70% missing values\n",
    "\n",
    "round(100*(Lead.isnull().sum()/len(Lead.index)), 2)"
   ]
  },
  {
   "cell_type": "markdown",
   "id": "af3a23af",
   "metadata": {},
   "source": [
    "### Categorical Attributes Analysis:\n",
    "#### Imbalanced Variables"
   ]
  },
  {
   "cell_type": "code",
   "execution_count": 14,
   "id": "06e2c187",
   "metadata": {},
   "outputs": [
    {
     "data": {
      "image/png": "[encoded data removed]",
      "text/plain": [
       "<Figure size 1440x864 with 12 Axes>"
      ]
     },
     "metadata": {
      "needs_background": "light"
     },
     "output_type": "display_data"
    }
   ],
   "source": [
    "# Visualzing the variables for imbalancing\n",
    "fig, axs = plt.subplots(3,4,figsize = (20,12))\n",
    "sns.countplot(x = \"Search\", hue = \"Converted\", data = Lead, ax = axs[0,0],palette = 'rocket')\n",
    "sns.countplot(x = \"Magazine\", hue = \"Converted\", data = Lead, ax = axs[0,1],palette = 'rocket')\n",
    "sns.countplot(x = \"Newspaper Article\", hue = \"Converted\", data = Lead, ax = axs[0,2],palette = 'rocket')\n",
    "sns.countplot(x = \"X Education Forums\", hue = \"Converted\", data = Lead, ax = axs[0,3],palette = 'rocket')\n",
    "sns.countplot(x = \"Newspaper\", hue = \"Converted\", data = Lead, ax = axs[1,0],palette = 'rocket')\n",
    "sns.countplot(x = \"Digital Advertisement\", hue = \"Converted\", data = Lead, ax = axs[1,1],palette = 'rocket')\n",
    "sns.countplot(x = \"Through Recommendations\", hue = \"Converted\", data = Lead, ax = axs[1,2],palette = 'rocket')\n",
    "sns.countplot(x = \"Receive More Updates About Our Courses\", hue = \"Converted\", data = Lead, ax = axs[1,3],palette = 'rocket')\n",
    "sns.countplot(x = \"Update me on Supply Chain Content\", hue = \"Converted\", data = Lead, ax = axs[2,0],palette = 'rocket')\n",
    "sns.countplot(x = \"Get updates on DM Content\", hue = \"Converted\", data = Lead, ax = axs[2,1],palette = 'rocket')\n",
    "sns.countplot(x = \"I agree to pay the amount through cheque\", hue = \"Converted\", data = Lead, ax = axs[2,2],palette = 'rocket')\n",
    "sns.countplot(x = \"A free copy of Mastering The Interview\", hue = \"Converted\", data = Lead, ax = axs[2,3],palette = 'rocket')\n",
    "plt.show()"
   ]
  },
  {
   "cell_type": "markdown",
   "id": "2f072c3c",
   "metadata": {},
   "source": [
    "#### Inference\n",
    "\n",
    "- For all the above columns except 'A free copy of Mastering The Interview', the data is highly imbalanced, thus we will drop them\n",
    "- However, \"A free copy of Mastering The Interview\" is a redundant variable so we will drop this column also"
   ]
  },
  {
   "cell_type": "code",
   "execution_count": 15,
   "id": "98e57b71",
   "metadata": {},
   "outputs": [],
   "source": [
    "# creating a list of columns to be dropped\n",
    "\n",
    "cols_to_drop=(['Search','Magazine','Newspaper Article','X Education Forums','Newspaper',\n",
    "                 'Digital Advertisement','Through Recommendations','Receive More Updates About Our Courses',\n",
    "                 'Update me on Supply Chain Content',\n",
    "                 'Get updates on DM Content','I agree to pay the amount through cheque','A free copy of Mastering The Interview'])"
   ]
  },
  {
   "cell_type": "markdown",
   "id": "05fe925a",
   "metadata": {},
   "source": [
    "#### Lead Source"
   ]
  },
  {
   "cell_type": "code",
   "execution_count": 16,
   "id": "9a5b299b",
   "metadata": {},
   "outputs": [
    {
     "data": {
      "text/plain": [
       "Google               2868\n",
       "Direct Traffic       2543\n",
       "Olark Chat           1755\n",
       "Organic Search       1154\n",
       "Reference             534\n",
       "Welingak Website      142\n",
       "Referral Sites        125\n",
       "Facebook               55\n",
       "NaN                    36\n",
       "bing                    6\n",
       "google                  5\n",
       "Click2call              4\n",
       "Press_Release           2\n",
       "Social Media            2\n",
       "Live Chat               2\n",
       "youtubechannel          1\n",
       "testone                 1\n",
       "Pay per Click Ads       1\n",
       "welearnblog_Home        1\n",
       "WeLearn                 1\n",
       "blog                    1\n",
       "NC_EDM                  1\n",
       "Name: Lead Source, dtype: int64"
      ]
     },
     "execution_count": 16,
     "metadata": {},
     "output_type": "execute_result"
    }
   ],
   "source": [
    "# checking the value counts of Lead Source column\n",
    "\n",
    "Lead['Lead Source'].value_counts(dropna=False)"
   ]
  },
  {
   "cell_type": "markdown",
   "id": "e8c26005",
   "metadata": {},
   "source": [
    "#### Google is having the highest number of occurences, hence we will impute the missing values with 'Google'."
   ]
  },
  {
   "cell_type": "code",
   "execution_count": 17,
   "id": "40546c5a",
   "metadata": {},
   "outputs": [],
   "source": [
    "# Replacing the Nan Values with Google\n",
    "Lead['Lead Source'] = Lead['Lead Source'].replace(np.nan,'Google')\n",
    "\n",
    "# 'Lead Source' is having same label name 'Google' but in different format i.e 'google', So converting google to Google\n",
    "Lead['Lead Source'] = Lead['Lead Source'].replace('google','Google')"
   ]
  },
  {
   "cell_type": "code",
   "execution_count": 18,
   "id": "7394054a",
   "metadata": {},
   "outputs": [],
   "source": [
    "# Combining low frequency values to Others\n",
    "\n",
    "Lead['Lead Source'] = Lead['Lead Source'].replace(['bing','Click2call','Press_Release',\n",
    "                                                     'youtubechannel','welearnblog_Home',\n",
    "                                                     'WeLearn','blog','Pay per Click Ads',\n",
    "                                                    'testone','NC_EDM','Live Chat'] ,'Others')"
   ]
  },
  {
   "cell_type": "code",
   "execution_count": 19,
   "id": "e95bb14c",
   "metadata": {},
   "outputs": [
    {
     "data": {
      "image/png": "[encoded data removed]",
      "text/plain": [
       "<Figure size 1080x360 with 1 Axes>"
      ]
     },
     "metadata": {
      "needs_background": "light"
     },
     "output_type": "display_data"
    }
   ],
   "source": [
    "# Visualizing the count of Lead Source Variable based on Converted value\n",
    "plt.figure(figsize=(15,5))\n",
    "s1=sns.countplot(x= 'Lead Source', hue='Converted' , data =Lead , palette = 'rocket')\n",
    "s1.set_xticklabels(s1.get_xticklabels(),rotation=45)\n",
    "plt.show()"
   ]
  },
  {
   "cell_type": "markdown",
   "id": "b4fbd7ef",
   "metadata": {},
   "source": [
    "#### Inference\n",
    "\n",
    "- Maximum Leads are generated by Google and Direct Traffic.\n",
    "- Conversion rate of Reference and Welinkgak Website leads is the highest."
   ]
  },
  {
   "cell_type": "markdown",
   "id": "e8ddcf8c",
   "metadata": {},
   "source": [
    "### Country"
   ]
  },
  {
   "cell_type": "code",
   "execution_count": 20,
   "id": "05fdb669",
   "metadata": {},
   "outputs": [
    {
     "data": {
      "text/plain": [
       "India                   6492\n",
       "NaN                     2461\n",
       "United States             69\n",
       "United Arab Emirates      53\n",
       "Singapore                 24\n",
       "Saudi Arabia              21\n",
       "United Kingdom            15\n",
       "Australia                 13\n",
       "Qatar                     10\n",
       "Bahrain                    7\n",
       "Hong Kong                  7\n",
       "Oman                       6\n",
       "France                     6\n",
       "unknown                    5\n",
       "Kuwait                     4\n",
       "South Africa               4\n",
       "Canada                     4\n",
       "Nigeria                    4\n",
       "Germany                    4\n",
       "Sweden                     3\n",
       "Philippines                2\n",
       "Uganda                     2\n",
       "Italy                      2\n",
       "Bangladesh                 2\n",
       "Netherlands                2\n",
       "Asia/Pacific Region        2\n",
       "China                      2\n",
       "Belgium                    2\n",
       "Ghana                      2\n",
       "Kenya                      1\n",
       "Sri Lanka                  1\n",
       "Tanzania                   1\n",
       "Malaysia                   1\n",
       "Liberia                    1\n",
       "Switzerland                1\n",
       "Denmark                    1\n",
       "Russia                     1\n",
       "Vietnam                    1\n",
       "Indonesia                  1\n",
       "Name: Country, dtype: int64"
      ]
     },
     "execution_count": 20,
     "metadata": {},
     "output_type": "execute_result"
    }
   ],
   "source": [
    "# Checking the value counts of Country column\n",
    "\n",
    "Lead['Country'].value_counts(dropna=False)"
   ]
  },
  {
   "cell_type": "markdown",
   "id": "16e83144",
   "metadata": {},
   "source": [
    "### Since, missing values are very high , we can impute all missing values with value 'No data'"
   ]
  },
  {
   "cell_type": "code",
   "execution_count": 21,
   "id": "c7c65df8",
   "metadata": {},
   "outputs": [],
   "source": [
    "# Imputing the missing values in Country column with \"'no data\"\n",
    "Lead['Country'] = Lead['Country'].replace(np.nan,'No data')"
   ]
  },
  {
   "cell_type": "code",
   "execution_count": 22,
   "id": "e40a5189",
   "metadata": {},
   "outputs": [
    {
     "data": {
      "image/png": "[encoded data removed]",
      "text/plain": [
       "<Figure size 1080x360 with 1 Axes>"
      ]
     },
     "metadata": {
      "needs_background": "light"
     },
     "output_type": "display_data"
    }
   ],
   "source": [
    "# Visualizing the Country variable after imputation\n",
    "plt.figure(figsize=(15,5))\n",
    "s1=sns.countplot(x= 'Country', hue='Converted' , data =Lead , palette = 'rocket')\n",
    "s1.set_xticklabels(s1.get_xticklabels(),rotation=90)\n",
    "plt.show()"
   ]
  },
  {
   "cell_type": "markdown",
   "id": "0a8c1e88",
   "metadata": {},
   "source": [
    "#### Inference\n",
    "As we can see that most of the data consists of the value 'India', no inference can be drawn from this parameter.Hence, we can drop this column."
   ]
  },
  {
   "cell_type": "code",
   "execution_count": 23,
   "id": "ba4a78f0",
   "metadata": {},
   "outputs": [
    {
     "data": {
      "text/plain": [
       "['Search',\n",
       " 'Magazine',\n",
       " 'Newspaper Article',\n",
       " 'X Education Forums',\n",
       " 'Newspaper',\n",
       " 'Digital Advertisement',\n",
       " 'Through Recommendations',\n",
       " 'Receive More Updates About Our Courses',\n",
       " 'Update me on Supply Chain Content',\n",
       " 'Get updates on DM Content',\n",
       " 'I agree to pay the amount through cheque',\n",
       " 'A free copy of Mastering The Interview',\n",
       " 'Country']"
      ]
     },
     "execution_count": 23,
     "metadata": {},
     "output_type": "execute_result"
    }
   ],
   "source": [
    "# Creating a list of columns to be dropped\n",
    "\n",
    "cols_to_drop.append('Country')\n",
    "\n",
    "# Checking the list of columns to be dropped\n",
    "cols_to_drop"
   ]
  },
  {
   "cell_type": "markdown",
   "id": "0288a9b5",
   "metadata": {},
   "source": [
    "### What is your current occupation"
   ]
  },
  {
   "cell_type": "code",
   "execution_count": 24,
   "id": "a513104f",
   "metadata": {},
   "outputs": [
    {
     "data": {
      "text/plain": [
       "Unemployed              5600\n",
       "NaN                     2690\n",
       "Working Professional     706\n",
       "Student                  210\n",
       "Other                     16\n",
       "Housewife                 10\n",
       "Businessman                8\n",
       "Name: What is your current occupation, dtype: int64"
      ]
     },
     "execution_count": 24,
     "metadata": {},
     "output_type": "execute_result"
    }
   ],
   "source": [
    "# Checking value counts of 'What is your current occupation' column\n",
    "Lead['What is your current occupation'].value_counts(dropna=False)"
   ]
  },
  {
   "cell_type": "markdown",
   "id": "ce831c70",
   "metadata": {},
   "source": [
    "#### Since no information has been provided regarding occupation, we can replace missing values with new category 'No data'"
   ]
  },
  {
   "cell_type": "code",
   "execution_count": 25,
   "id": "ac9c4e6b",
   "metadata": {},
   "outputs": [],
   "source": [
    "# Creating a new category 'No data'\n",
    "\n",
    "Lead['What is your current occupation'] = Lead['What is your current occupation'].replace(np.nan, 'No data')"
   ]
  },
  {
   "cell_type": "code",
   "execution_count": 26,
   "id": "38911d58",
   "metadata": {},
   "outputs": [
    {
     "data": {
      "image/png": "[encoded data removed]",
      "text/plain": [
       "<Figure size 432x288 with 1 Axes>"
      ]
     },
     "metadata": {
      "needs_background": "light"
     },
     "output_type": "display_data"
    }
   ],
   "source": [
    "# Visualizing the count of variables based on Converted value\n",
    "\n",
    "s1=sns.countplot(x='What is your current occupation', hue='Converted' , data = Lead , palette = 'rocket')\n",
    "s1.set_xticklabels(s1.get_xticklabels(),rotation=45)\n",
    "plt.show()"
   ]
  },
  {
   "cell_type": "markdown",
   "id": "d7f9f5f4",
   "metadata": {},
   "source": [
    "#### Inference\n",
    "\n",
    "- Maximum leads generated are unemployed and their conversion rate is more than 50%.\n",
    "- Conversion rate of working professionals is very high."
   ]
  },
  {
   "cell_type": "markdown",
   "id": "fe756190",
   "metadata": {},
   "source": [
    "### What matters most to you in choosing a course"
   ]
  },
  {
   "cell_type": "code",
   "execution_count": 27,
   "id": "2b3dea1b",
   "metadata": {},
   "outputs": [
    {
     "data": {
      "text/plain": [
       "Better Career Prospects      6528\n",
       "NaN                          2709\n",
       "Flexibility & Convenience       2\n",
       "Other                           1\n",
       "Name: What matters most to you in choosing a course, dtype: int64"
      ]
     },
     "execution_count": 27,
     "metadata": {},
     "output_type": "execute_result"
    }
   ],
   "source": [
    "# Checking the value counts of 'What matters most to you in choosing a course'\n",
    "\n",
    "Lead['What matters most to you in choosing a course'].value_counts(dropna=False)"
   ]
  },
  {
   "cell_type": "markdown",
   "id": "8e5136eb",
   "metadata": {},
   "source": [
    "### It is clearly seen that missing values in the this column can be imputed by 'Better Career Prospects'"
   ]
  },
  {
   "cell_type": "code",
   "execution_count": 28,
   "id": "2212f994",
   "metadata": {},
   "outputs": [],
   "source": [
    "Lead['What matters most to you in choosing a course'] = Lead['What matters most to you in choosing a course'].replace(np.nan,'Better Career Prospects')\n"
   ]
  },
  {
   "cell_type": "code",
   "execution_count": 29,
   "id": "e9902451",
   "metadata": {},
   "outputs": [
    {
     "data": {
      "image/png": "[encoded data removed]",
      "text/plain": [
       "<Figure size 432x288 with 1 Axes>"
      ]
     },
     "metadata": {
      "needs_background": "light"
     },
     "output_type": "display_data"
    }
   ],
   "source": [
    "# Visualizing the count of variables based on Converted value\n",
    "\n",
    "s1=sns.countplot(x= 'What matters most to you in choosing a course', hue='Converted' , data = Lead , palette = 'rocket')\n",
    "s1.set_xticklabels(s1.get_xticklabels(),rotation=45)\n",
    "plt.show()"
   ]
  },
  {
   "cell_type": "markdown",
   "id": "fedd81d7",
   "metadata": {},
   "source": [
    "### Inference\n",
    "This column's spread of variance is very low , hence it can be dropped."
   ]
  },
  {
   "cell_type": "code",
   "execution_count": 30,
   "id": "36d1c989",
   "metadata": {},
   "outputs": [
    {
     "data": {
      "text/plain": [
       "['Search',\n",
       " 'Magazine',\n",
       " 'Newspaper Article',\n",
       " 'X Education Forums',\n",
       " 'Newspaper',\n",
       " 'Digital Advertisement',\n",
       " 'Through Recommendations',\n",
       " 'Receive More Updates About Our Courses',\n",
       " 'Update me on Supply Chain Content',\n",
       " 'Get updates on DM Content',\n",
       " 'I agree to pay the amount through cheque',\n",
       " 'A free copy of Mastering The Interview',\n",
       " 'Country',\n",
       " 'What matters most to you in choosing a course']"
      ]
     },
     "execution_count": 30,
     "metadata": {},
     "output_type": "execute_result"
    }
   ],
   "source": [
    "# Append 'What matters most to you in choosing a course'to the cols_to_drop List\n",
    "cols_to_drop.append('What matters most to you in choosing a course')\n",
    "\n",
    "#checking updated list for columns to be dropped\n",
    "cols_to_drop"
   ]
  },
  {
   "cell_type": "markdown",
   "id": "db790f7d",
   "metadata": {},
   "source": [
    "### Last Activity"
   ]
  },
  {
   "cell_type": "code",
   "execution_count": 31,
   "id": "c6023880",
   "metadata": {},
   "outputs": [
    {
     "data": {
      "text/plain": [
       "Email Opened                    3437\n",
       "SMS Sent                        2745\n",
       "Olark Chat Conversation          973\n",
       "Page Visited on Website          640\n",
       "Converted to Lead                428\n",
       "Email Bounced                    326\n",
       "Email Link Clicked               267\n",
       "Form Submitted on Website        116\n",
       "NaN                              103\n",
       "Unreachable                       93\n",
       "Unsubscribed                      61\n",
       "Had a Phone Conversation          30\n",
       "Approached upfront                 9\n",
       "View in browser link Clicked       6\n",
       "Email Received                     2\n",
       "Email Marked Spam                  2\n",
       "Visited Booth in Tradeshow         1\n",
       "Resubscribed to emails             1\n",
       "Name: Last Activity, dtype: int64"
      ]
     },
     "execution_count": 31,
     "metadata": {},
     "output_type": "execute_result"
    }
   ],
   "source": [
    "# Checking the value counts of Last Activity\n",
    "Lead['Last Activity'].value_counts(dropna=False)"
   ]
  },
  {
   "cell_type": "markdown",
   "id": "21478d02",
   "metadata": {},
   "source": [
    "### Missing values can be imputed with mode value \"Email Opened\""
   ]
  },
  {
   "cell_type": "code",
   "execution_count": 32,
   "id": "3bda4900",
   "metadata": {},
   "outputs": [],
   "source": [
    "# Replacing Nan Values with mode value \"Email Opened\"\n",
    "\n",
    "Lead['Last Activity'] = Lead['Last Activity'].replace(np.nan,'Email Opened')"
   ]
  },
  {
   "cell_type": "code",
   "execution_count": 33,
   "id": "1537c04f",
   "metadata": {},
   "outputs": [],
   "source": [
    "# Combining the low frequency values\n",
    "Lead['Last Activity'] = Lead['Last Activity'].replace(['Unreachable','Unsubscribed',\n",
    "                                                       'Had a Phone Conversation', \n",
    "                                                       'Approached upfront',\n",
    "                                                        'View in browser link Clicked',       \n",
    "                                                        'Email Marked Spam',                  \n",
    "                                                        'Email Received','Resubscribed to emails',\n",
    "                                                         'Visited Booth in Tradeshow'],'Others')"
   ]
  },
  {
   "cell_type": "code",
   "execution_count": 34,
   "id": "16ba6a8d",
   "metadata": {},
   "outputs": [
    {
     "data": {
      "image/png": "[encoded data removed]",
      "text/plain": [
       "<Figure size 1080x360 with 1 Axes>"
      ]
     },
     "metadata": {
      "needs_background": "light"
     },
     "output_type": "display_data"
    }
   ],
   "source": [
    "# Visualizing the count of Last Activity Variable \n",
    "\n",
    "plt.figure(figsize=(15,5))\n",
    "s1=sns.countplot(x='Last Activity', hue='Converted' , data = Lead , palette = 'rocket')\n",
    "s1.set_xticklabels(s1.get_xticklabels(),rotation=90)\n",
    "plt.show()"
   ]
  },
  {
   "cell_type": "markdown",
   "id": "ee9daa5d",
   "metadata": {},
   "source": [
    "### Inference\n",
    "\n",
    "- Maximum leads are generated having last activity as Email opened, but the conversion rate is not satisfactory.\n",
    "- Last acitivity as SMS sent has high conversion rate."
   ]
  },
  {
   "cell_type": "code",
   "execution_count": 35,
   "id": "4f539ac6",
   "metadata": {},
   "outputs": [
    {
     "data": {
      "text/plain": [
       "['Search',\n",
       " 'Magazine',\n",
       " 'Newspaper Article',\n",
       " 'X Education Forums',\n",
       " 'Newspaper',\n",
       " 'Digital Advertisement',\n",
       " 'Through Recommendations',\n",
       " 'Receive More Updates About Our Courses',\n",
       " 'Update me on Supply Chain Content',\n",
       " 'Get updates on DM Content',\n",
       " 'I agree to pay the amount through cheque',\n",
       " 'A free copy of Mastering The Interview',\n",
       " 'Country',\n",
       " 'What matters most to you in choosing a course',\n",
       " 'Last Activity']"
      ]
     },
     "execution_count": 35,
     "metadata": {},
     "output_type": "execute_result"
    }
   ],
   "source": [
    "# Append 'Last Activity' to the cols_to_drop List because it is X-education's sales team generated data\n",
    "cols_to_drop.append('Last Activity')\n",
    "\n",
    "#checking updated list for columns to be dropped\n",
    "cols_to_drop"
   ]
  },
  {
   "cell_type": "code",
   "execution_count": 36,
   "id": "0751e52e",
   "metadata": {},
   "outputs": [
    {
     "data": {
      "text/plain": [
       "Lead Origin                                      0.00\n",
       "Lead Source                                      0.00\n",
       "Do Not Email                                     0.00\n",
       "Do Not Call                                      0.00\n",
       "Converted                                        0.00\n",
       "TotalVisits                                      1.48\n",
       "Total Time Spent on Website                      0.00\n",
       "Page Views Per Visit                             1.48\n",
       "Last Activity                                    0.00\n",
       "Country                                          0.00\n",
       "What is your current occupation                  0.00\n",
       "What matters most to you in choosing a course    0.00\n",
       "Search                                           0.00\n",
       "Magazine                                         0.00\n",
       "Newspaper Article                                0.00\n",
       "X Education Forums                               0.00\n",
       "Newspaper                                        0.00\n",
       "Digital Advertisement                            0.00\n",
       "Through Recommendations                          0.00\n",
       "Receive More Updates About Our Courses           0.00\n",
       "Update me on Supply Chain Content                0.00\n",
       "Get updates on DM Content                        0.00\n",
       "I agree to pay the amount through cheque         0.00\n",
       "A free copy of Mastering The Interview           0.00\n",
       "Last Notable Activity                            0.00\n",
       "dtype: float64"
      ]
     },
     "execution_count": 36,
     "metadata": {},
     "output_type": "execute_result"
    }
   ],
   "source": [
    "# Check the Null Values in All Columns after imputation:\n",
    "round(100*(Lead.isnull().sum()/len(Lead.index)), 2)"
   ]
  },
  {
   "cell_type": "code",
   "execution_count": 37,
   "id": "58a24ce3",
   "metadata": {},
   "outputs": [],
   "source": [
    "# Remaining missing values percentage is less than 2%, hence we can drop these rows without affecting the data\n",
    "Lead = Lead.dropna()"
   ]
  },
  {
   "cell_type": "code",
   "execution_count": 38,
   "id": "15612759",
   "metadata": {},
   "outputs": [
    {
     "data": {
      "text/plain": [
       "(9103, 25)"
      ]
     },
     "execution_count": 38,
     "metadata": {},
     "output_type": "execute_result"
    }
   ],
   "source": [
    "Lead.shape"
   ]
  },
  {
   "cell_type": "code",
   "execution_count": 39,
   "id": "37328bb2",
   "metadata": {},
   "outputs": [
    {
     "data": {
      "text/plain": [
       "Lead Origin                                      0.0\n",
       "Lead Source                                      0.0\n",
       "Do Not Email                                     0.0\n",
       "Do Not Call                                      0.0\n",
       "Converted                                        0.0\n",
       "TotalVisits                                      0.0\n",
       "Total Time Spent on Website                      0.0\n",
       "Page Views Per Visit                             0.0\n",
       "Last Activity                                    0.0\n",
       "Country                                          0.0\n",
       "What is your current occupation                  0.0\n",
       "What matters most to you in choosing a course    0.0\n",
       "Search                                           0.0\n",
       "Magazine                                         0.0\n",
       "Newspaper Article                                0.0\n",
       "X Education Forums                               0.0\n",
       "Newspaper                                        0.0\n",
       "Digital Advertisement                            0.0\n",
       "Through Recommendations                          0.0\n",
       "Receive More Updates About Our Courses           0.0\n",
       "Update me on Supply Chain Content                0.0\n",
       "Get updates on DM Content                        0.0\n",
       "I agree to pay the amount through cheque         0.0\n",
       "A free copy of Mastering The Interview           0.0\n",
       "Last Notable Activity                            0.0\n",
       "dtype: float64"
      ]
     },
     "execution_count": 39,
     "metadata": {},
     "output_type": "execute_result"
    }
   ],
   "source": [
    "# Checking the percentage of Null Values in all the Columns:\n",
    "round(100*(Lead.isnull().sum()/len(Lead.index)), 2)"
   ]
  },
  {
   "cell_type": "markdown",
   "id": "86f9f5f8",
   "metadata": {},
   "source": [
    "### Lead Origin"
   ]
  },
  {
   "cell_type": "code",
   "execution_count": 40,
   "id": "8294481e",
   "metadata": {},
   "outputs": [
    {
     "data": {
      "image/png": "[encoded data removed]",
      "text/plain": [
       "<Figure size 432x288 with 1 Axes>"
      ]
     },
     "metadata": {
      "needs_background": "light"
     },
     "output_type": "display_data"
    }
   ],
   "source": [
    "s1=sns.countplot(x='Lead Origin', hue='Converted' , data = Lead , palette = 'rocket')\n",
    "s1.set_xticklabels(s1.get_xticklabels(),rotation=90)\n",
    "plt.show()"
   ]
  },
  {
   "cell_type": "markdown",
   "id": "32aea4ea",
   "metadata": {},
   "source": [
    "### Do Not Email & Do Not Call"
   ]
  },
  {
   "cell_type": "code",
   "execution_count": 41,
   "id": "f917ba4c",
   "metadata": {},
   "outputs": [
    {
     "data": {
      "image/png": "[encoded data removed]",
      "text/plain": [
       "<Figure size 1080x540 with 2 Axes>"
      ]
     },
     "metadata": {
      "needs_background": "light"
     },
     "output_type": "display_data"
    }
   ],
   "source": [
    "fig, axs = plt.subplots(1,2,figsize = (15,7.5))\n",
    "sns.countplot(x = \"Do Not Email\", hue = \"Converted\", data = Lead, ax = axs[0],palette = 'rocket')\n",
    "sns.countplot(x = \"Do Not Call\", hue = \"Converted\", data = Lead, ax = axs[1],palette = 'rocket')\n",
    "plt.show()"
   ]
  },
  {
   "cell_type": "markdown",
   "id": "c61c4523",
   "metadata": {},
   "source": [
    "### We Can append the Do Not Call Column to the list of Columns to be Dropped data is highly skewed"
   ]
  },
  {
   "cell_type": "code",
   "execution_count": 42,
   "id": "8fb9ea09",
   "metadata": {},
   "outputs": [
    {
     "data": {
      "text/plain": [
       "['Search',\n",
       " 'Magazine',\n",
       " 'Newspaper Article',\n",
       " 'X Education Forums',\n",
       " 'Newspaper',\n",
       " 'Digital Advertisement',\n",
       " 'Through Recommendations',\n",
       " 'Receive More Updates About Our Courses',\n",
       " 'Update me on Supply Chain Content',\n",
       " 'Get updates on DM Content',\n",
       " 'I agree to pay the amount through cheque',\n",
       " 'A free copy of Mastering The Interview',\n",
       " 'Country',\n",
       " 'What matters most to you in choosing a course',\n",
       " 'Last Activity',\n",
       " 'Do Not Call']"
      ]
     },
     "execution_count": 42,
     "metadata": {},
     "output_type": "execute_result"
    }
   ],
   "source": [
    "# Append 'Do Not Call' to the cols_to_drop List\n",
    "cols_to_drop.append('Do Not Call')\n",
    "\n",
    "#checking updated list for columns to be dropped\n",
    "cols_to_drop"
   ]
  },
  {
   "cell_type": "markdown",
   "id": "7dc459de",
   "metadata": {},
   "source": [
    "### Last Notable Activity"
   ]
  },
  {
   "cell_type": "code",
   "execution_count": 43,
   "id": "9ecb8803",
   "metadata": {},
   "outputs": [
    {
     "data": {
      "text/plain": [
       "Modified                        3270\n",
       "Email Opened                    2827\n",
       "SMS Sent                        2172\n",
       "Page Visited on Website          318\n",
       "Olark Chat Conversation          183\n",
       "Email Link Clicked               173\n",
       "Email Bounced                     60\n",
       "Unsubscribed                      47\n",
       "Unreachable                       32\n",
       "Had a Phone Conversation          14\n",
       "Email Marked Spam                  2\n",
       "Approached upfront                 1\n",
       "Resubscribed to emails             1\n",
       "View in browser link Clicked       1\n",
       "Form Submitted on Website          1\n",
       "Email Received                     1\n",
       "Name: Last Notable Activity, dtype: int64"
      ]
     },
     "execution_count": 43,
     "metadata": {},
     "output_type": "execute_result"
    }
   ],
   "source": [
    "# Checking the value counts of last Notable Activity\n",
    "Lead['Last Notable Activity'].value_counts()"
   ]
  },
  {
   "cell_type": "code",
   "execution_count": 44,
   "id": "e0549319",
   "metadata": {},
   "outputs": [],
   "source": [
    "#clubbing lower frequency values\n",
    "\n",
    "Lead['Last Notable Activity'] = Lead['Last Notable Activity'].replace(['Had a Phone Conversation',\n",
    "                                                                       'Email Marked Spam',\n",
    "                                                                         'Unreachable',\n",
    "                                                                         'Unsubscribed',\n",
    "                                                                         'Email Bounced',                                                                    \n",
    "                                                                       'Resubscribed to emails',\n",
    "                                                                       'View in browser link Clicked',\n",
    "                                                                       'Approached upfront', \n",
    "                                                                       'Form Submitted on Website', \n",
    "                                                                       'Email Received'],'Others')"
   ]
  },
  {
   "cell_type": "code",
   "execution_count": 45,
   "id": "bc6ff423",
   "metadata": {},
   "outputs": [
    {
     "data": {
      "image/png": "[encoded data removed]",
      "text/plain": [
       "<Figure size 1008x360 with 1 Axes>"
      ]
     },
     "metadata": {
      "needs_background": "light"
     },
     "output_type": "display_data"
    }
   ],
   "source": [
    "#visualizing count of Variable based on Converted value\n",
    "\n",
    "plt.figure(figsize = (14,5))\n",
    "ax1=sns.countplot(x = \"Last Notable Activity\", hue = \"Converted\", data = Lead , palette = 'rocket')\n",
    "ax1.set_xticklabels(ax1.get_xticklabels(),rotation=90)\n",
    "plt.show()"
   ]
  },
  {
   "cell_type": "markdown",
   "id": "be6a16d1",
   "metadata": {},
   "source": [
    "### Inference\n",
    "\n",
    "- Maximum leads are generated having last activity as 'Email opened' but conversion rate is not satisfactory.\n",
    "- Last activity as 'SMS sent' has high conversion rate."
   ]
  },
  {
   "cell_type": "code",
   "execution_count": 46,
   "id": "69813183",
   "metadata": {},
   "outputs": [],
   "source": [
    "# Append 'Last Notable Activity'to the cols_to_drop List as this is a sales team generated data\n",
    "cols_to_drop.append('Last Notable Activity')"
   ]
  },
  {
   "cell_type": "code",
   "execution_count": 47,
   "id": "1e787b51",
   "metadata": {},
   "outputs": [
    {
     "data": {
      "text/plain": [
       "['Search',\n",
       " 'Magazine',\n",
       " 'Newspaper Article',\n",
       " 'X Education Forums',\n",
       " 'Newspaper',\n",
       " 'Digital Advertisement',\n",
       " 'Through Recommendations',\n",
       " 'Receive More Updates About Our Courses',\n",
       " 'Update me on Supply Chain Content',\n",
       " 'Get updates on DM Content',\n",
       " 'I agree to pay the amount through cheque',\n",
       " 'A free copy of Mastering The Interview',\n",
       " 'Country',\n",
       " 'What matters most to you in choosing a course',\n",
       " 'Last Activity',\n",
       " 'Do Not Call',\n",
       " 'Last Notable Activity']"
      ]
     },
     "execution_count": 47,
     "metadata": {},
     "output_type": "execute_result"
    }
   ],
   "source": [
    "# checking final list of columns to be dropped\n",
    "cols_to_drop"
   ]
  },
  {
   "cell_type": "code",
   "execution_count": 48,
   "id": "1ad1732a",
   "metadata": {},
   "outputs": [
    {
     "name": "stdout",
     "output_type": "stream",
     "text": [
      "<class 'pandas.core.frame.DataFrame'>\n",
      "Int64Index: 9103 entries, 0 to 9239\n",
      "Data columns (total 8 columns):\n",
      " #   Column                           Non-Null Count  Dtype  \n",
      "---  ------                           --------------  -----  \n",
      " 0   Lead Origin                      9103 non-null   object \n",
      " 1   Lead Source                      9103 non-null   object \n",
      " 2   Do Not Email                     9103 non-null   object \n",
      " 3   Converted                        9103 non-null   int64  \n",
      " 4   TotalVisits                      9103 non-null   float64\n",
      " 5   Total Time Spent on Website      9103 non-null   int64  \n",
      " 6   Page Views Per Visit             9103 non-null   float64\n",
      " 7   What is your current occupation  9103 non-null   object \n",
      "dtypes: float64(2), int64(2), object(4)\n",
      "memory usage: 898.1+ KB\n"
     ]
    }
   ],
   "source": [
    "#dropping columns\n",
    "leads = Lead.drop(cols_to_drop,1)\n",
    "\n",
    "#checking info of dataset for remaining columns\n",
    "leads.info()"
   ]
  },
  {
   "cell_type": "code",
   "execution_count": 49,
   "id": "7d37ba5d",
   "metadata": {},
   "outputs": [
    {
     "data": {
      "text/html": [
       "<div>\n",
       "<style scoped>\n",
       "    .dataframe tbody tr th:only-of-type {\n",
       "        vertical-align: middle;\n",
       "    }\n",
       "\n",
       "    .dataframe tbody tr th {\n",
       "        vertical-align: top;\n",
       "    }\n",
       "\n",
       "    .dataframe thead th {\n",
       "        text-align: right;\n",
       "    }\n",
       "</style>\n",
       "<table border=\"1\" class=\"dataframe\">\n",
       "  <thead>\n",
       "    <tr style=\"text-align: right;\">\n",
       "      <th></th>\n",
       "      <th>Lead Origin</th>\n",
       "      <th>Lead Source</th>\n",
       "      <th>Do Not Email</th>\n",
       "      <th>Converted</th>\n",
       "      <th>TotalVisits</th>\n",
       "      <th>Total Time Spent on Website</th>\n",
       "      <th>Page Views Per Visit</th>\n",
       "      <th>What is your current occupation</th>\n",
       "    </tr>\n",
       "  </thead>\n",
       "  <tbody>\n",
       "    <tr>\n",
       "      <th>0</th>\n",
       "      <td>API</td>\n",
       "      <td>Olark Chat</td>\n",
       "      <td>No</td>\n",
       "      <td>0</td>\n",
       "      <td>0.0</td>\n",
       "      <td>0</td>\n",
       "      <td>0.0</td>\n",
       "      <td>Unemployed</td>\n",
       "    </tr>\n",
       "    <tr>\n",
       "      <th>1</th>\n",
       "      <td>API</td>\n",
       "      <td>Organic Search</td>\n",
       "      <td>No</td>\n",
       "      <td>0</td>\n",
       "      <td>5.0</td>\n",
       "      <td>674</td>\n",
       "      <td>2.5</td>\n",
       "      <td>Unemployed</td>\n",
       "    </tr>\n",
       "    <tr>\n",
       "      <th>2</th>\n",
       "      <td>Landing Page Submission</td>\n",
       "      <td>Direct Traffic</td>\n",
       "      <td>No</td>\n",
       "      <td>1</td>\n",
       "      <td>2.0</td>\n",
       "      <td>1532</td>\n",
       "      <td>2.0</td>\n",
       "      <td>Student</td>\n",
       "    </tr>\n",
       "    <tr>\n",
       "      <th>3</th>\n",
       "      <td>Landing Page Submission</td>\n",
       "      <td>Direct Traffic</td>\n",
       "      <td>No</td>\n",
       "      <td>0</td>\n",
       "      <td>1.0</td>\n",
       "      <td>305</td>\n",
       "      <td>1.0</td>\n",
       "      <td>Unemployed</td>\n",
       "    </tr>\n",
       "    <tr>\n",
       "      <th>4</th>\n",
       "      <td>Landing Page Submission</td>\n",
       "      <td>Google</td>\n",
       "      <td>No</td>\n",
       "      <td>1</td>\n",
       "      <td>2.0</td>\n",
       "      <td>1428</td>\n",
       "      <td>1.0</td>\n",
       "      <td>Unemployed</td>\n",
       "    </tr>\n",
       "  </tbody>\n",
       "</table>\n",
       "</div>"
      ],
      "text/plain": [
       "               Lead Origin     Lead Source Do Not Email  Converted  \\\n",
       "0                      API      Olark Chat           No          0   \n",
       "1                      API  Organic Search           No          0   \n",
       "2  Landing Page Submission  Direct Traffic           No          1   \n",
       "3  Landing Page Submission  Direct Traffic           No          0   \n",
       "4  Landing Page Submission          Google           No          1   \n",
       "\n",
       "   TotalVisits  Total Time Spent on Website  Page Views Per Visit  \\\n",
       "0          0.0                            0                   0.0   \n",
       "1          5.0                          674                   2.5   \n",
       "2          2.0                         1532                   2.0   \n",
       "3          1.0                          305                   1.0   \n",
       "4          2.0                         1428                   1.0   \n",
       "\n",
       "  What is your current occupation  \n",
       "0                      Unemployed  \n",
       "1                      Unemployed  \n",
       "2                         Student  \n",
       "3                      Unemployed  \n",
       "4                      Unemployed  "
      ]
     },
     "execution_count": 49,
     "metadata": {},
     "output_type": "execute_result"
    }
   ],
   "source": [
    "#checking dataset\n",
    "leads.head()"
   ]
  },
  {
   "cell_type": "markdown",
   "id": "c8fb2092",
   "metadata": {},
   "source": [
    "## Numerical Attributes Analysis:\n",
    "### Converted"
   ]
  },
  {
   "cell_type": "code",
   "execution_count": 50,
   "id": "9b7daf1b",
   "metadata": {},
   "outputs": [
    {
     "data": {
      "image/png": "[encoded data removed]",
      "text/plain": [
       "<Figure size 432x288 with 1 Axes>"
      ]
     },
     "metadata": {
      "needs_background": "light"
     },
     "output_type": "display_data"
    }
   ],
   "source": [
    "# Converted is the target variable. It indicates whether a lead has been successfully converted (1) or not (0).\n",
    "# Visualizing the distribution of 'Converted' variable\n",
    "sns.countplot(leads.Converted)\n",
    "plt.xlabel(\"Converted Status\")\n",
    "plt.ylabel(\"Count of Target\")\n",
    "plt.title(\"Distribution of 'Converted' Variable\")\n",
    "plt.show()"
   ]
  },
  {
   "cell_type": "code",
   "execution_count": 51,
   "id": "a070611a",
   "metadata": {},
   "outputs": [
    {
     "data": {
      "text/plain": [
       "38.02043282434362"
      ]
     },
     "execution_count": 51,
     "metadata": {},
     "output_type": "execute_result"
    }
   ],
   "source": [
    "# Checking the conversion rate\n",
    "Converted = ((sum(leads['Converted'])/len(leads['Converted'].index))*100)\n",
    "Converted"
   ]
  },
  {
   "cell_type": "markdown",
   "id": "263945ba",
   "metadata": {},
   "source": [
    "### Currently, lead Conversion rate is 38% only\n"
   ]
  },
  {
   "cell_type": "code",
   "execution_count": 52,
   "id": "e7e6106e",
   "metadata": {},
   "outputs": [
    {
     "data": {
      "image/png": "[encoded data removed]",
      "text/plain": [
       "<Figure size 720x576 with 2 Axes>"
      ]
     },
     "metadata": {
      "needs_background": "light"
     },
     "output_type": "display_data"
    }
   ],
   "source": [
    "# Checking the correlations of numeric values using heatmap\n",
    "\n",
    "plt.figure(figsize=(10,8))\n",
    "sns.heatmap(leads.corr(), cmap=\"Blues\", annot=True)\n",
    "plt.show()"
   ]
  },
  {
   "cell_type": "markdown",
   "id": "4c399aa6",
   "metadata": {},
   "source": [
    "### Total Visits"
   ]
  },
  {
   "cell_type": "code",
   "execution_count": 53,
   "id": "030b072e",
   "metadata": {},
   "outputs": [
    {
     "data": {
      "image/png": "[encoded data removed]",
      "text/plain": [
       "<Figure size 432x288 with 1 Axes>"
      ]
     },
     "metadata": {
      "needs_background": "light"
     },
     "output_type": "display_data"
    }
   ],
   "source": [
    "# Visualizing the spread of the variable Total Visits\n",
    "\n",
    "sns.boxplot(y=leads['TotalVisits'])\n",
    "plt.show()"
   ]
  },
  {
   "cell_type": "markdown",
   "id": "fdcd9b10",
   "metadata": {},
   "source": [
    "### Presence of outliers is visible in the above boxplot"
   ]
  },
  {
   "cell_type": "code",
   "execution_count": 54,
   "id": "047e7036",
   "metadata": {},
   "outputs": [
    {
     "data": {
      "text/plain": [
       "count    9103.000000\n",
       "mean        3.445238\n",
       "std         4.854853\n",
       "min         0.000000\n",
       "5%          0.000000\n",
       "25%         1.000000\n",
       "50%         3.000000\n",
       "75%         5.000000\n",
       "90%         7.000000\n",
       "95%        10.000000\n",
       "99%        17.000000\n",
       "max       251.000000\n",
       "Name: TotalVisits, dtype: float64"
      ]
     },
     "execution_count": 54,
     "metadata": {},
     "output_type": "execute_result"
    }
   ],
   "source": [
    "# Checking the percentile values for \"Total Visits\"\n",
    "\n",
    "leads['TotalVisits'].describe(percentiles=[0.05,.25, .5, .75, .90, .95, .99])"
   ]
  },
  {
   "cell_type": "code",
   "execution_count": 55,
   "id": "2cbbbf8c",
   "metadata": {},
   "outputs": [
    {
     "data": {
      "image/png": "[encoded data removed]",
      "text/plain": [
       "<Figure size 432x288 with 1 Axes>"
      ]
     },
     "metadata": {
      "needs_background": "light"
     },
     "output_type": "display_data"
    }
   ],
   "source": [
    "# Outlier Treatment: capping the outliers to 95% value for analysis\n",
    "\n",
    "percentiles = leads['TotalVisits'].quantile([0.05,0.95]).values\n",
    "leads['TotalVisits'][leads['TotalVisits'] <= percentiles[0]] = percentiles[0]\n",
    "leads['TotalVisits'][leads['TotalVisits'] >= percentiles[1]] = percentiles[1]\n",
    "\n",
    "#visualizing variable after outlier treatment\n",
    "sns.boxplot(y=leads['TotalVisits'])\n",
    "plt.show()"
   ]
  },
  {
   "cell_type": "code",
   "execution_count": 56,
   "id": "0a4240a3",
   "metadata": {},
   "outputs": [
    {
     "data": {
      "image/png": "[encoded data removed]",
      "text/plain": [
       "<Figure size 432x288 with 1 Axes>"
      ]
     },
     "metadata": {
      "needs_background": "light"
     },
     "output_type": "display_data"
    }
   ],
   "source": [
    "# Visualizing TotalVisits w.r.t Target Variable 'Converted'\n",
    "sns.boxplot(y = 'TotalVisits', x = 'Converted', data = leads)\n",
    "plt.show()"
   ]
  },
  {
   "cell_type": "markdown",
   "id": "f362e5a7",
   "metadata": {},
   "source": [
    "#### Inference\n",
    "As the median for both converted and non-converted leads are same, nothing conclusive can be said on the basis of the variable 'TotalVisits'"
   ]
  },
  {
   "cell_type": "code",
   "execution_count": 57,
   "id": "a1d233b1",
   "metadata": {},
   "outputs": [
    {
     "data": {
      "text/plain": [
       "count    9103.000000\n",
       "mean      481.350104\n",
       "std       545.066142\n",
       "min         0.000000\n",
       "5%          0.000000\n",
       "25%         9.000000\n",
       "50%       244.000000\n",
       "75%       919.500000\n",
       "90%      1372.000000\n",
       "95%      1556.900000\n",
       "99%      1838.960000\n",
       "max      2272.000000\n",
       "Name: Total Time Spent on Website, dtype: float64"
      ]
     },
     "execution_count": 57,
     "metadata": {},
     "output_type": "execute_result"
    }
   ],
   "source": [
    "# Checking the percentiles for \"Total Time Spent on Website\"\n",
    "\n",
    "leads['Total Time Spent on Website'].describe(percentiles=[0.05,.25, .5, .75, .90, .95, .99])"
   ]
  },
  {
   "cell_type": "code",
   "execution_count": 58,
   "id": "3f3aabb9",
   "metadata": {},
   "outputs": [
    {
     "data": {
      "image/png": "[encoded data removed]",
      "text/plain": [
       "<Figure size 432x288 with 1 Axes>"
      ]
     },
     "metadata": {
      "needs_background": "light"
     },
     "output_type": "display_data"
    }
   ],
   "source": [
    "#visualizing spread of variable 'Total Time Spent on Website'\n",
    "sns.boxplot(y = leads['Total Time Spent on Website'])\n",
    "plt.show()"
   ]
  },
  {
   "cell_type": "markdown",
   "id": "328d7b3f",
   "metadata": {},
   "source": [
    "Since there are no major outliers for the above variable, outlier treatment is not required for it"
   ]
  },
  {
   "cell_type": "code",
   "execution_count": 59,
   "id": "6f260776",
   "metadata": {},
   "outputs": [
    {
     "data": {
      "image/png": "[encoded data removed]",
      "text/plain": [
       "<Figure size 432x288 with 1 Axes>"
      ]
     },
     "metadata": {
      "needs_background": "light"
     },
     "output_type": "display_data"
    }
   ],
   "source": [
    "# Visualizing 'Total Time Spent on Website' w.r.t Target Variable 'converted'\n",
    "sns.boxplot(y = 'Total Time Spent on Website', x = 'Converted', data = leads)\n",
    "plt.show()"
   ]
  },
  {
   "cell_type": "markdown",
   "id": "af7cef9e",
   "metadata": {},
   "source": [
    "#### Inference\n",
    "As can be seen, leads spending more time on website are more likely to convert , thus website should be made more enagaging to increase conversion rate"
   ]
  },
  {
   "cell_type": "markdown",
   "id": "26332fc2",
   "metadata": {},
   "source": [
    "### Page views per visit"
   ]
  },
  {
   "cell_type": "code",
   "execution_count": 60,
   "id": "52499166",
   "metadata": {},
   "outputs": [
    {
     "data": {
      "text/plain": [
       "count    9103.000000\n",
       "mean        2.362820\n",
       "std         2.161418\n",
       "min         0.000000\n",
       "25%         1.000000\n",
       "50%         2.000000\n",
       "75%         3.000000\n",
       "max        55.000000\n",
       "Name: Page Views Per Visit, dtype: float64"
      ]
     },
     "execution_count": 60,
     "metadata": {},
     "output_type": "execute_result"
    }
   ],
   "source": [
    "leads['Page Views Per Visit'].describe()"
   ]
  },
  {
   "cell_type": "code",
   "execution_count": 61,
   "id": "d04329c4",
   "metadata": {},
   "outputs": [
    {
     "data": {
      "image/png": "[encoded data removed]",
      "text/plain": [
       "<Figure size 432x288 with 1 Axes>"
      ]
     },
     "metadata": {
      "needs_background": "light"
     },
     "output_type": "display_data"
    }
   ],
   "source": [
    "# Visualizing the spread of variable 'Page Views Per Visit'\n",
    "sns.boxplot(y =leads['Page Views Per Visit'])\n",
    "plt.show()"
   ]
  },
  {
   "cell_type": "code",
   "execution_count": 62,
   "id": "684c780b",
   "metadata": {},
   "outputs": [
    {
     "data": {
      "image/png": "[encoded data removed]",
      "text/plain": [
       "<Figure size 432x288 with 1 Axes>"
      ]
     },
     "metadata": {
      "needs_background": "light"
     },
     "output_type": "display_data"
    }
   ],
   "source": [
    "# Outlier Treatment: capping the outliers to 95% value for analysis\n",
    "percentiles = leads['Page Views Per Visit'].quantile([0.05,0.95]).values\n",
    "leads['Page Views Per Visit'][leads['Page Views Per Visit'] <= percentiles[0]] = percentiles[0]\n",
    "leads['Page Views Per Visit'][leads['Page Views Per Visit'] >= percentiles[1]] = percentiles[1]\n",
    "\n",
    "#visualizing variable after outlier treatment\n",
    "sns.boxplot(y=leads['Page Views Per Visit'])\n",
    "plt.show()"
   ]
  },
  {
   "cell_type": "code",
   "execution_count": 63,
   "id": "41ef2eaf",
   "metadata": {},
   "outputs": [
    {
     "data": {
      "image/png": "[encoded data removed]",
      "text/plain": [
       "<Figure size 432x288 with 1 Axes>"
      ]
     },
     "metadata": {
      "needs_background": "light"
     },
     "output_type": "display_data"
    }
   ],
   "source": [
    "#visualizing 'Page Views Per Visit' w.r.t Target variable 'Converted'\n",
    "sns.boxplot(y = 'Page Views Per Visit', x = 'Converted', data = leads)\n",
    "plt.show()"
   ]
  },
  {
   "cell_type": "markdown",
   "id": "da0eb6cf",
   "metadata": {},
   "source": [
    "#### Inference\n",
    "\n",
    "- Median for converted and not converted leads is almost same.\n",
    "- Nothing conclusive can be said on the basis of Page Views Per Visit."
   ]
  },
  {
   "cell_type": "code",
   "execution_count": 64,
   "id": "0b8224e6",
   "metadata": {},
   "outputs": [
    {
     "data": {
      "image/png": "[encoded data removed]",
      "text/plain": [
       "<Figure size 1440x1440 with 3 Axes>"
      ]
     },
     "metadata": {
      "needs_background": "light"
     },
     "output_type": "display_data"
    }
   ],
   "source": [
    "# Now check the conversions for all numeric values\n",
    "\n",
    "plt.figure(figsize=(20,20))\n",
    "plt.subplot(4,3,1)\n",
    "sns.barplot(y = 'TotalVisits', x='Converted', palette='rocket', data = leads)\n",
    "plt.subplot(4,3,2)\n",
    "sns.barplot(y = 'Total Time Spent on Website', x='Converted', palette='rocket', data = leads)\n",
    "plt.subplot(4,3,3)\n",
    "sns.barplot(y = 'Page Views Per Visit', x='Converted', palette='rocket', data = leads)\n",
    "plt.show()"
   ]
  },
  {
   "cell_type": "markdown",
   "id": "3fd59d4a",
   "metadata": {},
   "source": [
    "#### Inference\n",
    "The conversion rate is high for Total Visits, Total Time Spent on Website and Page Views Per Visit"
   ]
  },
  {
   "cell_type": "markdown",
   "id": "d7743e73",
   "metadata": {},
   "source": [
    "### Now, all the data labels are in good shape, we will proceed to our next step which is Data Preparation"
   ]
  },
  {
   "cell_type": "markdown",
   "id": "d7bd9db7",
   "metadata": {},
   "source": [
    "## Data Preparation\n",
    "### Converting some binary variables (Yes/No) to 0/1"
   ]
  },
  {
   "cell_type": "code",
   "execution_count": 65,
   "id": "e22e34c4",
   "metadata": {},
   "outputs": [
    {
     "data": {
      "text/html": [
       "<div>\n",
       "<style scoped>\n",
       "    .dataframe tbody tr th:only-of-type {\n",
       "        vertical-align: middle;\n",
       "    }\n",
       "\n",
       "    .dataframe tbody tr th {\n",
       "        vertical-align: top;\n",
       "    }\n",
       "\n",
       "    .dataframe thead th {\n",
       "        text-align: right;\n",
       "    }\n",
       "</style>\n",
       "<table border=\"1\" class=\"dataframe\">\n",
       "  <thead>\n",
       "    <tr style=\"text-align: right;\">\n",
       "      <th></th>\n",
       "      <th>Lead Origin</th>\n",
       "      <th>Lead Source</th>\n",
       "      <th>Do Not Email</th>\n",
       "      <th>Converted</th>\n",
       "      <th>TotalVisits</th>\n",
       "      <th>Total Time Spent on Website</th>\n",
       "      <th>Page Views Per Visit</th>\n",
       "      <th>What is your current occupation</th>\n",
       "    </tr>\n",
       "  </thead>\n",
       "  <tbody>\n",
       "    <tr>\n",
       "      <th>0</th>\n",
       "      <td>API</td>\n",
       "      <td>Olark Chat</td>\n",
       "      <td>0</td>\n",
       "      <td>0</td>\n",
       "      <td>0.0</td>\n",
       "      <td>0</td>\n",
       "      <td>0.0</td>\n",
       "      <td>Unemployed</td>\n",
       "    </tr>\n",
       "    <tr>\n",
       "      <th>1</th>\n",
       "      <td>API</td>\n",
       "      <td>Organic Search</td>\n",
       "      <td>0</td>\n",
       "      <td>0</td>\n",
       "      <td>5.0</td>\n",
       "      <td>674</td>\n",
       "      <td>2.5</td>\n",
       "      <td>Unemployed</td>\n",
       "    </tr>\n",
       "    <tr>\n",
       "      <th>2</th>\n",
       "      <td>Landing Page Submission</td>\n",
       "      <td>Direct Traffic</td>\n",
       "      <td>0</td>\n",
       "      <td>1</td>\n",
       "      <td>2.0</td>\n",
       "      <td>1532</td>\n",
       "      <td>2.0</td>\n",
       "      <td>Student</td>\n",
       "    </tr>\n",
       "    <tr>\n",
       "      <th>3</th>\n",
       "      <td>Landing Page Submission</td>\n",
       "      <td>Direct Traffic</td>\n",
       "      <td>0</td>\n",
       "      <td>0</td>\n",
       "      <td>1.0</td>\n",
       "      <td>305</td>\n",
       "      <td>1.0</td>\n",
       "      <td>Unemployed</td>\n",
       "    </tr>\n",
       "    <tr>\n",
       "      <th>4</th>\n",
       "      <td>Landing Page Submission</td>\n",
       "      <td>Google</td>\n",
       "      <td>0</td>\n",
       "      <td>1</td>\n",
       "      <td>2.0</td>\n",
       "      <td>1428</td>\n",
       "      <td>1.0</td>\n",
       "      <td>Unemployed</td>\n",
       "    </tr>\n",
       "  </tbody>\n",
       "</table>\n",
       "</div>"
      ],
      "text/plain": [
       "               Lead Origin     Lead Source  Do Not Email  Converted  \\\n",
       "0                      API      Olark Chat             0          0   \n",
       "1                      API  Organic Search             0          0   \n",
       "2  Landing Page Submission  Direct Traffic             0          1   \n",
       "3  Landing Page Submission  Direct Traffic             0          0   \n",
       "4  Landing Page Submission          Google             0          1   \n",
       "\n",
       "   TotalVisits  Total Time Spent on Website  Page Views Per Visit  \\\n",
       "0          0.0                            0                   0.0   \n",
       "1          5.0                          674                   2.5   \n",
       "2          2.0                         1532                   2.0   \n",
       "3          1.0                          305                   1.0   \n",
       "4          2.0                         1428                   1.0   \n",
       "\n",
       "  What is your current occupation  \n",
       "0                      Unemployed  \n",
       "1                      Unemployed  \n",
       "2                         Student  \n",
       "3                      Unemployed  \n",
       "4                      Unemployed  "
      ]
     },
     "execution_count": 65,
     "metadata": {},
     "output_type": "execute_result"
    }
   ],
   "source": [
    "# List of variables to map\n",
    "\n",
    "varlist =  ['Do Not Email']\n",
    "\n",
    "# Defining the map function\n",
    "def binary_map(x):\n",
    "    return x.map({'Yes': 1, \"No\": 0})\n",
    "\n",
    "# Applying the function to the housing list\n",
    "leads[varlist] = leads[varlist].apply(binary_map)\n",
    "\n",
    "leads.head()"
   ]
  },
  {
   "cell_type": "code",
   "execution_count": 66,
   "id": "b3cdde9f",
   "metadata": {},
   "outputs": [
    {
     "name": "stdout",
     "output_type": "stream",
     "text": [
      "<class 'pandas.core.frame.DataFrame'>\n",
      "Int64Index: 9103 entries, 0 to 9239\n",
      "Data columns (total 8 columns):\n",
      " #   Column                           Non-Null Count  Dtype  \n",
      "---  ------                           --------------  -----  \n",
      " 0   Lead Origin                      9103 non-null   object \n",
      " 1   Lead Source                      9103 non-null   object \n",
      " 2   Do Not Email                     9103 non-null   int64  \n",
      " 3   Converted                        9103 non-null   int64  \n",
      " 4   TotalVisits                      9103 non-null   float64\n",
      " 5   Total Time Spent on Website      9103 non-null   int64  \n",
      " 6   Page Views Per Visit             9103 non-null   float64\n",
      " 7   What is your current occupation  9103 non-null   object \n",
      "dtypes: float64(2), int64(3), object(3)\n",
      "memory usage: 898.1+ KB\n"
     ]
    }
   ],
   "source": [
    "leads.info()"
   ]
  },
  {
   "cell_type": "markdown",
   "id": "0e2a2755",
   "metadata": {},
   "source": [
    "### Dummy Variable Creation:"
   ]
  },
  {
   "cell_type": "code",
   "execution_count": 67,
   "id": "9f6e62ed",
   "metadata": {},
   "outputs": [
    {
     "data": {
      "text/plain": [
       "Index(['Lead Origin', 'Lead Source', 'What is your current occupation'], dtype='object')"
      ]
     },
     "execution_count": 67,
     "metadata": {},
     "output_type": "execute_result"
    }
   ],
   "source": [
    "# Getting a list of categorical columns foy creating dummy variables\n",
    "\n",
    "cat_cols= leads.select_dtypes(include=['object']).columns\n",
    "cat_cols"
   ]
  },
  {
   "cell_type": "code",
   "execution_count": 68,
   "id": "cd07ab2a",
   "metadata": {},
   "outputs": [],
   "source": [
    "# Getting dummy variables and dropping the first column and adding the results to the master dataframe\n",
    "dummy = pd.get_dummies(leads[['Lead Origin']], drop_first=True)\n",
    "leads = pd.concat([leads,dummy],1)\n",
    "\n",
    "\n",
    "\n",
    "dummy = pd.get_dummies(leads['Lead Source'], drop_first=True)\n",
    "leads = pd.concat([leads, dummy], axis = 1)\n",
    "\n",
    "dummy = pd.get_dummies(leads['What is your current occupation'], drop_first=True)\n",
    "leads = pd.concat([leads, dummy], axis = 1)\n"
   ]
  },
  {
   "cell_type": "code",
   "execution_count": 69,
   "id": "834fd719",
   "metadata": {},
   "outputs": [],
   "source": [
    "leads.drop(cat_cols,1,inplace = True)"
   ]
  },
  {
   "cell_type": "code",
   "execution_count": 168,
   "id": "792ed6fd",
   "metadata": {},
   "outputs": [
    {
     "data": {
      "text/html": [
       "<div>\n",
       "<style scoped>\n",
       "    .dataframe tbody tr th:only-of-type {\n",
       "        vertical-align: middle;\n",
       "    }\n",
       "\n",
       "    .dataframe tbody tr th {\n",
       "        vertical-align: top;\n",
       "    }\n",
       "\n",
       "    .dataframe thead th {\n",
       "        text-align: right;\n",
       "    }\n",
       "</style>\n",
       "<table border=\"1\" class=\"dataframe\">\n",
       "  <thead>\n",
       "    <tr style=\"text-align: right;\">\n",
       "      <th></th>\n",
       "      <th>Do Not Email</th>\n",
       "      <th>Converted</th>\n",
       "      <th>TotalVisits</th>\n",
       "      <th>Total Time Spent on Website</th>\n",
       "      <th>Page Views Per Visit</th>\n",
       "      <th>Lead Origin_Landing Page Submission</th>\n",
       "      <th>Lead Origin_Lead Add Form</th>\n",
       "      <th>Lead Origin_Lead Import</th>\n",
       "      <th>Facebook</th>\n",
       "      <th>Google</th>\n",
       "      <th>...</th>\n",
       "      <th>Reference</th>\n",
       "      <th>Referral Sites</th>\n",
       "      <th>Social Media</th>\n",
       "      <th>Welingak Website</th>\n",
       "      <th>Housewife</th>\n",
       "      <th>No data</th>\n",
       "      <th>Other</th>\n",
       "      <th>Student</th>\n",
       "      <th>Unemployed</th>\n",
       "      <th>Working Professional</th>\n",
       "    </tr>\n",
       "  </thead>\n",
       "  <tbody>\n",
       "    <tr>\n",
       "      <th>0</th>\n",
       "      <td>0</td>\n",
       "      <td>0</td>\n",
       "      <td>0.0</td>\n",
       "      <td>0</td>\n",
       "      <td>0.0</td>\n",
       "      <td>0</td>\n",
       "      <td>0</td>\n",
       "      <td>0</td>\n",
       "      <td>0</td>\n",
       "      <td>0</td>\n",
       "      <td>...</td>\n",
       "      <td>0</td>\n",
       "      <td>0</td>\n",
       "      <td>0</td>\n",
       "      <td>0</td>\n",
       "      <td>0</td>\n",
       "      <td>0</td>\n",
       "      <td>0</td>\n",
       "      <td>0</td>\n",
       "      <td>1</td>\n",
       "      <td>0</td>\n",
       "    </tr>\n",
       "    <tr>\n",
       "      <th>1</th>\n",
       "      <td>0</td>\n",
       "      <td>0</td>\n",
       "      <td>5.0</td>\n",
       "      <td>674</td>\n",
       "      <td>2.5</td>\n",
       "      <td>0</td>\n",
       "      <td>0</td>\n",
       "      <td>0</td>\n",
       "      <td>0</td>\n",
       "      <td>0</td>\n",
       "      <td>...</td>\n",
       "      <td>0</td>\n",
       "      <td>0</td>\n",
       "      <td>0</td>\n",
       "      <td>0</td>\n",
       "      <td>0</td>\n",
       "      <td>0</td>\n",
       "      <td>0</td>\n",
       "      <td>0</td>\n",
       "      <td>1</td>\n",
       "      <td>0</td>\n",
       "    </tr>\n",
       "    <tr>\n",
       "      <th>2</th>\n",
       "      <td>0</td>\n",
       "      <td>1</td>\n",
       "      <td>2.0</td>\n",
       "      <td>1532</td>\n",
       "      <td>2.0</td>\n",
       "      <td>1</td>\n",
       "      <td>0</td>\n",
       "      <td>0</td>\n",
       "      <td>0</td>\n",
       "      <td>0</td>\n",
       "      <td>...</td>\n",
       "      <td>0</td>\n",
       "      <td>0</td>\n",
       "      <td>0</td>\n",
       "      <td>0</td>\n",
       "      <td>0</td>\n",
       "      <td>0</td>\n",
       "      <td>0</td>\n",
       "      <td>1</td>\n",
       "      <td>0</td>\n",
       "      <td>0</td>\n",
       "    </tr>\n",
       "    <tr>\n",
       "      <th>3</th>\n",
       "      <td>0</td>\n",
       "      <td>0</td>\n",
       "      <td>1.0</td>\n",
       "      <td>305</td>\n",
       "      <td>1.0</td>\n",
       "      <td>1</td>\n",
       "      <td>0</td>\n",
       "      <td>0</td>\n",
       "      <td>0</td>\n",
       "      <td>0</td>\n",
       "      <td>...</td>\n",
       "      <td>0</td>\n",
       "      <td>0</td>\n",
       "      <td>0</td>\n",
       "      <td>0</td>\n",
       "      <td>0</td>\n",
       "      <td>0</td>\n",
       "      <td>0</td>\n",
       "      <td>0</td>\n",
       "      <td>1</td>\n",
       "      <td>0</td>\n",
       "    </tr>\n",
       "    <tr>\n",
       "      <th>4</th>\n",
       "      <td>0</td>\n",
       "      <td>1</td>\n",
       "      <td>2.0</td>\n",
       "      <td>1428</td>\n",
       "      <td>1.0</td>\n",
       "      <td>1</td>\n",
       "      <td>0</td>\n",
       "      <td>0</td>\n",
       "      <td>0</td>\n",
       "      <td>1</td>\n",
       "      <td>...</td>\n",
       "      <td>0</td>\n",
       "      <td>0</td>\n",
       "      <td>0</td>\n",
       "      <td>0</td>\n",
       "      <td>0</td>\n",
       "      <td>0</td>\n",
       "      <td>0</td>\n",
       "      <td>0</td>\n",
       "      <td>1</td>\n",
       "      <td>0</td>\n",
       "    </tr>\n",
       "  </tbody>\n",
       "</table>\n",
       "<p>5 rows × 23 columns</p>\n",
       "</div>"
      ],
      "text/plain": [
       "   Do Not Email  Converted  TotalVisits  Total Time Spent on Website  \\\n",
       "0             0          0          0.0                            0   \n",
       "1             0          0          5.0                          674   \n",
       "2             0          1          2.0                         1532   \n",
       "3             0          0          1.0                          305   \n",
       "4             0          1          2.0                         1428   \n",
       "\n",
       "   Page Views Per Visit  Lead Origin_Landing Page Submission  \\\n",
       "0                   0.0                                    0   \n",
       "1                   2.5                                    0   \n",
       "2                   2.0                                    1   \n",
       "3                   1.0                                    1   \n",
       "4                   1.0                                    1   \n",
       "\n",
       "   Lead Origin_Lead Add Form  Lead Origin_Lead Import  Facebook  Google  ...  \\\n",
       "0                          0                        0         0       0  ...   \n",
       "1                          0                        0         0       0  ...   \n",
       "2                          0                        0         0       0  ...   \n",
       "3                          0                        0         0       0  ...   \n",
       "4                          0                        0         0       1  ...   \n",
       "\n",
       "   Reference  Referral Sites  Social Media  Welingak Website  Housewife  \\\n",
       "0          0               0             0                 0          0   \n",
       "1          0               0             0                 0          0   \n",
       "2          0               0             0                 0          0   \n",
       "3          0               0             0                 0          0   \n",
       "4          0               0             0                 0          0   \n",
       "\n",
       "   No data  Other  Student  Unemployed  Working Professional  \n",
       "0        0      0        0           1                     0  \n",
       "1        0      0        0           1                     0  \n",
       "2        0      0        1           0                     0  \n",
       "3        0      0        0           1                     0  \n",
       "4        0      0        0           1                     0  \n",
       "\n",
       "[5 rows x 23 columns]"
      ]
     },
     "execution_count": 168,
     "metadata": {},
     "output_type": "execute_result"
    }
   ],
   "source": [
    "leads.head()"
   ]
  },
  {
   "cell_type": "code",
   "execution_count": 169,
   "id": "78041d89",
   "metadata": {},
   "outputs": [
    {
     "data": {
      "text/plain": [
       "(9103, 23)"
      ]
     },
     "execution_count": 169,
     "metadata": {},
     "output_type": "execute_result"
    }
   ],
   "source": [
    "leads.shape"
   ]
  },
  {
   "cell_type": "markdown",
   "id": "4dc08f6d",
   "metadata": {},
   "source": [
    "### Test-Train Split"
   ]
  },
  {
   "cell_type": "code",
   "execution_count": 71,
   "id": "d9c903a9",
   "metadata": {},
   "outputs": [],
   "source": [
    "# Importing library for splitting the dataset\n",
    "from sklearn.model_selection import train_test_split"
   ]
  },
  {
   "cell_type": "code",
   "execution_count": 72,
   "id": "4e4ce36b",
   "metadata": {},
   "outputs": [
    {
     "data": {
      "text/html": [
       "<div>\n",
       "<style scoped>\n",
       "    .dataframe tbody tr th:only-of-type {\n",
       "        vertical-align: middle;\n",
       "    }\n",
       "\n",
       "    .dataframe tbody tr th {\n",
       "        vertical-align: top;\n",
       "    }\n",
       "\n",
       "    .dataframe thead th {\n",
       "        text-align: right;\n",
       "    }\n",
       "</style>\n",
       "<table border=\"1\" class=\"dataframe\">\n",
       "  <thead>\n",
       "    <tr style=\"text-align: right;\">\n",
       "      <th></th>\n",
       "      <th>Do Not Email</th>\n",
       "      <th>TotalVisits</th>\n",
       "      <th>Total Time Spent on Website</th>\n",
       "      <th>Page Views Per Visit</th>\n",
       "      <th>Lead Origin_Landing Page Submission</th>\n",
       "      <th>Lead Origin_Lead Add Form</th>\n",
       "      <th>Lead Origin_Lead Import</th>\n",
       "      <th>Facebook</th>\n",
       "      <th>Google</th>\n",
       "      <th>Olark Chat</th>\n",
       "      <th>...</th>\n",
       "      <th>Reference</th>\n",
       "      <th>Referral Sites</th>\n",
       "      <th>Social Media</th>\n",
       "      <th>Welingak Website</th>\n",
       "      <th>Housewife</th>\n",
       "      <th>No data</th>\n",
       "      <th>Other</th>\n",
       "      <th>Student</th>\n",
       "      <th>Unemployed</th>\n",
       "      <th>Working Professional</th>\n",
       "    </tr>\n",
       "  </thead>\n",
       "  <tbody>\n",
       "    <tr>\n",
       "      <th>0</th>\n",
       "      <td>0</td>\n",
       "      <td>0.0</td>\n",
       "      <td>0</td>\n",
       "      <td>0.0</td>\n",
       "      <td>0</td>\n",
       "      <td>0</td>\n",
       "      <td>0</td>\n",
       "      <td>0</td>\n",
       "      <td>0</td>\n",
       "      <td>1</td>\n",
       "      <td>...</td>\n",
       "      <td>0</td>\n",
       "      <td>0</td>\n",
       "      <td>0</td>\n",
       "      <td>0</td>\n",
       "      <td>0</td>\n",
       "      <td>0</td>\n",
       "      <td>0</td>\n",
       "      <td>0</td>\n",
       "      <td>1</td>\n",
       "      <td>0</td>\n",
       "    </tr>\n",
       "    <tr>\n",
       "      <th>1</th>\n",
       "      <td>0</td>\n",
       "      <td>5.0</td>\n",
       "      <td>674</td>\n",
       "      <td>2.5</td>\n",
       "      <td>0</td>\n",
       "      <td>0</td>\n",
       "      <td>0</td>\n",
       "      <td>0</td>\n",
       "      <td>0</td>\n",
       "      <td>0</td>\n",
       "      <td>...</td>\n",
       "      <td>0</td>\n",
       "      <td>0</td>\n",
       "      <td>0</td>\n",
       "      <td>0</td>\n",
       "      <td>0</td>\n",
       "      <td>0</td>\n",
       "      <td>0</td>\n",
       "      <td>0</td>\n",
       "      <td>1</td>\n",
       "      <td>0</td>\n",
       "    </tr>\n",
       "    <tr>\n",
       "      <th>2</th>\n",
       "      <td>0</td>\n",
       "      <td>2.0</td>\n",
       "      <td>1532</td>\n",
       "      <td>2.0</td>\n",
       "      <td>1</td>\n",
       "      <td>0</td>\n",
       "      <td>0</td>\n",
       "      <td>0</td>\n",
       "      <td>0</td>\n",
       "      <td>0</td>\n",
       "      <td>...</td>\n",
       "      <td>0</td>\n",
       "      <td>0</td>\n",
       "      <td>0</td>\n",
       "      <td>0</td>\n",
       "      <td>0</td>\n",
       "      <td>0</td>\n",
       "      <td>0</td>\n",
       "      <td>1</td>\n",
       "      <td>0</td>\n",
       "      <td>0</td>\n",
       "    </tr>\n",
       "    <tr>\n",
       "      <th>3</th>\n",
       "      <td>0</td>\n",
       "      <td>1.0</td>\n",
       "      <td>305</td>\n",
       "      <td>1.0</td>\n",
       "      <td>1</td>\n",
       "      <td>0</td>\n",
       "      <td>0</td>\n",
       "      <td>0</td>\n",
       "      <td>0</td>\n",
       "      <td>0</td>\n",
       "      <td>...</td>\n",
       "      <td>0</td>\n",
       "      <td>0</td>\n",
       "      <td>0</td>\n",
       "      <td>0</td>\n",
       "      <td>0</td>\n",
       "      <td>0</td>\n",
       "      <td>0</td>\n",
       "      <td>0</td>\n",
       "      <td>1</td>\n",
       "      <td>0</td>\n",
       "    </tr>\n",
       "    <tr>\n",
       "      <th>4</th>\n",
       "      <td>0</td>\n",
       "      <td>2.0</td>\n",
       "      <td>1428</td>\n",
       "      <td>1.0</td>\n",
       "      <td>1</td>\n",
       "      <td>0</td>\n",
       "      <td>0</td>\n",
       "      <td>0</td>\n",
       "      <td>1</td>\n",
       "      <td>0</td>\n",
       "      <td>...</td>\n",
       "      <td>0</td>\n",
       "      <td>0</td>\n",
       "      <td>0</td>\n",
       "      <td>0</td>\n",
       "      <td>0</td>\n",
       "      <td>0</td>\n",
       "      <td>0</td>\n",
       "      <td>0</td>\n",
       "      <td>1</td>\n",
       "      <td>0</td>\n",
       "    </tr>\n",
       "  </tbody>\n",
       "</table>\n",
       "<p>5 rows × 22 columns</p>\n",
       "</div>"
      ],
      "text/plain": [
       "   Do Not Email  TotalVisits  Total Time Spent on Website  \\\n",
       "0             0          0.0                            0   \n",
       "1             0          5.0                          674   \n",
       "2             0          2.0                         1532   \n",
       "3             0          1.0                          305   \n",
       "4             0          2.0                         1428   \n",
       "\n",
       "   Page Views Per Visit  Lead Origin_Landing Page Submission  \\\n",
       "0                   0.0                                    0   \n",
       "1                   2.5                                    0   \n",
       "2                   2.0                                    1   \n",
       "3                   1.0                                    1   \n",
       "4                   1.0                                    1   \n",
       "\n",
       "   Lead Origin_Lead Add Form  Lead Origin_Lead Import  Facebook  Google  \\\n",
       "0                          0                        0         0       0   \n",
       "1                          0                        0         0       0   \n",
       "2                          0                        0         0       0   \n",
       "3                          0                        0         0       0   \n",
       "4                          0                        0         0       1   \n",
       "\n",
       "   Olark Chat  ...  Reference  Referral Sites  Social Media  Welingak Website  \\\n",
       "0           1  ...          0               0             0                 0   \n",
       "1           0  ...          0               0             0                 0   \n",
       "2           0  ...          0               0             0                 0   \n",
       "3           0  ...          0               0             0                 0   \n",
       "4           0  ...          0               0             0                 0   \n",
       "\n",
       "   Housewife  No data  Other  Student  Unemployed  Working Professional  \n",
       "0          0        0      0        0           1                     0  \n",
       "1          0        0      0        0           1                     0  \n",
       "2          0        0      0        1           0                     0  \n",
       "3          0        0      0        0           1                     0  \n",
       "4          0        0      0        0           1                     0  \n",
       "\n",
       "[5 rows x 22 columns]"
      ]
     },
     "execution_count": 72,
     "metadata": {},
     "output_type": "execute_result"
    }
   ],
   "source": [
    "# Putting feature variable to X\n",
    "X=leads.drop('Converted', axis=1)\n",
    "\n",
    "# Checking the head of X\n",
    "X.head()"
   ]
  },
  {
   "cell_type": "code",
   "execution_count": 73,
   "id": "6a3f47f8",
   "metadata": {},
   "outputs": [
    {
     "data": {
      "text/plain": [
       "0    0\n",
       "1    0\n",
       "2    1\n",
       "3    0\n",
       "4    1\n",
       "Name: Converted, dtype: int64"
      ]
     },
     "execution_count": 73,
     "metadata": {},
     "output_type": "execute_result"
    }
   ],
   "source": [
    "# Putting response variable to y\n",
    "y = leads['Converted']\n",
    "\n",
    "# Checking the head of y\n",
    "y.head()"
   ]
  },
  {
   "cell_type": "code",
   "execution_count": 74,
   "id": "7942e6bb",
   "metadata": {},
   "outputs": [],
   "source": [
    "# Splitting the data into train and test\n",
    "X_train, X_test, y_train, y_test = train_test_split(X, y, train_size=0.7, test_size=0.3, random_state=100)"
   ]
  },
  {
   "cell_type": "markdown",
   "id": "5ac7248b",
   "metadata": {},
   "source": [
    "### Feature Scaling"
   ]
  },
  {
   "cell_type": "code",
   "execution_count": 75,
   "id": "fcec1bd8",
   "metadata": {},
   "outputs": [],
   "source": [
    "# Importing library for feature scaling\n",
    "from sklearn.preprocessing import StandardScaler"
   ]
  },
  {
   "cell_type": "code",
   "execution_count": 76,
   "id": "090f0a92",
   "metadata": {},
   "outputs": [
    {
     "data": {
      "text/html": [
       "<div>\n",
       "<style scoped>\n",
       "    .dataframe tbody tr th:only-of-type {\n",
       "        vertical-align: middle;\n",
       "    }\n",
       "\n",
       "    .dataframe tbody tr th {\n",
       "        vertical-align: top;\n",
       "    }\n",
       "\n",
       "    .dataframe thead th {\n",
       "        text-align: right;\n",
       "    }\n",
       "</style>\n",
       "<table border=\"1\" class=\"dataframe\">\n",
       "  <thead>\n",
       "    <tr style=\"text-align: right;\">\n",
       "      <th></th>\n",
       "      <th>Do Not Email</th>\n",
       "      <th>TotalVisits</th>\n",
       "      <th>Total Time Spent on Website</th>\n",
       "      <th>Page Views Per Visit</th>\n",
       "      <th>Lead Origin_Landing Page Submission</th>\n",
       "      <th>Lead Origin_Lead Add Form</th>\n",
       "      <th>Lead Origin_Lead Import</th>\n",
       "      <th>Facebook</th>\n",
       "      <th>Google</th>\n",
       "      <th>Olark Chat</th>\n",
       "      <th>...</th>\n",
       "      <th>Reference</th>\n",
       "      <th>Referral Sites</th>\n",
       "      <th>Social Media</th>\n",
       "      <th>Welingak Website</th>\n",
       "      <th>Housewife</th>\n",
       "      <th>No data</th>\n",
       "      <th>Other</th>\n",
       "      <th>Student</th>\n",
       "      <th>Unemployed</th>\n",
       "      <th>Working Professional</th>\n",
       "    </tr>\n",
       "  </thead>\n",
       "  <tbody>\n",
       "    <tr>\n",
       "      <th>7962</th>\n",
       "      <td>-0.294015</td>\n",
       "      <td>-0.068258</td>\n",
       "      <td>1.476324</td>\n",
       "      <td>-0.423364</td>\n",
       "      <td>1</td>\n",
       "      <td>0</td>\n",
       "      <td>0</td>\n",
       "      <td>0</td>\n",
       "      <td>1</td>\n",
       "      <td>0</td>\n",
       "      <td>...</td>\n",
       "      <td>0</td>\n",
       "      <td>0</td>\n",
       "      <td>0</td>\n",
       "      <td>0</td>\n",
       "      <td>0</td>\n",
       "      <td>0</td>\n",
       "      <td>0</td>\n",
       "      <td>0</td>\n",
       "      <td>1</td>\n",
       "      <td>0</td>\n",
       "    </tr>\n",
       "    <tr>\n",
       "      <th>5520</th>\n",
       "      <td>-0.294015</td>\n",
       "      <td>1.362470</td>\n",
       "      <td>-0.771066</td>\n",
       "      <td>2.083179</td>\n",
       "      <td>1</td>\n",
       "      <td>0</td>\n",
       "      <td>0</td>\n",
       "      <td>0</td>\n",
       "      <td>0</td>\n",
       "      <td>0</td>\n",
       "      <td>...</td>\n",
       "      <td>0</td>\n",
       "      <td>0</td>\n",
       "      <td>0</td>\n",
       "      <td>0</td>\n",
       "      <td>0</td>\n",
       "      <td>0</td>\n",
       "      <td>0</td>\n",
       "      <td>0</td>\n",
       "      <td>1</td>\n",
       "      <td>0</td>\n",
       "    </tr>\n",
       "    <tr>\n",
       "      <th>1962</th>\n",
       "      <td>-0.294015</td>\n",
       "      <td>0.647106</td>\n",
       "      <td>-0.571257</td>\n",
       "      <td>0.133646</td>\n",
       "      <td>1</td>\n",
       "      <td>0</td>\n",
       "      <td>0</td>\n",
       "      <td>0</td>\n",
       "      <td>1</td>\n",
       "      <td>0</td>\n",
       "      <td>...</td>\n",
       "      <td>0</td>\n",
       "      <td>0</td>\n",
       "      <td>0</td>\n",
       "      <td>0</td>\n",
       "      <td>0</td>\n",
       "      <td>0</td>\n",
       "      <td>0</td>\n",
       "      <td>0</td>\n",
       "      <td>1</td>\n",
       "      <td>0</td>\n",
       "    </tr>\n",
       "    <tr>\n",
       "      <th>1566</th>\n",
       "      <td>-0.294015</td>\n",
       "      <td>2.435517</td>\n",
       "      <td>1.393834</td>\n",
       "      <td>0.690655</td>\n",
       "      <td>1</td>\n",
       "      <td>0</td>\n",
       "      <td>0</td>\n",
       "      <td>0</td>\n",
       "      <td>1</td>\n",
       "      <td>0</td>\n",
       "      <td>...</td>\n",
       "      <td>0</td>\n",
       "      <td>0</td>\n",
       "      <td>0</td>\n",
       "      <td>0</td>\n",
       "      <td>0</td>\n",
       "      <td>0</td>\n",
       "      <td>0</td>\n",
       "      <td>0</td>\n",
       "      <td>0</td>\n",
       "      <td>1</td>\n",
       "    </tr>\n",
       "    <tr>\n",
       "      <th>9170</th>\n",
       "      <td>-0.294015</td>\n",
       "      <td>-1.141305</td>\n",
       "      <td>-0.881052</td>\n",
       "      <td>-1.258878</td>\n",
       "      <td>0</td>\n",
       "      <td>0</td>\n",
       "      <td>0</td>\n",
       "      <td>0</td>\n",
       "      <td>0</td>\n",
       "      <td>1</td>\n",
       "      <td>...</td>\n",
       "      <td>0</td>\n",
       "      <td>0</td>\n",
       "      <td>0</td>\n",
       "      <td>0</td>\n",
       "      <td>0</td>\n",
       "      <td>0</td>\n",
       "      <td>0</td>\n",
       "      <td>0</td>\n",
       "      <td>1</td>\n",
       "      <td>0</td>\n",
       "    </tr>\n",
       "  </tbody>\n",
       "</table>\n",
       "<p>5 rows × 22 columns</p>\n",
       "</div>"
      ],
      "text/plain": [
       "      Do Not Email  TotalVisits  Total Time Spent on Website  \\\n",
       "7962     -0.294015    -0.068258                     1.476324   \n",
       "5520     -0.294015     1.362470                    -0.771066   \n",
       "1962     -0.294015     0.647106                    -0.571257   \n",
       "1566     -0.294015     2.435517                     1.393834   \n",
       "9170     -0.294015    -1.141305                    -0.881052   \n",
       "\n",
       "      Page Views Per Visit  Lead Origin_Landing Page Submission  \\\n",
       "7962             -0.423364                                    1   \n",
       "5520              2.083179                                    1   \n",
       "1962              0.133646                                    1   \n",
       "1566              0.690655                                    1   \n",
       "9170             -1.258878                                    0   \n",
       "\n",
       "      Lead Origin_Lead Add Form  Lead Origin_Lead Import  Facebook  Google  \\\n",
       "7962                          0                        0         0       1   \n",
       "5520                          0                        0         0       0   \n",
       "1962                          0                        0         0       1   \n",
       "1566                          0                        0         0       1   \n",
       "9170                          0                        0         0       0   \n",
       "\n",
       "      Olark Chat  ...  Reference  Referral Sites  Social Media  \\\n",
       "7962           0  ...          0               0             0   \n",
       "5520           0  ...          0               0             0   \n",
       "1962           0  ...          0               0             0   \n",
       "1566           0  ...          0               0             0   \n",
       "9170           1  ...          0               0             0   \n",
       "\n",
       "      Welingak Website  Housewife  No data  Other  Student  Unemployed  \\\n",
       "7962                 0          0        0      0        0           1   \n",
       "5520                 0          0        0      0        0           1   \n",
       "1962                 0          0        0      0        0           1   \n",
       "1566                 0          0        0      0        0           0   \n",
       "9170                 0          0        0      0        0           1   \n",
       "\n",
       "      Working Professional  \n",
       "7962                     0  \n",
       "5520                     0  \n",
       "1962                     0  \n",
       "1566                     1  \n",
       "9170                     0  \n",
       "\n",
       "[5 rows x 22 columns]"
      ]
     },
     "execution_count": 76,
     "metadata": {},
     "output_type": "execute_result"
    }
   ],
   "source": [
    "# Scaling of features\n",
    "scaler = StandardScaler()\n",
    "\n",
    "num_cols=X_train.select_dtypes(include=['float64', 'int64']).columns\n",
    "\n",
    "X_train[num_cols] = scaler.fit_transform(X_train[num_cols])\n",
    "\n",
    "# Checking X-train dataset after scaling\n",
    "X_train.head()"
   ]
  },
  {
   "cell_type": "code",
   "execution_count": 77,
   "id": "2cfeb837",
   "metadata": {},
   "outputs": [
    {
     "data": {
      "text/plain": [
       "38.02043282434362"
      ]
     },
     "execution_count": 77,
     "metadata": {},
     "output_type": "execute_result"
    }
   ],
   "source": [
    "## Checking the conversion rate of 'Converted' column, as it denotes the target variable\n",
    "\n",
    "(sum(y)/len(y.index))*100"
   ]
  },
  {
   "cell_type": "code",
   "execution_count": 78,
   "id": "2c4b7c08",
   "metadata": {},
   "outputs": [
    {
     "data": {
      "image/png": "[encoded data removed]",
      "text/plain": [
       "<Figure size 1440x1080 with 2 Axes>"
      ]
     },
     "metadata": {
      "needs_background": "light"
     },
     "output_type": "display_data"
    }
   ],
   "source": [
    "# Let's see the correlation matrix\n",
    "plt.figure(figsize = (20,15))       \n",
    "sns.heatmap(leads.corr(),annot = True)\n",
    "plt.show()"
   ]
  },
  {
   "cell_type": "markdown",
   "id": "2500ccff",
   "metadata": {},
   "source": [
    "### Dropping the highly correlated dummy variables"
   ]
  },
  {
   "cell_type": "code",
   "execution_count": 79,
   "id": "aa1d2979",
   "metadata": {},
   "outputs": [],
   "source": [
    "X_test = X_test.drop(['Olark Chat','Lead Origin_Landing Page Submission'],1)"
   ]
  },
  {
   "cell_type": "code",
   "execution_count": 80,
   "id": "a844ea1b",
   "metadata": {},
   "outputs": [],
   "source": [
    "X_train = X_train.drop(['Olark Chat','Lead Origin_Landing Page Submission'],1)"
   ]
  },
  {
   "cell_type": "markdown",
   "id": "ac027744",
   "metadata": {},
   "source": [
    "### Model Building using Stats Model & RFE"
   ]
  },
  {
   "cell_type": "code",
   "execution_count": 81,
   "id": "46961cec",
   "metadata": {},
   "outputs": [],
   "source": [
    "# Importing the library\n",
    "import statsmodels.api as sm"
   ]
  },
  {
   "cell_type": "code",
   "execution_count": 82,
   "id": "880a29e7",
   "metadata": {},
   "outputs": [],
   "source": [
    "from sklearn.linear_model import LogisticRegression\n",
    "logreg = LogisticRegression()\n",
    "\n",
    "from sklearn.feature_selection import RFE\n",
    "rfe = RFE(logreg, 15)             # running RFE with 15 variables as output\n",
    "rfe = rfe.fit(X_train, y_train)"
   ]
  },
  {
   "cell_type": "code",
   "execution_count": 83,
   "id": "3a418616",
   "metadata": {},
   "outputs": [
    {
     "data": {
      "text/plain": [
       "array([ True,  True,  True,  True,  True,  True, False, False, False,\n",
       "        True, False,  True, False,  True,  True,  True,  True,  True,\n",
       "        True,  True])"
      ]
     },
     "execution_count": 83,
     "metadata": {},
     "output_type": "execute_result"
    }
   ],
   "source": [
    "rfe.support_"
   ]
  },
  {
   "cell_type": "code",
   "execution_count": 84,
   "id": "ffb727eb",
   "metadata": {},
   "outputs": [
    {
     "data": {
      "text/plain": [
       "[('Do Not Email', True, 1),\n",
       " ('TotalVisits', True, 1),\n",
       " ('Total Time Spent on Website', True, 1),\n",
       " ('Page Views Per Visit', True, 1),\n",
       " ('Lead Origin_Lead Add Form', True, 1),\n",
       " ('Lead Origin_Lead Import', True, 1),\n",
       " ('Facebook', False, 2),\n",
       " ('Google', False, 6),\n",
       " ('Organic Search', False, 4),\n",
       " ('Others', True, 1),\n",
       " ('Reference', False, 5),\n",
       " ('Referral Sites', True, 1),\n",
       " ('Social Media', False, 3),\n",
       " ('Welingak Website', True, 1),\n",
       " ('Housewife', True, 1),\n",
       " ('No data', True, 1),\n",
       " ('Other', True, 1),\n",
       " ('Student', True, 1),\n",
       " ('Unemployed', True, 1),\n",
       " ('Working Professional', True, 1)]"
      ]
     },
     "execution_count": 84,
     "metadata": {},
     "output_type": "execute_result"
    }
   ],
   "source": [
    "list(zip(X_train.columns, rfe.support_, rfe.ranking_))"
   ]
  },
  {
   "cell_type": "code",
   "execution_count": 85,
   "id": "6303e627",
   "metadata": {},
   "outputs": [
    {
     "data": {
      "text/plain": [
       "Index(['Do Not Email', 'TotalVisits', 'Total Time Spent on Website',\n",
       "       'Page Views Per Visit', 'Lead Origin_Lead Add Form',\n",
       "       'Lead Origin_Lead Import', 'Others', 'Referral Sites',\n",
       "       'Welingak Website', 'Housewife', 'No data', 'Other', 'Student',\n",
       "       'Unemployed', 'Working Professional'],\n",
       "      dtype='object')"
      ]
     },
     "execution_count": 85,
     "metadata": {},
     "output_type": "execute_result"
    }
   ],
   "source": [
    "# list of RFE supported columns\n",
    "col = X_train.columns[rfe.support_]\n",
    "col"
   ]
  },
  {
   "cell_type": "code",
   "execution_count": 86,
   "id": "0b3fb1b2",
   "metadata": {},
   "outputs": [
    {
     "data": {
      "text/plain": [
       "Index(['Facebook', 'Google', 'Organic Search', 'Reference', 'Social Media'], dtype='object')"
      ]
     },
     "execution_count": 86,
     "metadata": {},
     "output_type": "execute_result"
    }
   ],
   "source": [
    "X_train.columns[~rfe.support_]"
   ]
  },
  {
   "cell_type": "markdown",
   "id": "cb5099f0",
   "metadata": {},
   "source": [
    "### Model 1"
   ]
  },
  {
   "cell_type": "code",
   "execution_count": 87,
   "id": "32f959b7",
   "metadata": {},
   "outputs": [
    {
     "data": {
      "text/html": [
       "<table class=\"simpletable\">\n",
       "<caption>Generalized Linear Model Regression Results</caption>\n",
       "<tr>\n",
       "  <th>Dep. Variable:</th>       <td>Converted</td>    <th>  No. Observations:  </th>  <td>  6372</td> \n",
       "</tr>\n",
       "<tr>\n",
       "  <th>Model:</th>                  <td>GLM</td>       <th>  Df Residuals:      </th>  <td>  6356</td> \n",
       "</tr>\n",
       "<tr>\n",
       "  <th>Model Family:</th>        <td>Binomial</td>     <th>  Df Model:          </th>  <td>    15</td> \n",
       "</tr>\n",
       "<tr>\n",
       "  <th>Link Function:</th>         <td>logit</td>      <th>  Scale:             </th> <td>  1.0000</td>\n",
       "</tr>\n",
       "<tr>\n",
       "  <th>Method:</th>                <td>IRLS</td>       <th>  Log-Likelihood:    </th> <td> -2891.7</td>\n",
       "</tr>\n",
       "<tr>\n",
       "  <th>Date:</th>            <td>Tue, 15 Nov 2022</td> <th>  Deviance:          </th> <td>  5783.5</td>\n",
       "</tr>\n",
       "<tr>\n",
       "  <th>Time:</th>                <td>10:01:38</td>     <th>  Pearson chi2:      </th> <td>6.42e+03</td>\n",
       "</tr>\n",
       "<tr>\n",
       "  <th>No. Iterations:</th>         <td>21</td>        <th>                     </th>     <td> </td>   \n",
       "</tr>\n",
       "<tr>\n",
       "  <th>Covariance Type:</th>     <td>nonrobust</td>    <th>                     </th>     <td> </td>   \n",
       "</tr>\n",
       "</table>\n",
       "<table class=\"simpletable\">\n",
       "<tr>\n",
       "               <td></td>                  <th>coef</th>     <th>std err</th>      <th>z</th>      <th>P>|z|</th>  <th>[0.025</th>    <th>0.975]</th>  \n",
       "</tr>\n",
       "<tr>\n",
       "  <th>const</th>                       <td>   -0.5485</td> <td>    0.991</td> <td>   -0.554</td> <td> 0.580</td> <td>   -2.491</td> <td>    1.394</td>\n",
       "</tr>\n",
       "<tr>\n",
       "  <th>Do Not Email</th>                <td>   -0.3728</td> <td>    0.042</td> <td>   -8.851</td> <td> 0.000</td> <td>   -0.455</td> <td>   -0.290</td>\n",
       "</tr>\n",
       "<tr>\n",
       "  <th>TotalVisits</th>                 <td>    0.2270</td> <td>    0.048</td> <td>    4.719</td> <td> 0.000</td> <td>    0.133</td> <td>    0.321</td>\n",
       "</tr>\n",
       "<tr>\n",
       "  <th>Total Time Spent on Website</th> <td>    0.9813</td> <td>    0.036</td> <td>   27.607</td> <td> 0.000</td> <td>    0.912</td> <td>    1.051</td>\n",
       "</tr>\n",
       "<tr>\n",
       "  <th>Page Views Per Visit</th>        <td>   -0.3229</td> <td>    0.051</td> <td>   -6.301</td> <td> 0.000</td> <td>   -0.423</td> <td>   -0.222</td>\n",
       "</tr>\n",
       "<tr>\n",
       "  <th>Lead Origin_Lead Add Form</th>   <td>    3.3825</td> <td>    0.222</td> <td>   15.237</td> <td> 0.000</td> <td>    2.947</td> <td>    3.818</td>\n",
       "</tr>\n",
       "<tr>\n",
       "  <th>Lead Origin_Lead Import</th>     <td>    0.5190</td> <td>    0.441</td> <td>    1.177</td> <td> 0.239</td> <td>   -0.345</td> <td>    1.383</td>\n",
       "</tr>\n",
       "<tr>\n",
       "  <th>Others</th>                      <td>   -0.5571</td> <td>    0.726</td> <td>   -0.768</td> <td> 0.443</td> <td>   -1.979</td> <td>    0.865</td>\n",
       "</tr>\n",
       "<tr>\n",
       "  <th>Referral Sites</th>              <td>   -0.5840</td> <td>    0.317</td> <td>   -1.843</td> <td> 0.065</td> <td>   -1.205</td> <td>    0.037</td>\n",
       "</tr>\n",
       "<tr>\n",
       "  <th>Welingak Website</th>            <td>    1.9848</td> <td>    0.750</td> <td>    2.647</td> <td> 0.008</td> <td>    0.515</td> <td>    3.454</td>\n",
       "</tr>\n",
       "<tr>\n",
       "  <th>Housewife</th>                   <td>   22.3200</td> <td> 1.63e+04</td> <td>    0.001</td> <td> 0.999</td> <td>-3.19e+04</td> <td>  3.2e+04</td>\n",
       "</tr>\n",
       "<tr>\n",
       "  <th>No data</th>                     <td>   -1.3381</td> <td>    0.994</td> <td>   -1.347</td> <td> 0.178</td> <td>   -3.285</td> <td>    0.609</td>\n",
       "</tr>\n",
       "<tr>\n",
       "  <th>Other</th>                       <td>   -0.1918</td> <td>    1.178</td> <td>   -0.163</td> <td> 0.871</td> <td>   -2.500</td> <td>    2.117</td>\n",
       "</tr>\n",
       "<tr>\n",
       "  <th>Student</th>                     <td>   -0.2045</td> <td>    1.013</td> <td>   -0.202</td> <td> 0.840</td> <td>   -2.191</td> <td>    1.782</td>\n",
       "</tr>\n",
       "<tr>\n",
       "  <th>Unemployed</th>                  <td>   -0.1016</td> <td>    0.991</td> <td>   -0.102</td> <td> 0.918</td> <td>   -2.045</td> <td>    1.842</td>\n",
       "</tr>\n",
       "<tr>\n",
       "  <th>Working Professional</th>        <td>    2.3897</td> <td>    1.006</td> <td>    2.376</td> <td> 0.018</td> <td>    0.418</td> <td>    4.361</td>\n",
       "</tr>\n",
       "</table>"
      ],
      "text/plain": [
       "<class 'statsmodels.iolib.summary.Summary'>\n",
       "\"\"\"\n",
       "                 Generalized Linear Model Regression Results                  \n",
       "==============================================================================\n",
       "Dep. Variable:              Converted   No. Observations:                 6372\n",
       "Model:                            GLM   Df Residuals:                     6356\n",
       "Model Family:                Binomial   Df Model:                           15\n",
       "Link Function:                  logit   Scale:                          1.0000\n",
       "Method:                          IRLS   Log-Likelihood:                -2891.7\n",
       "Date:                Tue, 15 Nov 2022   Deviance:                       5783.5\n",
       "Time:                        10:01:38   Pearson chi2:                 6.42e+03\n",
       "No. Iterations:                    21                                         \n",
       "Covariance Type:            nonrobust                                         \n",
       "===============================================================================================\n",
       "                                  coef    std err          z      P>|z|      [0.025      0.975]\n",
       "-----------------------------------------------------------------------------------------------\n",
       "const                          -0.5485      0.991     -0.554      0.580      -2.491       1.394\n",
       "Do Not Email                   -0.3728      0.042     -8.851      0.000      -0.455      -0.290\n",
       "TotalVisits                     0.2270      0.048      4.719      0.000       0.133       0.321\n",
       "Total Time Spent on Website     0.9813      0.036     27.607      0.000       0.912       1.051\n",
       "Page Views Per Visit           -0.3229      0.051     -6.301      0.000      -0.423      -0.222\n",
       "Lead Origin_Lead Add Form       3.3825      0.222     15.237      0.000       2.947       3.818\n",
       "Lead Origin_Lead Import         0.5190      0.441      1.177      0.239      -0.345       1.383\n",
       "Others                         -0.5571      0.726     -0.768      0.443      -1.979       0.865\n",
       "Referral Sites                 -0.5840      0.317     -1.843      0.065      -1.205       0.037\n",
       "Welingak Website                1.9848      0.750      2.647      0.008       0.515       3.454\n",
       "Housewife                      22.3200   1.63e+04      0.001      0.999   -3.19e+04     3.2e+04\n",
       "No data                        -1.3381      0.994     -1.347      0.178      -3.285       0.609\n",
       "Other                          -0.1918      1.178     -0.163      0.871      -2.500       2.117\n",
       "Student                        -0.2045      1.013     -0.202      0.840      -2.191       1.782\n",
       "Unemployed                     -0.1016      0.991     -0.102      0.918      -2.045       1.842\n",
       "Working Professional            2.3897      1.006      2.376      0.018       0.418       4.361\n",
       "===============================================================================================\n",
       "\"\"\""
      ]
     },
     "execution_count": 87,
     "metadata": {},
     "output_type": "execute_result"
    }
   ],
   "source": [
    "# BUILDING MODEL #1\n",
    "\n",
    "X_train_sm = sm.add_constant(X_train[col])\n",
    "logm1 = sm.GLM(y_train,X_train_sm, family = sm.families.Binomial())\n",
    "res = logm1.fit()\n",
    "res.summary()"
   ]
  },
  {
   "cell_type": "markdown",
   "id": "a5f498eb",
   "metadata": {},
   "source": [
    "#### p-value of variable Housewife is high, so we can drop it.\n"
   ]
  },
  {
   "cell_type": "code",
   "execution_count": 88,
   "id": "1ad93658",
   "metadata": {},
   "outputs": [],
   "source": [
    "#dropping column with high p-value\n",
    "\n",
    "col = col.drop('Housewife',1)"
   ]
  },
  {
   "cell_type": "markdown",
   "id": "15c5e963",
   "metadata": {},
   "source": [
    "### Model 2"
   ]
  },
  {
   "cell_type": "code",
   "execution_count": 89,
   "id": "f26e2bd1",
   "metadata": {},
   "outputs": [
    {
     "data": {
      "text/html": [
       "<table class=\"simpletable\">\n",
       "<caption>Generalized Linear Model Regression Results</caption>\n",
       "<tr>\n",
       "  <th>Dep. Variable:</th>       <td>Converted</td>    <th>  No. Observations:  </th>  <td>  6372</td> \n",
       "</tr>\n",
       "<tr>\n",
       "  <th>Model:</th>                  <td>GLM</td>       <th>  Df Residuals:      </th>  <td>  6357</td> \n",
       "</tr>\n",
       "<tr>\n",
       "  <th>Model Family:</th>        <td>Binomial</td>     <th>  Df Model:          </th>  <td>    14</td> \n",
       "</tr>\n",
       "<tr>\n",
       "  <th>Link Function:</th>         <td>logit</td>      <th>  Scale:             </th> <td>  1.0000</td>\n",
       "</tr>\n",
       "<tr>\n",
       "  <th>Method:</th>                <td>IRLS</td>       <th>  Log-Likelihood:    </th> <td> -2894.1</td>\n",
       "</tr>\n",
       "<tr>\n",
       "  <th>Date:</th>            <td>Tue, 15 Nov 2022</td> <th>  Deviance:          </th> <td>  5788.2</td>\n",
       "</tr>\n",
       "<tr>\n",
       "  <th>Time:</th>                <td>10:01:38</td>     <th>  Pearson chi2:      </th> <td>6.42e+03</td>\n",
       "</tr>\n",
       "<tr>\n",
       "  <th>No. Iterations:</th>          <td>7</td>        <th>                     </th>     <td> </td>   \n",
       "</tr>\n",
       "<tr>\n",
       "  <th>Covariance Type:</th>     <td>nonrobust</td>    <th>                     </th>     <td> </td>   \n",
       "</tr>\n",
       "</table>\n",
       "<table class=\"simpletable\">\n",
       "<tr>\n",
       "               <td></td>                  <th>coef</th>     <th>std err</th>      <th>z</th>      <th>P>|z|</th>  <th>[0.025</th>    <th>0.975]</th>  \n",
       "</tr>\n",
       "<tr>\n",
       "  <th>const</th>                       <td>    0.7179</td> <td>    0.728</td> <td>    0.986</td> <td> 0.324</td> <td>   -0.709</td> <td>    2.145</td>\n",
       "</tr>\n",
       "<tr>\n",
       "  <th>Do Not Email</th>                <td>   -0.3729</td> <td>    0.042</td> <td>   -8.852</td> <td> 0.000</td> <td>   -0.455</td> <td>   -0.290</td>\n",
       "</tr>\n",
       "<tr>\n",
       "  <th>TotalVisits</th>                 <td>    0.2249</td> <td>    0.048</td> <td>    4.677</td> <td> 0.000</td> <td>    0.131</td> <td>    0.319</td>\n",
       "</tr>\n",
       "<tr>\n",
       "  <th>Total Time Spent on Website</th> <td>    0.9822</td> <td>    0.036</td> <td>   27.637</td> <td> 0.000</td> <td>    0.913</td> <td>    1.052</td>\n",
       "</tr>\n",
       "<tr>\n",
       "  <th>Page Views Per Visit</th>        <td>   -0.3222</td> <td>    0.051</td> <td>   -6.290</td> <td> 0.000</td> <td>   -0.423</td> <td>   -0.222</td>\n",
       "</tr>\n",
       "<tr>\n",
       "  <th>Lead Origin_Lead Add Form</th>   <td>    3.3800</td> <td>    0.222</td> <td>   15.227</td> <td> 0.000</td> <td>    2.945</td> <td>    3.815</td>\n",
       "</tr>\n",
       "<tr>\n",
       "  <th>Lead Origin_Lead Import</th>     <td>    0.5183</td> <td>    0.441</td> <td>    1.175</td> <td> 0.240</td> <td>   -0.346</td> <td>    1.383</td>\n",
       "</tr>\n",
       "<tr>\n",
       "  <th>Others</th>                      <td>   -0.5565</td> <td>    0.726</td> <td>   -0.767</td> <td> 0.443</td> <td>   -1.979</td> <td>    0.866</td>\n",
       "</tr>\n",
       "<tr>\n",
       "  <th>Referral Sites</th>              <td>   -0.5832</td> <td>    0.317</td> <td>   -1.840</td> <td> 0.066</td> <td>   -1.204</td> <td>    0.038</td>\n",
       "</tr>\n",
       "<tr>\n",
       "  <th>Welingak Website</th>            <td>    1.9866</td> <td>    0.750</td> <td>    2.650</td> <td> 0.008</td> <td>    0.517</td> <td>    3.456</td>\n",
       "</tr>\n",
       "<tr>\n",
       "  <th>No data</th>                     <td>   -2.6046</td> <td>    0.732</td> <td>   -3.559</td> <td> 0.000</td> <td>   -4.039</td> <td>   -1.170</td>\n",
       "</tr>\n",
       "<tr>\n",
       "  <th>Other</th>                       <td>   -1.4575</td> <td>    0.968</td> <td>   -1.506</td> <td> 0.132</td> <td>   -3.354</td> <td>    0.439</td>\n",
       "</tr>\n",
       "<tr>\n",
       "  <th>Student</th>                     <td>   -1.4708</td> <td>    0.759</td> <td>   -1.939</td> <td> 0.053</td> <td>   -2.958</td> <td>    0.016</td>\n",
       "</tr>\n",
       "<tr>\n",
       "  <th>Unemployed</th>                  <td>   -1.3679</td> <td>    0.729</td> <td>   -1.876</td> <td> 0.061</td> <td>   -2.797</td> <td>    0.061</td>\n",
       "</tr>\n",
       "<tr>\n",
       "  <th>Working Professional</th>        <td>    1.1234</td> <td>    0.748</td> <td>    1.501</td> <td> 0.133</td> <td>   -0.344</td> <td>    2.590</td>\n",
       "</tr>\n",
       "</table>"
      ],
      "text/plain": [
       "<class 'statsmodels.iolib.summary.Summary'>\n",
       "\"\"\"\n",
       "                 Generalized Linear Model Regression Results                  \n",
       "==============================================================================\n",
       "Dep. Variable:              Converted   No. Observations:                 6372\n",
       "Model:                            GLM   Df Residuals:                     6357\n",
       "Model Family:                Binomial   Df Model:                           14\n",
       "Link Function:                  logit   Scale:                          1.0000\n",
       "Method:                          IRLS   Log-Likelihood:                -2894.1\n",
       "Date:                Tue, 15 Nov 2022   Deviance:                       5788.2\n",
       "Time:                        10:01:38   Pearson chi2:                 6.42e+03\n",
       "No. Iterations:                     7                                         \n",
       "Covariance Type:            nonrobust                                         \n",
       "===============================================================================================\n",
       "                                  coef    std err          z      P>|z|      [0.025      0.975]\n",
       "-----------------------------------------------------------------------------------------------\n",
       "const                           0.7179      0.728      0.986      0.324      -0.709       2.145\n",
       "Do Not Email                   -0.3729      0.042     -8.852      0.000      -0.455      -0.290\n",
       "TotalVisits                     0.2249      0.048      4.677      0.000       0.131       0.319\n",
       "Total Time Spent on Website     0.9822      0.036     27.637      0.000       0.913       1.052\n",
       "Page Views Per Visit           -0.3222      0.051     -6.290      0.000      -0.423      -0.222\n",
       "Lead Origin_Lead Add Form       3.3800      0.222     15.227      0.000       2.945       3.815\n",
       "Lead Origin_Lead Import         0.5183      0.441      1.175      0.240      -0.346       1.383\n",
       "Others                         -0.5565      0.726     -0.767      0.443      -1.979       0.866\n",
       "Referral Sites                 -0.5832      0.317     -1.840      0.066      -1.204       0.038\n",
       "Welingak Website                1.9866      0.750      2.650      0.008       0.517       3.456\n",
       "No data                        -2.6046      0.732     -3.559      0.000      -4.039      -1.170\n",
       "Other                          -1.4575      0.968     -1.506      0.132      -3.354       0.439\n",
       "Student                        -1.4708      0.759     -1.939      0.053      -2.958       0.016\n",
       "Unemployed                     -1.3679      0.729     -1.876      0.061      -2.797       0.061\n",
       "Working Professional            1.1234      0.748      1.501      0.133      -0.344       2.590\n",
       "===============================================================================================\n",
       "\"\"\""
      ]
     },
     "execution_count": 89,
     "metadata": {},
     "output_type": "execute_result"
    }
   ],
   "source": [
    "#BUILDING MODEL #2\n",
    "\n",
    "X_train_sm = sm.add_constant(X_train[col])\n",
    "logm2 = sm.GLM(y_train,X_train_sm, family = sm.families.Binomial())\n",
    "res = logm2.fit()\n",
    "res.summary()"
   ]
  },
  {
   "cell_type": "markdown",
   "id": "d0cad9f3",
   "metadata": {},
   "source": [
    "#### p-value of variable \"Others\" is high, so we will drop it."
   ]
  },
  {
   "cell_type": "code",
   "execution_count": 90,
   "id": "434a5513",
   "metadata": {},
   "outputs": [],
   "source": [
    "#dropping column with high p-value\n",
    "\n",
    "col = col.drop('Others',1)"
   ]
  },
  {
   "cell_type": "markdown",
   "id": "a2cf80fb",
   "metadata": {},
   "source": [
    "### Model 3"
   ]
  },
  {
   "cell_type": "code",
   "execution_count": 91,
   "id": "7c6bf1e0",
   "metadata": {},
   "outputs": [
    {
     "data": {
      "text/html": [
       "<table class=\"simpletable\">\n",
       "<caption>Generalized Linear Model Regression Results</caption>\n",
       "<tr>\n",
       "  <th>Dep. Variable:</th>       <td>Converted</td>    <th>  No. Observations:  </th>  <td>  6372</td> \n",
       "</tr>\n",
       "<tr>\n",
       "  <th>Model:</th>                  <td>GLM</td>       <th>  Df Residuals:      </th>  <td>  6358</td> \n",
       "</tr>\n",
       "<tr>\n",
       "  <th>Model Family:</th>        <td>Binomial</td>     <th>  Df Model:          </th>  <td>    13</td> \n",
       "</tr>\n",
       "<tr>\n",
       "  <th>Link Function:</th>         <td>logit</td>      <th>  Scale:             </th> <td>  1.0000</td>\n",
       "</tr>\n",
       "<tr>\n",
       "  <th>Method:</th>                <td>IRLS</td>       <th>  Log-Likelihood:    </th> <td> -2894.4</td>\n",
       "</tr>\n",
       "<tr>\n",
       "  <th>Date:</th>            <td>Tue, 15 Nov 2022</td> <th>  Deviance:          </th> <td>  5788.9</td>\n",
       "</tr>\n",
       "<tr>\n",
       "  <th>Time:</th>                <td>10:01:39</td>     <th>  Pearson chi2:      </th> <td>6.42e+03</td>\n",
       "</tr>\n",
       "<tr>\n",
       "  <th>No. Iterations:</th>          <td>7</td>        <th>                     </th>     <td> </td>   \n",
       "</tr>\n",
       "<tr>\n",
       "  <th>Covariance Type:</th>     <td>nonrobust</td>    <th>                     </th>     <td> </td>   \n",
       "</tr>\n",
       "</table>\n",
       "<table class=\"simpletable\">\n",
       "<tr>\n",
       "               <td></td>                  <th>coef</th>     <th>std err</th>      <th>z</th>      <th>P>|z|</th>  <th>[0.025</th>    <th>0.975]</th>  \n",
       "</tr>\n",
       "<tr>\n",
       "  <th>const</th>                       <td>    0.7184</td> <td>    0.728</td> <td>    0.987</td> <td> 0.324</td> <td>   -0.709</td> <td>    2.146</td>\n",
       "</tr>\n",
       "<tr>\n",
       "  <th>Do Not Email</th>                <td>   -0.3725</td> <td>    0.042</td> <td>   -8.848</td> <td> 0.000</td> <td>   -0.455</td> <td>   -0.290</td>\n",
       "</tr>\n",
       "<tr>\n",
       "  <th>TotalVisits</th>                 <td>    0.2248</td> <td>    0.048</td> <td>    4.675</td> <td> 0.000</td> <td>    0.131</td> <td>    0.319</td>\n",
       "</tr>\n",
       "<tr>\n",
       "  <th>Total Time Spent on Website</th> <td>    0.9823</td> <td>    0.036</td> <td>   27.639</td> <td> 0.000</td> <td>    0.913</td> <td>    1.052</td>\n",
       "</tr>\n",
       "<tr>\n",
       "  <th>Page Views Per Visit</th>        <td>   -0.3221</td> <td>    0.051</td> <td>   -6.287</td> <td> 0.000</td> <td>   -0.422</td> <td>   -0.222</td>\n",
       "</tr>\n",
       "<tr>\n",
       "  <th>Lead Origin_Lead Add Form</th>   <td>    3.3678</td> <td>    0.221</td> <td>   15.232</td> <td> 0.000</td> <td>    2.934</td> <td>    3.801</td>\n",
       "</tr>\n",
       "<tr>\n",
       "  <th>Lead Origin_Lead Import</th>     <td>    0.5192</td> <td>    0.441</td> <td>    1.177</td> <td> 0.239</td> <td>   -0.345</td> <td>    1.384</td>\n",
       "</tr>\n",
       "<tr>\n",
       "  <th>Referral Sites</th>              <td>   -0.5822</td> <td>    0.317</td> <td>   -1.837</td> <td> 0.066</td> <td>   -1.203</td> <td>    0.039</td>\n",
       "</tr>\n",
       "<tr>\n",
       "  <th>Welingak Website</th>            <td>    1.9994</td> <td>    0.749</td> <td>    2.668</td> <td> 0.008</td> <td>    0.530</td> <td>    3.468</td>\n",
       "</tr>\n",
       "<tr>\n",
       "  <th>No data</th>                     <td>   -2.6069</td> <td>    0.732</td> <td>   -3.562</td> <td> 0.000</td> <td>   -4.041</td> <td>   -1.173</td>\n",
       "</tr>\n",
       "<tr>\n",
       "  <th>Other</th>                       <td>   -1.4580</td> <td>    0.968</td> <td>   -1.507</td> <td> 0.132</td> <td>   -3.355</td> <td>    0.439</td>\n",
       "</tr>\n",
       "<tr>\n",
       "  <th>Student</th>                     <td>   -1.4708</td> <td>    0.759</td> <td>   -1.939</td> <td> 0.053</td> <td>   -2.957</td> <td>    0.016</td>\n",
       "</tr>\n",
       "<tr>\n",
       "  <th>Unemployed</th>                  <td>   -1.3691</td> <td>    0.729</td> <td>   -1.878</td> <td> 0.060</td> <td>   -2.798</td> <td>    0.060</td>\n",
       "</tr>\n",
       "<tr>\n",
       "  <th>Working Professional</th>        <td>    1.1232</td> <td>    0.748</td> <td>    1.501</td> <td> 0.133</td> <td>   -0.344</td> <td>    2.590</td>\n",
       "</tr>\n",
       "</table>"
      ],
      "text/plain": [
       "<class 'statsmodels.iolib.summary.Summary'>\n",
       "\"\"\"\n",
       "                 Generalized Linear Model Regression Results                  \n",
       "==============================================================================\n",
       "Dep. Variable:              Converted   No. Observations:                 6372\n",
       "Model:                            GLM   Df Residuals:                     6358\n",
       "Model Family:                Binomial   Df Model:                           13\n",
       "Link Function:                  logit   Scale:                          1.0000\n",
       "Method:                          IRLS   Log-Likelihood:                -2894.4\n",
       "Date:                Tue, 15 Nov 2022   Deviance:                       5788.9\n",
       "Time:                        10:01:39   Pearson chi2:                 6.42e+03\n",
       "No. Iterations:                     7                                         \n",
       "Covariance Type:            nonrobust                                         \n",
       "===============================================================================================\n",
       "                                  coef    std err          z      P>|z|      [0.025      0.975]\n",
       "-----------------------------------------------------------------------------------------------\n",
       "const                           0.7184      0.728      0.987      0.324      -0.709       2.146\n",
       "Do Not Email                   -0.3725      0.042     -8.848      0.000      -0.455      -0.290\n",
       "TotalVisits                     0.2248      0.048      4.675      0.000       0.131       0.319\n",
       "Total Time Spent on Website     0.9823      0.036     27.639      0.000       0.913       1.052\n",
       "Page Views Per Visit           -0.3221      0.051     -6.287      0.000      -0.422      -0.222\n",
       "Lead Origin_Lead Add Form       3.3678      0.221     15.232      0.000       2.934       3.801\n",
       "Lead Origin_Lead Import         0.5192      0.441      1.177      0.239      -0.345       1.384\n",
       "Referral Sites                 -0.5822      0.317     -1.837      0.066      -1.203       0.039\n",
       "Welingak Website                1.9994      0.749      2.668      0.008       0.530       3.468\n",
       "No data                        -2.6069      0.732     -3.562      0.000      -4.041      -1.173\n",
       "Other                          -1.4580      0.968     -1.507      0.132      -3.355       0.439\n",
       "Student                        -1.4708      0.759     -1.939      0.053      -2.957       0.016\n",
       "Unemployed                     -1.3691      0.729     -1.878      0.060      -2.798       0.060\n",
       "Working Professional            1.1232      0.748      1.501      0.133      -0.344       2.590\n",
       "===============================================================================================\n",
       "\"\"\""
      ]
     },
     "execution_count": 91,
     "metadata": {},
     "output_type": "execute_result"
    }
   ],
   "source": [
    "#BUILDING MODEL #3\n",
    "\n",
    "X_train_sm = sm.add_constant(X_train[col])\n",
    "logm3 = sm.GLM(y_train,X_train_sm, family = sm.families.Binomial())\n",
    "res = logm3.fit()\n",
    "res.summary()"
   ]
  },
  {
   "cell_type": "markdown",
   "id": "bcde437f",
   "metadata": {},
   "source": [
    "#### Variable 'Lead Origin_Lead Import' has high p-value, so it needs to be dropped"
   ]
  },
  {
   "cell_type": "code",
   "execution_count": 92,
   "id": "67e0ddbe",
   "metadata": {},
   "outputs": [],
   "source": [
    "# Dropping column with high p-value\n",
    "\n",
    "col = col.drop('Lead Origin_Lead Import',1)"
   ]
  },
  {
   "cell_type": "markdown",
   "id": "4066f8a6",
   "metadata": {},
   "source": [
    "### Model 4"
   ]
  },
  {
   "cell_type": "code",
   "execution_count": 93,
   "id": "2c53c1f4",
   "metadata": {},
   "outputs": [
    {
     "data": {
      "text/html": [
       "<table class=\"simpletable\">\n",
       "<caption>Generalized Linear Model Regression Results</caption>\n",
       "<tr>\n",
       "  <th>Dep. Variable:</th>       <td>Converted</td>    <th>  No. Observations:  </th>  <td>  6372</td> \n",
       "</tr>\n",
       "<tr>\n",
       "  <th>Model:</th>                  <td>GLM</td>       <th>  Df Residuals:      </th>  <td>  6359</td> \n",
       "</tr>\n",
       "<tr>\n",
       "  <th>Model Family:</th>        <td>Binomial</td>     <th>  Df Model:          </th>  <td>    12</td> \n",
       "</tr>\n",
       "<tr>\n",
       "  <th>Link Function:</th>         <td>logit</td>      <th>  Scale:             </th> <td>  1.0000</td>\n",
       "</tr>\n",
       "<tr>\n",
       "  <th>Method:</th>                <td>IRLS</td>       <th>  Log-Likelihood:    </th> <td> -2895.1</td>\n",
       "</tr>\n",
       "<tr>\n",
       "  <th>Date:</th>            <td>Tue, 15 Nov 2022</td> <th>  Deviance:          </th> <td>  5790.2</td>\n",
       "</tr>\n",
       "<tr>\n",
       "  <th>Time:</th>                <td>10:01:39</td>     <th>  Pearson chi2:      </th> <td>6.42e+03</td>\n",
       "</tr>\n",
       "<tr>\n",
       "  <th>No. Iterations:</th>          <td>7</td>        <th>                     </th>     <td> </td>   \n",
       "</tr>\n",
       "<tr>\n",
       "  <th>Covariance Type:</th>     <td>nonrobust</td>    <th>                     </th>     <td> </td>   \n",
       "</tr>\n",
       "</table>\n",
       "<table class=\"simpletable\">\n",
       "<tr>\n",
       "               <td></td>                  <th>coef</th>     <th>std err</th>      <th>z</th>      <th>P>|z|</th>  <th>[0.025</th>    <th>0.975]</th>  \n",
       "</tr>\n",
       "<tr>\n",
       "  <th>const</th>                       <td>    0.7193</td> <td>    0.728</td> <td>    0.988</td> <td> 0.323</td> <td>   -0.708</td> <td>    2.146</td>\n",
       "</tr>\n",
       "<tr>\n",
       "  <th>Do Not Email</th>                <td>   -0.3732</td> <td>    0.042</td> <td>   -8.866</td> <td> 0.000</td> <td>   -0.456</td> <td>   -0.291</td>\n",
       "</tr>\n",
       "<tr>\n",
       "  <th>TotalVisits</th>                 <td>    0.2237</td> <td>    0.048</td> <td>    4.652</td> <td> 0.000</td> <td>    0.129</td> <td>    0.318</td>\n",
       "</tr>\n",
       "<tr>\n",
       "  <th>Total Time Spent on Website</th> <td>    0.9805</td> <td>    0.036</td> <td>   27.618</td> <td> 0.000</td> <td>    0.911</td> <td>    1.050</td>\n",
       "</tr>\n",
       "<tr>\n",
       "  <th>Page Views Per Visit</th>        <td>   -0.3247</td> <td>    0.051</td> <td>   -6.345</td> <td> 0.000</td> <td>   -0.425</td> <td>   -0.224</td>\n",
       "</tr>\n",
       "<tr>\n",
       "  <th>Lead Origin_Lead Add Form</th>   <td>    3.3576</td> <td>    0.221</td> <td>   15.199</td> <td> 0.000</td> <td>    2.925</td> <td>    3.791</td>\n",
       "</tr>\n",
       "<tr>\n",
       "  <th>Referral Sites</th>              <td>   -0.5825</td> <td>    0.317</td> <td>   -1.838</td> <td> 0.066</td> <td>   -1.203</td> <td>    0.039</td>\n",
       "</tr>\n",
       "<tr>\n",
       "  <th>Welingak Website</th>            <td>    1.9997</td> <td>    0.749</td> <td>    2.668</td> <td> 0.008</td> <td>    0.531</td> <td>    3.469</td>\n",
       "</tr>\n",
       "<tr>\n",
       "  <th>No data</th>                     <td>   -2.6069</td> <td>    0.732</td> <td>   -3.563</td> <td> 0.000</td> <td>   -4.041</td> <td>   -1.173</td>\n",
       "</tr>\n",
       "<tr>\n",
       "  <th>Other</th>                       <td>   -1.4557</td> <td>    0.968</td> <td>   -1.505</td> <td> 0.132</td> <td>   -3.352</td> <td>    0.441</td>\n",
       "</tr>\n",
       "<tr>\n",
       "  <th>Student</th>                     <td>   -1.4716</td> <td>    0.758</td> <td>   -1.941</td> <td> 0.052</td> <td>   -2.958</td> <td>    0.015</td>\n",
       "</tr>\n",
       "<tr>\n",
       "  <th>Unemployed</th>                  <td>   -1.3657</td> <td>    0.729</td> <td>   -1.874</td> <td> 0.061</td> <td>   -2.794</td> <td>    0.063</td>\n",
       "</tr>\n",
       "<tr>\n",
       "  <th>Working Professional</th>        <td>    1.1275</td> <td>    0.748</td> <td>    1.507</td> <td> 0.132</td> <td>   -0.339</td> <td>    2.594</td>\n",
       "</tr>\n",
       "</table>"
      ],
      "text/plain": [
       "<class 'statsmodels.iolib.summary.Summary'>\n",
       "\"\"\"\n",
       "                 Generalized Linear Model Regression Results                  \n",
       "==============================================================================\n",
       "Dep. Variable:              Converted   No. Observations:                 6372\n",
       "Model:                            GLM   Df Residuals:                     6359\n",
       "Model Family:                Binomial   Df Model:                           12\n",
       "Link Function:                  logit   Scale:                          1.0000\n",
       "Method:                          IRLS   Log-Likelihood:                -2895.1\n",
       "Date:                Tue, 15 Nov 2022   Deviance:                       5790.2\n",
       "Time:                        10:01:39   Pearson chi2:                 6.42e+03\n",
       "No. Iterations:                     7                                         \n",
       "Covariance Type:            nonrobust                                         \n",
       "===============================================================================================\n",
       "                                  coef    std err          z      P>|z|      [0.025      0.975]\n",
       "-----------------------------------------------------------------------------------------------\n",
       "const                           0.7193      0.728      0.988      0.323      -0.708       2.146\n",
       "Do Not Email                   -0.3732      0.042     -8.866      0.000      -0.456      -0.291\n",
       "TotalVisits                     0.2237      0.048      4.652      0.000       0.129       0.318\n",
       "Total Time Spent on Website     0.9805      0.036     27.618      0.000       0.911       1.050\n",
       "Page Views Per Visit           -0.3247      0.051     -6.345      0.000      -0.425      -0.224\n",
       "Lead Origin_Lead Add Form       3.3576      0.221     15.199      0.000       2.925       3.791\n",
       "Referral Sites                 -0.5825      0.317     -1.838      0.066      -1.203       0.039\n",
       "Welingak Website                1.9997      0.749      2.668      0.008       0.531       3.469\n",
       "No data                        -2.6069      0.732     -3.563      0.000      -4.041      -1.173\n",
       "Other                          -1.4557      0.968     -1.505      0.132      -3.352       0.441\n",
       "Student                        -1.4716      0.758     -1.941      0.052      -2.958       0.015\n",
       "Unemployed                     -1.3657      0.729     -1.874      0.061      -2.794       0.063\n",
       "Working Professional            1.1275      0.748      1.507      0.132      -0.339       2.594\n",
       "===============================================================================================\n",
       "\"\"\""
      ]
     },
     "execution_count": 93,
     "metadata": {},
     "output_type": "execute_result"
    }
   ],
   "source": [
    "# BUILDING MODEL #4\n",
    "\n",
    "X_train_sm = sm.add_constant(X_train[col])\n",
    "logm4 = sm.GLM(y_train,X_train_sm, family = sm.families.Binomial())\n",
    "res = logm4.fit()\n",
    "res.summary()"
   ]
  },
  {
   "cell_type": "code",
   "execution_count": 94,
   "id": "15506a35",
   "metadata": {},
   "outputs": [],
   "source": [
    "# Dropping column with high p-value\n",
    "\n",
    "col = col.drop('Working Professional',1)"
   ]
  },
  {
   "cell_type": "markdown",
   "id": "271b9087",
   "metadata": {},
   "source": [
    "### Model 5"
   ]
  },
  {
   "cell_type": "code",
   "execution_count": 95,
   "id": "8b4edd55",
   "metadata": {},
   "outputs": [
    {
     "data": {
      "text/html": [
       "<table class=\"simpletable\">\n",
       "<caption>Generalized Linear Model Regression Results</caption>\n",
       "<tr>\n",
       "  <th>Dep. Variable:</th>       <td>Converted</td>    <th>  No. Observations:  </th>  <td>  6372</td> \n",
       "</tr>\n",
       "<tr>\n",
       "  <th>Model:</th>                  <td>GLM</td>       <th>  Df Residuals:      </th>  <td>  6360</td> \n",
       "</tr>\n",
       "<tr>\n",
       "  <th>Model Family:</th>        <td>Binomial</td>     <th>  Df Model:          </th>  <td>    11</td> \n",
       "</tr>\n",
       "<tr>\n",
       "  <th>Link Function:</th>         <td>logit</td>      <th>  Scale:             </th> <td>  1.0000</td>\n",
       "</tr>\n",
       "<tr>\n",
       "  <th>Method:</th>                <td>IRLS</td>       <th>  Log-Likelihood:    </th> <td> -2896.1</td>\n",
       "</tr>\n",
       "<tr>\n",
       "  <th>Date:</th>            <td>Tue, 15 Nov 2022</td> <th>  Deviance:          </th> <td>  5792.1</td>\n",
       "</tr>\n",
       "<tr>\n",
       "  <th>Time:</th>                <td>10:01:39</td>     <th>  Pearson chi2:      </th> <td>6.40e+03</td>\n",
       "</tr>\n",
       "<tr>\n",
       "  <th>No. Iterations:</th>          <td>7</td>        <th>                     </th>     <td> </td>   \n",
       "</tr>\n",
       "<tr>\n",
       "  <th>Covariance Type:</th>     <td>nonrobust</td>    <th>                     </th>     <td> </td>   \n",
       "</tr>\n",
       "</table>\n",
       "<table class=\"simpletable\">\n",
       "<tr>\n",
       "               <td></td>                  <th>coef</th>     <th>std err</th>      <th>z</th>      <th>P>|z|</th>  <th>[0.025</th>    <th>0.975]</th>  \n",
       "</tr>\n",
       "<tr>\n",
       "  <th>const</th>                       <td>    1.7991</td> <td>    0.168</td> <td>   10.725</td> <td> 0.000</td> <td>    1.470</td> <td>    2.128</td>\n",
       "</tr>\n",
       "<tr>\n",
       "  <th>Do Not Email</th>                <td>   -0.3724</td> <td>    0.042</td> <td>   -8.857</td> <td> 0.000</td> <td>   -0.455</td> <td>   -0.290</td>\n",
       "</tr>\n",
       "<tr>\n",
       "  <th>TotalVisits</th>                 <td>    0.2224</td> <td>    0.048</td> <td>    4.626</td> <td> 0.000</td> <td>    0.128</td> <td>    0.317</td>\n",
       "</tr>\n",
       "<tr>\n",
       "  <th>Total Time Spent on Website</th> <td>    0.9808</td> <td>    0.036</td> <td>   27.627</td> <td> 0.000</td> <td>    0.911</td> <td>    1.050</td>\n",
       "</tr>\n",
       "<tr>\n",
       "  <th>Page Views Per Visit</th>        <td>   -0.3240</td> <td>    0.051</td> <td>   -6.333</td> <td> 0.000</td> <td>   -0.424</td> <td>   -0.224</td>\n",
       "</tr>\n",
       "<tr>\n",
       "  <th>Lead Origin_Lead Add Form</th>   <td>    3.3577</td> <td>    0.221</td> <td>   15.201</td> <td> 0.000</td> <td>    2.925</td> <td>    3.791</td>\n",
       "</tr>\n",
       "<tr>\n",
       "  <th>Referral Sites</th>              <td>   -0.5803</td> <td>    0.317</td> <td>   -1.833</td> <td> 0.067</td> <td>   -1.201</td> <td>    0.040</td>\n",
       "</tr>\n",
       "<tr>\n",
       "  <th>Welingak Website</th>            <td>    1.9985</td> <td>    0.749</td> <td>    2.667</td> <td> 0.008</td> <td>    0.530</td> <td>    3.467</td>\n",
       "</tr>\n",
       "<tr>\n",
       "  <th>No data</th>                     <td>   -3.6866</td> <td>    0.183</td> <td>  -20.092</td> <td> 0.000</td> <td>   -4.046</td> <td>   -3.327</td>\n",
       "</tr>\n",
       "<tr>\n",
       "  <th>Other</th>                       <td>   -2.5350</td> <td>    0.660</td> <td>   -3.843</td> <td> 0.000</td> <td>   -3.828</td> <td>   -1.242</td>\n",
       "</tr>\n",
       "<tr>\n",
       "  <th>Student</th>                     <td>   -2.5513</td> <td>    0.271</td> <td>   -9.425</td> <td> 0.000</td> <td>   -3.082</td> <td>   -2.021</td>\n",
       "</tr>\n",
       "<tr>\n",
       "  <th>Unemployed</th>                  <td>   -2.4454</td> <td>    0.172</td> <td>  -14.215</td> <td> 0.000</td> <td>   -2.783</td> <td>   -2.108</td>\n",
       "</tr>\n",
       "</table>"
      ],
      "text/plain": [
       "<class 'statsmodels.iolib.summary.Summary'>\n",
       "\"\"\"\n",
       "                 Generalized Linear Model Regression Results                  \n",
       "==============================================================================\n",
       "Dep. Variable:              Converted   No. Observations:                 6372\n",
       "Model:                            GLM   Df Residuals:                     6360\n",
       "Model Family:                Binomial   Df Model:                           11\n",
       "Link Function:                  logit   Scale:                          1.0000\n",
       "Method:                          IRLS   Log-Likelihood:                -2896.1\n",
       "Date:                Tue, 15 Nov 2022   Deviance:                       5792.1\n",
       "Time:                        10:01:39   Pearson chi2:                 6.40e+03\n",
       "No. Iterations:                     7                                         \n",
       "Covariance Type:            nonrobust                                         \n",
       "===============================================================================================\n",
       "                                  coef    std err          z      P>|z|      [0.025      0.975]\n",
       "-----------------------------------------------------------------------------------------------\n",
       "const                           1.7991      0.168     10.725      0.000       1.470       2.128\n",
       "Do Not Email                   -0.3724      0.042     -8.857      0.000      -0.455      -0.290\n",
       "TotalVisits                     0.2224      0.048      4.626      0.000       0.128       0.317\n",
       "Total Time Spent on Website     0.9808      0.036     27.627      0.000       0.911       1.050\n",
       "Page Views Per Visit           -0.3240      0.051     -6.333      0.000      -0.424      -0.224\n",
       "Lead Origin_Lead Add Form       3.3577      0.221     15.201      0.000       2.925       3.791\n",
       "Referral Sites                 -0.5803      0.317     -1.833      0.067      -1.201       0.040\n",
       "Welingak Website                1.9985      0.749      2.667      0.008       0.530       3.467\n",
       "No data                        -3.6866      0.183    -20.092      0.000      -4.046      -3.327\n",
       "Other                          -2.5350      0.660     -3.843      0.000      -3.828      -1.242\n",
       "Student                        -2.5513      0.271     -9.425      0.000      -3.082      -2.021\n",
       "Unemployed                     -2.4454      0.172    -14.215      0.000      -2.783      -2.108\n",
       "===============================================================================================\n",
       "\"\"\""
      ]
     },
     "execution_count": 95,
     "metadata": {},
     "output_type": "execute_result"
    }
   ],
   "source": [
    "#BUILDING MODEL #5\n",
    "\n",
    "X_train_sm = sm.add_constant(X_train[col])\n",
    "logm5 = sm.GLM(y_train,X_train_sm, family = sm.families.Binomial())\n",
    "res = logm5.fit()\n",
    "res.summary()"
   ]
  },
  {
   "cell_type": "code",
   "execution_count": 96,
   "id": "1369388f",
   "metadata": {},
   "outputs": [],
   "source": [
    "# Dropping column with high p-value\n",
    "\n",
    "col = col.drop('Welingak Website',1)"
   ]
  },
  {
   "cell_type": "markdown",
   "id": "a8372743",
   "metadata": {},
   "source": [
    "### Model 6"
   ]
  },
  {
   "cell_type": "code",
   "execution_count": 97,
   "id": "99887ee1",
   "metadata": {},
   "outputs": [
    {
     "data": {
      "text/html": [
       "<table class=\"simpletable\">\n",
       "<caption>Generalized Linear Model Regression Results</caption>\n",
       "<tr>\n",
       "  <th>Dep. Variable:</th>       <td>Converted</td>    <th>  No. Observations:  </th>  <td>  6372</td> \n",
       "</tr>\n",
       "<tr>\n",
       "  <th>Model:</th>                  <td>GLM</td>       <th>  Df Residuals:      </th>  <td>  6361</td> \n",
       "</tr>\n",
       "<tr>\n",
       "  <th>Model Family:</th>        <td>Binomial</td>     <th>  Df Model:          </th>  <td>    10</td> \n",
       "</tr>\n",
       "<tr>\n",
       "  <th>Link Function:</th>         <td>logit</td>      <th>  Scale:             </th> <td>  1.0000</td>\n",
       "</tr>\n",
       "<tr>\n",
       "  <th>Method:</th>                <td>IRLS</td>       <th>  Log-Likelihood:    </th> <td> -2901.9</td>\n",
       "</tr>\n",
       "<tr>\n",
       "  <th>Date:</th>            <td>Tue, 15 Nov 2022</td> <th>  Deviance:          </th> <td>  5803.9</td>\n",
       "</tr>\n",
       "<tr>\n",
       "  <th>Time:</th>                <td>10:01:39</td>     <th>  Pearson chi2:      </th> <td>6.53e+03</td>\n",
       "</tr>\n",
       "<tr>\n",
       "  <th>No. Iterations:</th>          <td>6</td>        <th>                     </th>     <td> </td>   \n",
       "</tr>\n",
       "<tr>\n",
       "  <th>Covariance Type:</th>     <td>nonrobust</td>    <th>                     </th>     <td> </td>   \n",
       "</tr>\n",
       "</table>\n",
       "<table class=\"simpletable\">\n",
       "<tr>\n",
       "               <td></td>                  <th>coef</th>     <th>std err</th>      <th>z</th>      <th>P>|z|</th>  <th>[0.025</th>    <th>0.975]</th>  \n",
       "</tr>\n",
       "<tr>\n",
       "  <th>const</th>                       <td>    1.7898</td> <td>    0.168</td> <td>   10.663</td> <td> 0.000</td> <td>    1.461</td> <td>    2.119</td>\n",
       "</tr>\n",
       "<tr>\n",
       "  <th>Do Not Email</th>                <td>   -0.3644</td> <td>    0.041</td> <td>   -8.814</td> <td> 0.000</td> <td>   -0.445</td> <td>   -0.283</td>\n",
       "</tr>\n",
       "<tr>\n",
       "  <th>TotalVisits</th>                 <td>    0.2223</td> <td>    0.048</td> <td>    4.626</td> <td> 0.000</td> <td>    0.128</td> <td>    0.317</td>\n",
       "</tr>\n",
       "<tr>\n",
       "  <th>Total Time Spent on Website</th> <td>    0.9802</td> <td>    0.035</td> <td>   27.624</td> <td> 0.000</td> <td>    0.911</td> <td>    1.050</td>\n",
       "</tr>\n",
       "<tr>\n",
       "  <th>Page Views Per Visit</th>        <td>   -0.3240</td> <td>    0.051</td> <td>   -6.335</td> <td> 0.000</td> <td>   -0.424</td> <td>   -0.224</td>\n",
       "</tr>\n",
       "<tr>\n",
       "  <th>Lead Origin_Lead Add Form</th>   <td>    3.7166</td> <td>    0.212</td> <td>   17.566</td> <td> 0.000</td> <td>    3.302</td> <td>    4.131</td>\n",
       "</tr>\n",
       "<tr>\n",
       "  <th>Referral Sites</th>              <td>   -0.5796</td> <td>    0.316</td> <td>   -1.832</td> <td> 0.067</td> <td>   -1.200</td> <td>    0.041</td>\n",
       "</tr>\n",
       "<tr>\n",
       "  <th>No data</th>                     <td>   -3.6760</td> <td>    0.184</td> <td>  -20.025</td> <td> 0.000</td> <td>   -4.036</td> <td>   -3.316</td>\n",
       "</tr>\n",
       "<tr>\n",
       "  <th>Other</th>                       <td>   -2.5258</td> <td>    0.659</td> <td>   -3.831</td> <td> 0.000</td> <td>   -3.818</td> <td>   -1.233</td>\n",
       "</tr>\n",
       "<tr>\n",
       "  <th>Student</th>                     <td>   -2.5522</td> <td>    0.272</td> <td>   -9.393</td> <td> 0.000</td> <td>   -3.085</td> <td>   -2.020</td>\n",
       "</tr>\n",
       "<tr>\n",
       "  <th>Unemployed</th>                  <td>   -2.4341</td> <td>    0.172</td> <td>  -14.136</td> <td> 0.000</td> <td>   -2.772</td> <td>   -2.097</td>\n",
       "</tr>\n",
       "</table>"
      ],
      "text/plain": [
       "<class 'statsmodels.iolib.summary.Summary'>\n",
       "\"\"\"\n",
       "                 Generalized Linear Model Regression Results                  \n",
       "==============================================================================\n",
       "Dep. Variable:              Converted   No. Observations:                 6372\n",
       "Model:                            GLM   Df Residuals:                     6361\n",
       "Model Family:                Binomial   Df Model:                           10\n",
       "Link Function:                  logit   Scale:                          1.0000\n",
       "Method:                          IRLS   Log-Likelihood:                -2901.9\n",
       "Date:                Tue, 15 Nov 2022   Deviance:                       5803.9\n",
       "Time:                        10:01:39   Pearson chi2:                 6.53e+03\n",
       "No. Iterations:                     6                                         \n",
       "Covariance Type:            nonrobust                                         \n",
       "===============================================================================================\n",
       "                                  coef    std err          z      P>|z|      [0.025      0.975]\n",
       "-----------------------------------------------------------------------------------------------\n",
       "const                           1.7898      0.168     10.663      0.000       1.461       2.119\n",
       "Do Not Email                   -0.3644      0.041     -8.814      0.000      -0.445      -0.283\n",
       "TotalVisits                     0.2223      0.048      4.626      0.000       0.128       0.317\n",
       "Total Time Spent on Website     0.9802      0.035     27.624      0.000       0.911       1.050\n",
       "Page Views Per Visit           -0.3240      0.051     -6.335      0.000      -0.424      -0.224\n",
       "Lead Origin_Lead Add Form       3.7166      0.212     17.566      0.000       3.302       4.131\n",
       "Referral Sites                 -0.5796      0.316     -1.832      0.067      -1.200       0.041\n",
       "No data                        -3.6760      0.184    -20.025      0.000      -4.036      -3.316\n",
       "Other                          -2.5258      0.659     -3.831      0.000      -3.818      -1.233\n",
       "Student                        -2.5522      0.272     -9.393      0.000      -3.085      -2.020\n",
       "Unemployed                     -2.4341      0.172    -14.136      0.000      -2.772      -2.097\n",
       "===============================================================================================\n",
       "\"\"\""
      ]
     },
     "execution_count": 97,
     "metadata": {},
     "output_type": "execute_result"
    }
   ],
   "source": [
    "#BUILDING MODEL #5\n",
    "\n",
    "X_train_sm = sm.add_constant(X_train[col])\n",
    "logm5 = sm.GLM(y_train,X_train_sm, family = sm.families.Binomial())\n",
    "res = logm5.fit()\n",
    "res.summary()"
   ]
  },
  {
   "cell_type": "code",
   "execution_count": 98,
   "id": "2bd1903d",
   "metadata": {},
   "outputs": [],
   "source": [
    "# Dropping column with high p-value\n",
    "\n",
    "col = col.drop('Referral Sites',1)"
   ]
  },
  {
   "cell_type": "markdown",
   "id": "7c5985c1",
   "metadata": {},
   "source": [
    "### Model 7\n",
    "\n"
   ]
  },
  {
   "cell_type": "code",
   "execution_count": 99,
   "id": "6b5146ae",
   "metadata": {},
   "outputs": [
    {
     "data": {
      "text/html": [
       "<table class=\"simpletable\">\n",
       "<caption>Generalized Linear Model Regression Results</caption>\n",
       "<tr>\n",
       "  <th>Dep. Variable:</th>       <td>Converted</td>    <th>  No. Observations:  </th>  <td>  6372</td> \n",
       "</tr>\n",
       "<tr>\n",
       "  <th>Model:</th>                  <td>GLM</td>       <th>  Df Residuals:      </th>  <td>  6362</td> \n",
       "</tr>\n",
       "<tr>\n",
       "  <th>Model Family:</th>        <td>Binomial</td>     <th>  Df Model:          </th>  <td>     9</td> \n",
       "</tr>\n",
       "<tr>\n",
       "  <th>Link Function:</th>         <td>logit</td>      <th>  Scale:             </th> <td>  1.0000</td>\n",
       "</tr>\n",
       "<tr>\n",
       "  <th>Method:</th>                <td>IRLS</td>       <th>  Log-Likelihood:    </th> <td> -2903.7</td>\n",
       "</tr>\n",
       "<tr>\n",
       "  <th>Date:</th>            <td>Tue, 15 Nov 2022</td> <th>  Deviance:          </th> <td>  5807.5</td>\n",
       "</tr>\n",
       "<tr>\n",
       "  <th>Time:</th>                <td>10:01:39</td>     <th>  Pearson chi2:      </th> <td>6.53e+03</td>\n",
       "</tr>\n",
       "<tr>\n",
       "  <th>No. Iterations:</th>          <td>6</td>        <th>                     </th>     <td> </td>   \n",
       "</tr>\n",
       "<tr>\n",
       "  <th>Covariance Type:</th>     <td>nonrobust</td>    <th>                     </th>     <td> </td>   \n",
       "</tr>\n",
       "</table>\n",
       "<table class=\"simpletable\">\n",
       "<tr>\n",
       "               <td></td>                  <th>coef</th>     <th>std err</th>      <th>z</th>      <th>P>|z|</th>  <th>[0.025</th>    <th>0.975]</th>  \n",
       "</tr>\n",
       "<tr>\n",
       "  <th>const</th>                       <td>    1.7857</td> <td>    0.168</td> <td>   10.635</td> <td> 0.000</td> <td>    1.457</td> <td>    2.115</td>\n",
       "</tr>\n",
       "<tr>\n",
       "  <th>Do Not Email</th>                <td>   -0.3635</td> <td>    0.041</td> <td>   -8.794</td> <td> 0.000</td> <td>   -0.445</td> <td>   -0.282</td>\n",
       "</tr>\n",
       "<tr>\n",
       "  <th>TotalVisits</th>                 <td>    0.2184</td> <td>    0.048</td> <td>    4.554</td> <td> 0.000</td> <td>    0.124</td> <td>    0.312</td>\n",
       "</tr>\n",
       "<tr>\n",
       "  <th>Total Time Spent on Website</th> <td>    0.9817</td> <td>    0.035</td> <td>   27.669</td> <td> 0.000</td> <td>    0.912</td> <td>    1.051</td>\n",
       "</tr>\n",
       "<tr>\n",
       "  <th>Page Views Per Visit</th>        <td>   -0.3261</td> <td>    0.051</td> <td>   -6.378</td> <td> 0.000</td> <td>   -0.426</td> <td>   -0.226</td>\n",
       "</tr>\n",
       "<tr>\n",
       "  <th>Lead Origin_Lead Add Form</th>   <td>    3.7164</td> <td>    0.212</td> <td>   17.567</td> <td> 0.000</td> <td>    3.302</td> <td>    4.131</td>\n",
       "</tr>\n",
       "<tr>\n",
       "  <th>No data</th>                     <td>   -3.6812</td> <td>    0.184</td> <td>  -20.047</td> <td> 0.000</td> <td>   -4.041</td> <td>   -3.321</td>\n",
       "</tr>\n",
       "<tr>\n",
       "  <th>Other</th>                       <td>   -2.5191</td> <td>    0.660</td> <td>   -3.819</td> <td> 0.000</td> <td>   -3.812</td> <td>   -1.226</td>\n",
       "</tr>\n",
       "<tr>\n",
       "  <th>Student</th>                     <td>   -2.5483</td> <td>    0.272</td> <td>   -9.379</td> <td> 0.000</td> <td>   -3.081</td> <td>   -2.016</td>\n",
       "</tr>\n",
       "<tr>\n",
       "  <th>Unemployed</th>                  <td>   -2.4361</td> <td>    0.172</td> <td>  -14.141</td> <td> 0.000</td> <td>   -2.774</td> <td>   -2.098</td>\n",
       "</tr>\n",
       "</table>"
      ],
      "text/plain": [
       "<class 'statsmodels.iolib.summary.Summary'>\n",
       "\"\"\"\n",
       "                 Generalized Linear Model Regression Results                  \n",
       "==============================================================================\n",
       "Dep. Variable:              Converted   No. Observations:                 6372\n",
       "Model:                            GLM   Df Residuals:                     6362\n",
       "Model Family:                Binomial   Df Model:                            9\n",
       "Link Function:                  logit   Scale:                          1.0000\n",
       "Method:                          IRLS   Log-Likelihood:                -2903.7\n",
       "Date:                Tue, 15 Nov 2022   Deviance:                       5807.5\n",
       "Time:                        10:01:39   Pearson chi2:                 6.53e+03\n",
       "No. Iterations:                     6                                         \n",
       "Covariance Type:            nonrobust                                         \n",
       "===============================================================================================\n",
       "                                  coef    std err          z      P>|z|      [0.025      0.975]\n",
       "-----------------------------------------------------------------------------------------------\n",
       "const                           1.7857      0.168     10.635      0.000       1.457       2.115\n",
       "Do Not Email                   -0.3635      0.041     -8.794      0.000      -0.445      -0.282\n",
       "TotalVisits                     0.2184      0.048      4.554      0.000       0.124       0.312\n",
       "Total Time Spent on Website     0.9817      0.035     27.669      0.000       0.912       1.051\n",
       "Page Views Per Visit           -0.3261      0.051     -6.378      0.000      -0.426      -0.226\n",
       "Lead Origin_Lead Add Form       3.7164      0.212     17.567      0.000       3.302       4.131\n",
       "No data                        -3.6812      0.184    -20.047      0.000      -4.041      -3.321\n",
       "Other                          -2.5191      0.660     -3.819      0.000      -3.812      -1.226\n",
       "Student                        -2.5483      0.272     -9.379      0.000      -3.081      -2.016\n",
       "Unemployed                     -2.4361      0.172    -14.141      0.000      -2.774      -2.098\n",
       "===============================================================================================\n",
       "\"\"\""
      ]
     },
     "execution_count": 99,
     "metadata": {},
     "output_type": "execute_result"
    }
   ],
   "source": [
    "#BUILDING MODEL #5\n",
    "\n",
    "X_train_sm = sm.add_constant(X_train[col])\n",
    "logm5 = sm.GLM(y_train,X_train_sm, family = sm.families.Binomial())\n",
    "res = logm5.fit()\n",
    "res.summary()"
   ]
  },
  {
   "cell_type": "markdown",
   "id": "197504a8",
   "metadata": {},
   "source": [
    "#### Since the Model 7 seems to be stable with significant p-values, we shall go ahead with this model for further analysis\n"
   ]
  },
  {
   "cell_type": "markdown",
   "id": "e547fe1e",
   "metadata": {},
   "source": [
    "### Calculating VIF"
   ]
  },
  {
   "cell_type": "code",
   "execution_count": 100,
   "id": "672a94be",
   "metadata": {},
   "outputs": [
    {
     "data": {
      "text/html": [
       "<div>\n",
       "<style scoped>\n",
       "    .dataframe tbody tr th:only-of-type {\n",
       "        vertical-align: middle;\n",
       "    }\n",
       "\n",
       "    .dataframe tbody tr th {\n",
       "        vertical-align: top;\n",
       "    }\n",
       "\n",
       "    .dataframe thead th {\n",
       "        text-align: right;\n",
       "    }\n",
       "</style>\n",
       "<table border=\"1\" class=\"dataframe\">\n",
       "  <thead>\n",
       "    <tr style=\"text-align: right;\">\n",
       "      <th></th>\n",
       "      <th>Features</th>\n",
       "      <th>VIF</th>\n",
       "    </tr>\n",
       "  </thead>\n",
       "  <tbody>\n",
       "    <tr>\n",
       "      <th>3</th>\n",
       "      <td>Page Views Per Visit</td>\n",
       "      <td>2.54</td>\n",
       "    </tr>\n",
       "    <tr>\n",
       "      <th>1</th>\n",
       "      <td>TotalVisits</td>\n",
       "      <td>2.48</td>\n",
       "    </tr>\n",
       "    <tr>\n",
       "      <th>4</th>\n",
       "      <td>Lead Origin_Lead Add Form</td>\n",
       "      <td>1.21</td>\n",
       "    </tr>\n",
       "    <tr>\n",
       "      <th>2</th>\n",
       "      <td>Total Time Spent on Website</td>\n",
       "      <td>1.20</td>\n",
       "    </tr>\n",
       "    <tr>\n",
       "      <th>8</th>\n",
       "      <td>Unemployed</td>\n",
       "      <td>1.09</td>\n",
       "    </tr>\n",
       "    <tr>\n",
       "      <th>5</th>\n",
       "      <td>No data</td>\n",
       "      <td>1.02</td>\n",
       "    </tr>\n",
       "    <tr>\n",
       "      <th>0</th>\n",
       "      <td>Do Not Email</td>\n",
       "      <td>1.01</td>\n",
       "    </tr>\n",
       "    <tr>\n",
       "      <th>6</th>\n",
       "      <td>Other</td>\n",
       "      <td>1.00</td>\n",
       "    </tr>\n",
       "    <tr>\n",
       "      <th>7</th>\n",
       "      <td>Student</td>\n",
       "      <td>1.00</td>\n",
       "    </tr>\n",
       "  </tbody>\n",
       "</table>\n",
       "</div>"
      ],
      "text/plain": [
       "                      Features   VIF\n",
       "3         Page Views Per Visit  2.54\n",
       "1                  TotalVisits  2.48\n",
       "4    Lead Origin_Lead Add Form  1.21\n",
       "2  Total Time Spent on Website  1.20\n",
       "8                   Unemployed  1.09\n",
       "5                      No data  1.02\n",
       "0                 Do Not Email  1.01\n",
       "6                        Other  1.00\n",
       "7                      Student  1.00"
      ]
     },
     "execution_count": 100,
     "metadata": {},
     "output_type": "execute_result"
    }
   ],
   "source": [
    "# Check for the VIF values of the feature variables. \n",
    "from statsmodels.stats.outliers_influence import variance_inflation_factor\n",
    "\n",
    "# Create a dataframe that will contain the names of all the feature variables and their respective VIFs\n",
    "vif = pd.DataFrame()\n",
    "vif['Features'] = X_train[col].columns\n",
    "vif['VIF'] = [variance_inflation_factor(X_train[col].values, i) for i in range(X_train[col].shape[1])]\n",
    "vif['VIF'] = round(vif['VIF'], 2)\n",
    "vif = vif.sort_values(by = \"VIF\", ascending = False)\n",
    "vif"
   ]
  },
  {
   "cell_type": "markdown",
   "id": "cf470726",
   "metadata": {},
   "source": [
    "#### All variables have a good VIF value. So we need not drop any more variables and we can proceed with making predictions using this model."
   ]
  },
  {
   "cell_type": "markdown",
   "id": "523beb2c",
   "metadata": {},
   "source": [
    "## Predicting a Train model"
   ]
  },
  {
   "cell_type": "code",
   "execution_count": 101,
   "id": "ad1d7a78",
   "metadata": {},
   "outputs": [
    {
     "data": {
      "text/plain": [
       "7962    0.736698\n",
       "5520    0.156807\n",
       "1962    0.267644\n",
       "1566    0.972551\n",
       "9170    0.223168\n",
       "5097    0.076389\n",
       "8954    0.382268\n",
       "309     0.302072\n",
       "5519    0.076389\n",
       "1050    0.623734\n",
       "dtype: float64"
      ]
     },
     "execution_count": 101,
     "metadata": {},
     "output_type": "execute_result"
    }
   ],
   "source": [
    "# Getting the Predicted values on the train set\n",
    "y_train_pred = res.predict(X_train_sm)\n",
    "y_train_pred[:10]"
   ]
  },
  {
   "cell_type": "code",
   "execution_count": 102,
   "id": "91199639",
   "metadata": {},
   "outputs": [
    {
     "data": {
      "text/plain": [
       "array([0.7366977 , 0.15680694, 0.26764419, 0.97255139, 0.22316778,\n",
       "       0.07638927, 0.38226808, 0.30207227, 0.07638927, 0.62373435])"
      ]
     },
     "execution_count": 102,
     "metadata": {},
     "output_type": "execute_result"
    }
   ],
   "source": [
    "y_train_pred = y_train_pred.values.reshape(-1)\n",
    "y_train_pred[:10]"
   ]
  },
  {
   "cell_type": "code",
   "execution_count": 103,
   "id": "9f879726",
   "metadata": {},
   "outputs": [
    {
     "data": {
      "text/html": [
       "<div>\n",
       "<style scoped>\n",
       "    .dataframe tbody tr th:only-of-type {\n",
       "        vertical-align: middle;\n",
       "    }\n",
       "\n",
       "    .dataframe tbody tr th {\n",
       "        vertical-align: top;\n",
       "    }\n",
       "\n",
       "    .dataframe thead th {\n",
       "        text-align: right;\n",
       "    }\n",
       "</style>\n",
       "<table border=\"1\" class=\"dataframe\">\n",
       "  <thead>\n",
       "    <tr style=\"text-align: right;\">\n",
       "      <th></th>\n",
       "      <th>Converted</th>\n",
       "      <th>Converted_prob</th>\n",
       "      <th>Prospect ID</th>\n",
       "    </tr>\n",
       "  </thead>\n",
       "  <tbody>\n",
       "    <tr>\n",
       "      <th>0</th>\n",
       "      <td>0</td>\n",
       "      <td>0.736698</td>\n",
       "      <td>7962</td>\n",
       "    </tr>\n",
       "    <tr>\n",
       "      <th>1</th>\n",
       "      <td>0</td>\n",
       "      <td>0.156807</td>\n",
       "      <td>5520</td>\n",
       "    </tr>\n",
       "    <tr>\n",
       "      <th>2</th>\n",
       "      <td>0</td>\n",
       "      <td>0.267644</td>\n",
       "      <td>1962</td>\n",
       "    </tr>\n",
       "    <tr>\n",
       "      <th>3</th>\n",
       "      <td>1</td>\n",
       "      <td>0.972551</td>\n",
       "      <td>1566</td>\n",
       "    </tr>\n",
       "    <tr>\n",
       "      <th>4</th>\n",
       "      <td>0</td>\n",
       "      <td>0.223168</td>\n",
       "      <td>9170</td>\n",
       "    </tr>\n",
       "  </tbody>\n",
       "</table>\n",
       "</div>"
      ],
      "text/plain": [
       "   Converted  Converted_prob  Prospect ID\n",
       "0          0        0.736698         7962\n",
       "1          0        0.156807         5520\n",
       "2          0        0.267644         1962\n",
       "3          1        0.972551         1566\n",
       "4          0        0.223168         9170"
      ]
     },
     "execution_count": 103,
     "metadata": {},
     "output_type": "execute_result"
    }
   ],
   "source": [
    "y_train_pred_final = pd.DataFrame({'Converted':y_train.values, 'Converted_prob':y_train_pred})\n",
    "y_train_pred_final['Prospect ID'] = y_train.index\n",
    "y_train_pred_final.head()"
   ]
  },
  {
   "cell_type": "code",
   "execution_count": 104,
   "id": "7ad293ab",
   "metadata": {},
   "outputs": [
    {
     "data": {
      "text/html": [
       "<div>\n",
       "<style scoped>\n",
       "    .dataframe tbody tr th:only-of-type {\n",
       "        vertical-align: middle;\n",
       "    }\n",
       "\n",
       "    .dataframe tbody tr th {\n",
       "        vertical-align: top;\n",
       "    }\n",
       "\n",
       "    .dataframe thead th {\n",
       "        text-align: right;\n",
       "    }\n",
       "</style>\n",
       "<table border=\"1\" class=\"dataframe\">\n",
       "  <thead>\n",
       "    <tr style=\"text-align: right;\">\n",
       "      <th></th>\n",
       "      <th>Converted</th>\n",
       "      <th>Converted_prob</th>\n",
       "      <th>Prospect ID</th>\n",
       "      <th>Predicted</th>\n",
       "    </tr>\n",
       "  </thead>\n",
       "  <tbody>\n",
       "    <tr>\n",
       "      <th>0</th>\n",
       "      <td>0</td>\n",
       "      <td>0.736698</td>\n",
       "      <td>7962</td>\n",
       "      <td>1</td>\n",
       "    </tr>\n",
       "    <tr>\n",
       "      <th>1</th>\n",
       "      <td>0</td>\n",
       "      <td>0.156807</td>\n",
       "      <td>5520</td>\n",
       "      <td>0</td>\n",
       "    </tr>\n",
       "    <tr>\n",
       "      <th>2</th>\n",
       "      <td>0</td>\n",
       "      <td>0.267644</td>\n",
       "      <td>1962</td>\n",
       "      <td>0</td>\n",
       "    </tr>\n",
       "    <tr>\n",
       "      <th>3</th>\n",
       "      <td>1</td>\n",
       "      <td>0.972551</td>\n",
       "      <td>1566</td>\n",
       "      <td>1</td>\n",
       "    </tr>\n",
       "    <tr>\n",
       "      <th>4</th>\n",
       "      <td>0</td>\n",
       "      <td>0.223168</td>\n",
       "      <td>9170</td>\n",
       "      <td>0</td>\n",
       "    </tr>\n",
       "  </tbody>\n",
       "</table>\n",
       "</div>"
      ],
      "text/plain": [
       "   Converted  Converted_prob  Prospect ID  Predicted\n",
       "0          0        0.736698         7962          1\n",
       "1          0        0.156807         5520          0\n",
       "2          0        0.267644         1962          0\n",
       "3          1        0.972551         1566          1\n",
       "4          0        0.223168         9170          0"
      ]
     },
     "execution_count": 104,
     "metadata": {},
     "output_type": "execute_result"
    }
   ],
   "source": [
    "y_train_pred_final['Predicted'] = y_train_pred_final.Converted_prob.map(lambda x: 1 if x > 0.5 else 0)\n",
    "\n",
    "# Let's see the head\n",
    "y_train_pred_final.head()"
   ]
  },
  {
   "cell_type": "markdown",
   "id": "2d97b24a",
   "metadata": {},
   "source": [
    "### Metrics - Accuracy, Sensitivity, Specificity, False Positive Rate, Postitive Predictive Value and Negative Predictive Value"
   ]
  },
  {
   "cell_type": "code",
   "execution_count": 105,
   "id": "20dcbba7",
   "metadata": {},
   "outputs": [
    {
     "name": "stdout",
     "output_type": "stream",
     "text": [
      "[[3541  412]\n",
      " [ 863 1556]]\n"
     ]
    }
   ],
   "source": [
    "from sklearn import metrics\n",
    "\n",
    "# Confusion matrix \n",
    "confusion = metrics.confusion_matrix(y_train_pred_final.Converted, y_train_pred_final.Predicted )\n",
    "print(confusion)"
   ]
  },
  {
   "cell_type": "code",
   "execution_count": 106,
   "id": "b98f5117",
   "metadata": {},
   "outputs": [
    {
     "name": "stdout",
     "output_type": "stream",
     "text": [
      "0.7999058380414312\n"
     ]
    }
   ],
   "source": [
    "# Let's check the overall accuracy.\n",
    "print(metrics.accuracy_score(y_train_pred_final.Converted, y_train_pred_final.Predicted))"
   ]
  },
  {
   "cell_type": "code",
   "execution_count": 107,
   "id": "9b3259bc",
   "metadata": {},
   "outputs": [],
   "source": [
    "TP = confusion[1,1] # true positive \n",
    "TN = confusion[0,0] # true negatives\n",
    "FP = confusion[0,1] # false positives\n",
    "FN = confusion[1,0] # false negatives"
   ]
  },
  {
   "cell_type": "code",
   "execution_count": 108,
   "id": "2e6df452",
   "metadata": {},
   "outputs": [
    {
     "data": {
      "text/plain": [
       "0.6432410086812732"
      ]
     },
     "execution_count": 108,
     "metadata": {},
     "output_type": "execute_result"
    }
   ],
   "source": [
    "# Let's see the sensitivity of our logistic regression model\n",
    "TP / float(TP+FN)"
   ]
  },
  {
   "cell_type": "code",
   "execution_count": 109,
   "id": "cfe1657f",
   "metadata": {},
   "outputs": [
    {
     "data": {
      "text/plain": [
       "0.895775360485707"
      ]
     },
     "execution_count": 109,
     "metadata": {},
     "output_type": "execute_result"
    }
   ],
   "source": [
    "# Let us calculate specificity\n",
    "TN / float(TN+FP)"
   ]
  },
  {
   "cell_type": "code",
   "execution_count": 110,
   "id": "1c34feae",
   "metadata": {},
   "outputs": [
    {
     "name": "stdout",
     "output_type": "stream",
     "text": [
      "0.10422463951429294\n"
     ]
    }
   ],
   "source": [
    "# Calculate False Postive Rate - predicting conversion when customer does not have convert\n",
    "print(FP/ float(TN+FP))"
   ]
  },
  {
   "cell_type": "code",
   "execution_count": 111,
   "id": "ef39e54e",
   "metadata": {},
   "outputs": [
    {
     "name": "stdout",
     "output_type": "stream",
     "text": [
      "0.790650406504065\n"
     ]
    }
   ],
   "source": [
    "# Positive predictive value \n",
    "print (TP / float(TP+FP))"
   ]
  },
  {
   "cell_type": "code",
   "execution_count": 112,
   "id": "532ce800",
   "metadata": {},
   "outputs": [
    {
     "name": "stdout",
     "output_type": "stream",
     "text": [
      "0.8040417801998183\n"
     ]
    }
   ],
   "source": [
    "# Negative predictive value\n",
    "print (TN / float(TN+ FN))"
   ]
  },
  {
   "cell_type": "markdown",
   "id": "94764b2c",
   "metadata": {},
   "source": [
    "### PLOTTING THE ROC CURVE"
   ]
  },
  {
   "cell_type": "markdown",
   "id": "eea8ff7e",
   "metadata": {},
   "source": [
    "#### An ROC curve demonstrates several things:\n",
    "\n",
    "- It shows the tradeoff between sensitivity and specificity (any increase in sensitivity will be accompanied by a decrease in specificity).\n",
    "- The closer the curve follows the left-hand border and then the top border of the ROC space, the more accurate the test.\n",
    "- The closer the curve comes to the 45-degree diagonal of the ROC space, the less accurate the test."
   ]
  },
  {
   "cell_type": "code",
   "execution_count": 113,
   "id": "e24babaf",
   "metadata": {},
   "outputs": [],
   "source": [
    "def draw_roc( actual, probs ):\n",
    "    fpr, tpr, thresholds = metrics.roc_curve( actual, probs,\n",
    "                                              drop_intermediate = False )\n",
    "    auc_score = metrics.roc_auc_score( actual, probs )\n",
    "    plt.figure(figsize=(5, 5))\n",
    "    plt.plot( fpr, tpr, label='ROC curve (area = %0.2f)' % auc_score )\n",
    "    plt.plot([0, 1], [0, 1], 'k--')\n",
    "    plt.xlim([0.0, 1.0])\n",
    "    plt.ylim([0.0, 1.05])\n",
    "    plt.xlabel('False Positive Rate or [1 - True Negative Rate]')\n",
    "    plt.ylabel('True Positive Rate')\n",
    "    plt.title('Receiver operating characteristic example')\n",
    "    plt.legend(loc=\"lower right\")\n",
    "    plt.show()\n",
    "\n",
    "    return None"
   ]
  },
  {
   "cell_type": "code",
   "execution_count": 114,
   "id": "14a9afbe",
   "metadata": {},
   "outputs": [],
   "source": [
    "fpr, tpr, thresholds = metrics.roc_curve( y_train_pred_final.Converted, y_train_pred_final.Converted_prob, drop_intermediate = False )\n"
   ]
  },
  {
   "cell_type": "code",
   "execution_count": 115,
   "id": "fcd71c16",
   "metadata": {},
   "outputs": [
    {
     "data": {
      "image/png": "[encoded data removed]",
      "text/plain": [
       "<Figure size 360x360 with 1 Axes>"
      ]
     },
     "metadata": {
      "needs_background": "light"
     },
     "output_type": "display_data"
    }
   ],
   "source": [
    "draw_roc(y_train_pred_final.Converted, y_train_pred_final.Converted_prob)\n"
   ]
  },
  {
   "cell_type": "markdown",
   "id": "0bafaeb6",
   "metadata": {},
   "source": [
    "#### The ROC Curve should be a value close to 1. We are getting a good value of 0.85 indicating a good predictive model."
   ]
  },
  {
   "cell_type": "markdown",
   "id": "fd60ee6f",
   "metadata": {},
   "source": [
    "### Finding Optimal Cutoff Point\n",
    "Optimal cutoff probability is that prob where we get balanced sensitivity and specificity\n",
    "\n"
   ]
  },
  {
   "cell_type": "code",
   "execution_count": 116,
   "id": "b264001c",
   "metadata": {},
   "outputs": [
    {
     "data": {
      "text/html": [
       "<div>\n",
       "<style scoped>\n",
       "    .dataframe tbody tr th:only-of-type {\n",
       "        vertical-align: middle;\n",
       "    }\n",
       "\n",
       "    .dataframe tbody tr th {\n",
       "        vertical-align: top;\n",
       "    }\n",
       "\n",
       "    .dataframe thead th {\n",
       "        text-align: right;\n",
       "    }\n",
       "</style>\n",
       "<table border=\"1\" class=\"dataframe\">\n",
       "  <thead>\n",
       "    <tr style=\"text-align: right;\">\n",
       "      <th></th>\n",
       "      <th>Converted</th>\n",
       "      <th>Converted_prob</th>\n",
       "      <th>Prospect ID</th>\n",
       "      <th>Predicted</th>\n",
       "      <th>0.0</th>\n",
       "      <th>0.1</th>\n",
       "      <th>0.2</th>\n",
       "      <th>0.3</th>\n",
       "      <th>0.4</th>\n",
       "      <th>0.5</th>\n",
       "      <th>0.6</th>\n",
       "      <th>0.7</th>\n",
       "      <th>0.8</th>\n",
       "      <th>0.9</th>\n",
       "    </tr>\n",
       "  </thead>\n",
       "  <tbody>\n",
       "    <tr>\n",
       "      <th>0</th>\n",
       "      <td>0</td>\n",
       "      <td>0.736698</td>\n",
       "      <td>7962</td>\n",
       "      <td>1</td>\n",
       "      <td>1</td>\n",
       "      <td>1</td>\n",
       "      <td>1</td>\n",
       "      <td>1</td>\n",
       "      <td>1</td>\n",
       "      <td>1</td>\n",
       "      <td>1</td>\n",
       "      <td>1</td>\n",
       "      <td>0</td>\n",
       "      <td>0</td>\n",
       "    </tr>\n",
       "    <tr>\n",
       "      <th>1</th>\n",
       "      <td>0</td>\n",
       "      <td>0.156807</td>\n",
       "      <td>5520</td>\n",
       "      <td>0</td>\n",
       "      <td>1</td>\n",
       "      <td>1</td>\n",
       "      <td>0</td>\n",
       "      <td>0</td>\n",
       "      <td>0</td>\n",
       "      <td>0</td>\n",
       "      <td>0</td>\n",
       "      <td>0</td>\n",
       "      <td>0</td>\n",
       "      <td>0</td>\n",
       "    </tr>\n",
       "    <tr>\n",
       "      <th>2</th>\n",
       "      <td>0</td>\n",
       "      <td>0.267644</td>\n",
       "      <td>1962</td>\n",
       "      <td>0</td>\n",
       "      <td>1</td>\n",
       "      <td>1</td>\n",
       "      <td>1</td>\n",
       "      <td>0</td>\n",
       "      <td>0</td>\n",
       "      <td>0</td>\n",
       "      <td>0</td>\n",
       "      <td>0</td>\n",
       "      <td>0</td>\n",
       "      <td>0</td>\n",
       "    </tr>\n",
       "    <tr>\n",
       "      <th>3</th>\n",
       "      <td>1</td>\n",
       "      <td>0.972551</td>\n",
       "      <td>1566</td>\n",
       "      <td>1</td>\n",
       "      <td>1</td>\n",
       "      <td>1</td>\n",
       "      <td>1</td>\n",
       "      <td>1</td>\n",
       "      <td>1</td>\n",
       "      <td>1</td>\n",
       "      <td>1</td>\n",
       "      <td>1</td>\n",
       "      <td>1</td>\n",
       "      <td>1</td>\n",
       "    </tr>\n",
       "    <tr>\n",
       "      <th>4</th>\n",
       "      <td>0</td>\n",
       "      <td>0.223168</td>\n",
       "      <td>9170</td>\n",
       "      <td>0</td>\n",
       "      <td>1</td>\n",
       "      <td>1</td>\n",
       "      <td>1</td>\n",
       "      <td>0</td>\n",
       "      <td>0</td>\n",
       "      <td>0</td>\n",
       "      <td>0</td>\n",
       "      <td>0</td>\n",
       "      <td>0</td>\n",
       "      <td>0</td>\n",
       "    </tr>\n",
       "  </tbody>\n",
       "</table>\n",
       "</div>"
      ],
      "text/plain": [
       "   Converted  Converted_prob  Prospect ID  Predicted  0.0  0.1  0.2  0.3  0.4  \\\n",
       "0          0        0.736698         7962          1    1    1    1    1    1   \n",
       "1          0        0.156807         5520          0    1    1    0    0    0   \n",
       "2          0        0.267644         1962          0    1    1    1    0    0   \n",
       "3          1        0.972551         1566          1    1    1    1    1    1   \n",
       "4          0        0.223168         9170          0    1    1    1    0    0   \n",
       "\n",
       "   0.5  0.6  0.7  0.8  0.9  \n",
       "0    1    1    1    0    0  \n",
       "1    0    0    0    0    0  \n",
       "2    0    0    0    0    0  \n",
       "3    1    1    1    1    1  \n",
       "4    0    0    0    0    0  "
      ]
     },
     "execution_count": 116,
     "metadata": {},
     "output_type": "execute_result"
    }
   ],
   "source": [
    "# Let's create columns with different probability cutoffs \n",
    "numbers = [float(x)/10 for x in range(10)]\n",
    "for i in numbers:\n",
    "    y_train_pred_final[i]= y_train_pred_final.Converted_prob.map(lambda x: 1 if x > i else 0)\n",
    "y_train_pred_final.head()"
   ]
  },
  {
   "cell_type": "code",
   "execution_count": 117,
   "id": "eb3da8ec",
   "metadata": {},
   "outputs": [
    {
     "name": "stdout",
     "output_type": "stream",
     "text": [
      "     prob  accuracy     sensi     speci\n",
      "0.0   0.0  0.379630  1.000000  0.000000\n",
      "0.1   0.1  0.569680  0.967755  0.326081\n",
      "0.2   0.2  0.654583  0.939644  0.480142\n",
      "0.3   0.3  0.771500  0.771807  0.771313\n",
      "0.4   0.4  0.801161  0.708557  0.857829\n",
      "0.5   0.5  0.799906  0.643241  0.895775\n",
      "0.6   0.6  0.786409  0.569657  0.919049\n",
      "0.7   0.7  0.761456  0.467962  0.941057\n",
      "0.8   0.8  0.726930  0.326995  0.971667\n",
      "0.9   0.9  0.710452  0.252170  0.990893\n"
     ]
    }
   ],
   "source": [
    "# Now let's calculate accuracy sensitivity and specificity for various probability cutoffs.\n",
    "cutoff_df = pd.DataFrame( columns = ['prob','accuracy','sensi','speci'])\n",
    "from sklearn.metrics import confusion_matrix\n",
    "\n",
    "# TP = confusion[1,1] # true positive \n",
    "# TN = confusion[0,0] # true negatives\n",
    "# FP = confusion[0,1] # false positives\n",
    "# FN = confusion[1,0] # false negatives\n",
    "\n",
    "num = [0.0,0.1,0.2,0.3,0.4,0.5,0.6,0.7,0.8,0.9]\n",
    "for i in num:\n",
    "    cm1 = metrics.confusion_matrix(y_train_pred_final.Converted, y_train_pred_final[i] )\n",
    "    total1=sum(sum(cm1))\n",
    "    accuracy = (cm1[0,0]+cm1[1,1])/total1\n",
    "    \n",
    "    speci = cm1[0,0]/(cm1[0,0]+cm1[0,1])\n",
    "    sensi = cm1[1,1]/(cm1[1,0]+cm1[1,1])\n",
    "    cutoff_df.loc[i] =[ i ,accuracy,sensi,speci]\n",
    "print(cutoff_df)"
   ]
  },
  {
   "cell_type": "code",
   "execution_count": 118,
   "id": "e4b59284",
   "metadata": {},
   "outputs": [
    {
     "data": {
      "image/png": "[encoded data removed]",
      "text/plain": [
       "<Figure size 432x288 with 1 Axes>"
      ]
     },
     "metadata": {
      "needs_background": "light"
     },
     "output_type": "display_data"
    }
   ],
   "source": [
    "# Let's plot accuracy sensitivity and specificity for various probabilities.\n",
    "cutoff_df.plot.line(x='prob', y=['accuracy','sensi','speci'])\n",
    "plt.show()"
   ]
  },
  {
   "cell_type": "markdown",
   "id": "5ed58664",
   "metadata": {},
   "source": [
    "### From the curve above, 0.3 is the optimum point to take it as a cutoff probability.\n"
   ]
  },
  {
   "cell_type": "code",
   "execution_count": 119,
   "id": "078bf8cd",
   "metadata": {},
   "outputs": [
    {
     "data": {
      "text/html": [
       "<div>\n",
       "<style scoped>\n",
       "    .dataframe tbody tr th:only-of-type {\n",
       "        vertical-align: middle;\n",
       "    }\n",
       "\n",
       "    .dataframe tbody tr th {\n",
       "        vertical-align: top;\n",
       "    }\n",
       "\n",
       "    .dataframe thead th {\n",
       "        text-align: right;\n",
       "    }\n",
       "</style>\n",
       "<table border=\"1\" class=\"dataframe\">\n",
       "  <thead>\n",
       "    <tr style=\"text-align: right;\">\n",
       "      <th></th>\n",
       "      <th>Converted</th>\n",
       "      <th>Converted_prob</th>\n",
       "      <th>Prospect ID</th>\n",
       "      <th>Predicted</th>\n",
       "      <th>0.0</th>\n",
       "      <th>0.1</th>\n",
       "      <th>0.2</th>\n",
       "      <th>0.3</th>\n",
       "      <th>0.4</th>\n",
       "      <th>0.5</th>\n",
       "      <th>0.6</th>\n",
       "      <th>0.7</th>\n",
       "      <th>0.8</th>\n",
       "      <th>0.9</th>\n",
       "      <th>final_Predicted</th>\n",
       "    </tr>\n",
       "  </thead>\n",
       "  <tbody>\n",
       "    <tr>\n",
       "      <th>0</th>\n",
       "      <td>0</td>\n",
       "      <td>0.736698</td>\n",
       "      <td>7962</td>\n",
       "      <td>1</td>\n",
       "      <td>1</td>\n",
       "      <td>1</td>\n",
       "      <td>1</td>\n",
       "      <td>1</td>\n",
       "      <td>1</td>\n",
       "      <td>1</td>\n",
       "      <td>1</td>\n",
       "      <td>1</td>\n",
       "      <td>0</td>\n",
       "      <td>0</td>\n",
       "      <td>1</td>\n",
       "    </tr>\n",
       "    <tr>\n",
       "      <th>1</th>\n",
       "      <td>0</td>\n",
       "      <td>0.156807</td>\n",
       "      <td>5520</td>\n",
       "      <td>0</td>\n",
       "      <td>1</td>\n",
       "      <td>1</td>\n",
       "      <td>0</td>\n",
       "      <td>0</td>\n",
       "      <td>0</td>\n",
       "      <td>0</td>\n",
       "      <td>0</td>\n",
       "      <td>0</td>\n",
       "      <td>0</td>\n",
       "      <td>0</td>\n",
       "      <td>0</td>\n",
       "    </tr>\n",
       "    <tr>\n",
       "      <th>2</th>\n",
       "      <td>0</td>\n",
       "      <td>0.267644</td>\n",
       "      <td>1962</td>\n",
       "      <td>0</td>\n",
       "      <td>1</td>\n",
       "      <td>1</td>\n",
       "      <td>1</td>\n",
       "      <td>0</td>\n",
       "      <td>0</td>\n",
       "      <td>0</td>\n",
       "      <td>0</td>\n",
       "      <td>0</td>\n",
       "      <td>0</td>\n",
       "      <td>0</td>\n",
       "      <td>0</td>\n",
       "    </tr>\n",
       "    <tr>\n",
       "      <th>3</th>\n",
       "      <td>1</td>\n",
       "      <td>0.972551</td>\n",
       "      <td>1566</td>\n",
       "      <td>1</td>\n",
       "      <td>1</td>\n",
       "      <td>1</td>\n",
       "      <td>1</td>\n",
       "      <td>1</td>\n",
       "      <td>1</td>\n",
       "      <td>1</td>\n",
       "      <td>1</td>\n",
       "      <td>1</td>\n",
       "      <td>1</td>\n",
       "      <td>1</td>\n",
       "      <td>1</td>\n",
       "    </tr>\n",
       "    <tr>\n",
       "      <th>4</th>\n",
       "      <td>0</td>\n",
       "      <td>0.223168</td>\n",
       "      <td>9170</td>\n",
       "      <td>0</td>\n",
       "      <td>1</td>\n",
       "      <td>1</td>\n",
       "      <td>1</td>\n",
       "      <td>0</td>\n",
       "      <td>0</td>\n",
       "      <td>0</td>\n",
       "      <td>0</td>\n",
       "      <td>0</td>\n",
       "      <td>0</td>\n",
       "      <td>0</td>\n",
       "      <td>0</td>\n",
       "    </tr>\n",
       "  </tbody>\n",
       "</table>\n",
       "</div>"
      ],
      "text/plain": [
       "   Converted  Converted_prob  Prospect ID  Predicted  0.0  0.1  0.2  0.3  0.4  \\\n",
       "0          0        0.736698         7962          1    1    1    1    1    1   \n",
       "1          0        0.156807         5520          0    1    1    0    0    0   \n",
       "2          0        0.267644         1962          0    1    1    1    0    0   \n",
       "3          1        0.972551         1566          1    1    1    1    1    1   \n",
       "4          0        0.223168         9170          0    1    1    1    0    0   \n",
       "\n",
       "   0.5  0.6  0.7  0.8  0.9  final_Predicted  \n",
       "0    1    1    1    0    0                1  \n",
       "1    0    0    0    0    0                0  \n",
       "2    0    0    0    0    0                0  \n",
       "3    1    1    1    1    1                1  \n",
       "4    0    0    0    0    0                0  "
      ]
     },
     "execution_count": 119,
     "metadata": {},
     "output_type": "execute_result"
    }
   ],
   "source": [
    "y_train_pred_final['final_Predicted'] = y_train_pred_final.Converted_prob.map( lambda x: 1 if x > 0.3 else 0)\n",
    "\n",
    "y_train_pred_final.head()"
   ]
  },
  {
   "cell_type": "code",
   "execution_count": 120,
   "id": "db46c714",
   "metadata": {},
   "outputs": [
    {
     "data": {
      "text/html": [
       "<div>\n",
       "<style scoped>\n",
       "    .dataframe tbody tr th:only-of-type {\n",
       "        vertical-align: middle;\n",
       "    }\n",
       "\n",
       "    .dataframe tbody tr th {\n",
       "        vertical-align: top;\n",
       "    }\n",
       "\n",
       "    .dataframe thead th {\n",
       "        text-align: right;\n",
       "    }\n",
       "</style>\n",
       "<table border=\"1\" class=\"dataframe\">\n",
       "  <thead>\n",
       "    <tr style=\"text-align: right;\">\n",
       "      <th></th>\n",
       "      <th>Converted</th>\n",
       "      <th>Converted_prob</th>\n",
       "      <th>Prospect ID</th>\n",
       "      <th>final_Predicted</th>\n",
       "      <th>Lead_Score</th>\n",
       "    </tr>\n",
       "  </thead>\n",
       "  <tbody>\n",
       "    <tr>\n",
       "      <th>0</th>\n",
       "      <td>0</td>\n",
       "      <td>0.736698</td>\n",
       "      <td>7962</td>\n",
       "      <td>1</td>\n",
       "      <td>74</td>\n",
       "    </tr>\n",
       "    <tr>\n",
       "      <th>1</th>\n",
       "      <td>0</td>\n",
       "      <td>0.156807</td>\n",
       "      <td>5520</td>\n",
       "      <td>0</td>\n",
       "      <td>16</td>\n",
       "    </tr>\n",
       "    <tr>\n",
       "      <th>2</th>\n",
       "      <td>0</td>\n",
       "      <td>0.267644</td>\n",
       "      <td>1962</td>\n",
       "      <td>0</td>\n",
       "      <td>27</td>\n",
       "    </tr>\n",
       "    <tr>\n",
       "      <th>3</th>\n",
       "      <td>1</td>\n",
       "      <td>0.972551</td>\n",
       "      <td>1566</td>\n",
       "      <td>1</td>\n",
       "      <td>97</td>\n",
       "    </tr>\n",
       "    <tr>\n",
       "      <th>4</th>\n",
       "      <td>0</td>\n",
       "      <td>0.223168</td>\n",
       "      <td>9170</td>\n",
       "      <td>0</td>\n",
       "      <td>22</td>\n",
       "    </tr>\n",
       "  </tbody>\n",
       "</table>\n",
       "</div>"
      ],
      "text/plain": [
       "   Converted  Converted_prob  Prospect ID  final_Predicted  Lead_Score\n",
       "0          0        0.736698         7962                1          74\n",
       "1          0        0.156807         5520                0          16\n",
       "2          0        0.267644         1962                0          27\n",
       "3          1        0.972551         1566                1          97\n",
       "4          0        0.223168         9170                0          22"
      ]
     },
     "execution_count": 120,
     "metadata": {},
     "output_type": "execute_result"
    }
   ],
   "source": [
    "y_train_pred_final['Lead_Score'] = y_train_pred_final.Converted_prob.map( lambda x: round(x*100))\n",
    "\n",
    "y_train_pred_final[['Converted','Converted_prob','Prospect ID','final_Predicted','Lead_Score']].head()"
   ]
  },
  {
   "cell_type": "code",
   "execution_count": 121,
   "id": "18153e66",
   "metadata": {},
   "outputs": [
    {
     "data": {
      "text/plain": [
       "1    1867\n",
       "0     552\n",
       "Name: final_Predicted, dtype: int64"
      ]
     },
     "execution_count": 121,
     "metadata": {},
     "output_type": "execute_result"
    }
   ],
   "source": [
    "# checking if 80% cases are correctly predicted based on the converted column.\n",
    "\n",
    "# get the total of final predicted conversion / non conversion counts from the actual converted rates\n",
    "\n",
    "checking_df = y_train_pred_final.loc[y_train_pred_final['Converted']==1,['Converted','final_Predicted']]\n",
    "checking_df['final_Predicted'].value_counts()"
   ]
  },
  {
   "cell_type": "code",
   "execution_count": 122,
   "id": "07dd1a4f",
   "metadata": {},
   "outputs": [
    {
     "data": {
      "text/plain": [
       "0.8288548987184787"
      ]
     },
     "execution_count": 122,
     "metadata": {},
     "output_type": "execute_result"
    }
   ],
   "source": [
    "# check the precentage of final_predicted conversions\n",
    "\n",
    "2005/float(2005+414)"
   ]
  },
  {
   "cell_type": "markdown",
   "id": "fb127520",
   "metadata": {},
   "source": [
    "## Hence, we can see that the final prediction of conversions have a target of 83% conversion as per the X Educations CEO's requirement . Hence, we can say that this is a good model.\n",
    "### Overall Metrics - Accuracy, Confusion Metrics, Sensitivity, Specificity, False Postive Rate, Positive Predictive Value, Negative Predicitive Value on final prediction on train set"
   ]
  },
  {
   "cell_type": "code",
   "execution_count": 123,
   "id": "9f9a8e1e",
   "metadata": {},
   "outputs": [
    {
     "data": {
      "text/plain": [
       "0.7715003138731952"
      ]
     },
     "execution_count": 123,
     "metadata": {},
     "output_type": "execute_result"
    }
   ],
   "source": [
    "# Let's check the overall accuracy.\n",
    "metrics.accuracy_score(y_train_pred_final.Converted, y_train_pred_final.final_Predicted)"
   ]
  },
  {
   "cell_type": "code",
   "execution_count": 124,
   "id": "cd04c8bc",
   "metadata": {},
   "outputs": [
    {
     "data": {
      "text/plain": [
       "array([[3049,  904],\n",
       "       [ 552, 1867]], dtype=int64)"
      ]
     },
     "execution_count": 124,
     "metadata": {},
     "output_type": "execute_result"
    }
   ],
   "source": [
    "confusion2 = metrics.confusion_matrix(y_train_pred_final.Converted, y_train_pred_final.final_Predicted )\n",
    "confusion2"
   ]
  },
  {
   "cell_type": "code",
   "execution_count": 125,
   "id": "9758015c",
   "metadata": {},
   "outputs": [],
   "source": [
    "TP = confusion2[1,1] # true positive \n",
    "TN = confusion2[0,0] # true negatives\n",
    "FP = confusion2[0,1] # false positives\n",
    "FN = confusion2[1,0] # false negatives"
   ]
  },
  {
   "cell_type": "code",
   "execution_count": 126,
   "id": "b301a1cc",
   "metadata": {},
   "outputs": [
    {
     "data": {
      "text/plain": [
       "0.7718065316246383"
      ]
     },
     "execution_count": 126,
     "metadata": {},
     "output_type": "execute_result"
    }
   ],
   "source": [
    "# Let's see the sensitivity of our logistic regression model\n",
    "TP / float(TP+FN)"
   ]
  },
  {
   "cell_type": "code",
   "execution_count": 127,
   "id": "f9de15d6",
   "metadata": {},
   "outputs": [
    {
     "data": {
      "text/plain": [
       "0.7713129268909689"
      ]
     },
     "execution_count": 127,
     "metadata": {},
     "output_type": "execute_result"
    }
   ],
   "source": [
    "# Let us calculate specificity\n",
    "TN / float(TN+FP)"
   ]
  },
  {
   "cell_type": "markdown",
   "id": "ac53ffab",
   "metadata": {},
   "source": [
    "#### Inference:\n",
    "So as we can see above the model seems to be performing well. The ROC curve has a value of 0.85, which is very good. We have the following values for the Train Data:\n",
    "\n",
    "- Accuracy : 77.15%\n",
    "- Sensitivity :77.18%\n",
    "- Specificity : 77.13%\n",
    "\n",
    "Some of the other Stats are derived below, indicating the False Positive Rate, Positive Predictive Value,Negative Predictive Values, Precision & Recall."
   ]
  },
  {
   "cell_type": "code",
   "execution_count": 128,
   "id": "1302ee98",
   "metadata": {},
   "outputs": [
    {
     "name": "stdout",
     "output_type": "stream",
     "text": [
      "0.2286870731090311\n"
     ]
    }
   ],
   "source": [
    "# Calculate False Postive Rate - predicting conversion when customer does not have convert\n",
    "print(FP/ float(TN+FP))"
   ]
  },
  {
   "cell_type": "code",
   "execution_count": 129,
   "id": "1d0c29d3",
   "metadata": {},
   "outputs": [
    {
     "name": "stdout",
     "output_type": "stream",
     "text": [
      "0.6737639841212558\n"
     ]
    }
   ],
   "source": [
    "# Positive predictive value \n",
    "print (TP / float(TP+FP))"
   ]
  },
  {
   "cell_type": "code",
   "execution_count": 130,
   "id": "16645192",
   "metadata": {},
   "outputs": [
    {
     "name": "stdout",
     "output_type": "stream",
     "text": [
      "0.8467092474312691\n"
     ]
    }
   ],
   "source": [
    "# Negative predictive value\n",
    "print (TN / float(TN+ FN))"
   ]
  },
  {
   "cell_type": "markdown",
   "id": "bfe43c0e",
   "metadata": {},
   "source": [
    "### Precision and Recall"
   ]
  },
  {
   "cell_type": "code",
   "execution_count": 131,
   "id": "428b6792",
   "metadata": {},
   "outputs": [
    {
     "data": {
      "text/plain": [
       "array([[3049,  904],\n",
       "       [ 552, 1867]], dtype=int64)"
      ]
     },
     "execution_count": 131,
     "metadata": {},
     "output_type": "execute_result"
    }
   ],
   "source": [
    "#Looking at the confusion matrix again\n",
    "\n",
    "confusion = metrics.confusion_matrix(y_train_pred_final.Converted, y_train_pred_final.final_Predicted )\n",
    "confusion"
   ]
  },
  {
   "cell_type": "code",
   "execution_count": 132,
   "id": "0cf30529",
   "metadata": {},
   "outputs": [
    {
     "data": {
      "text/plain": [
       "0.6737639841212558"
      ]
     },
     "execution_count": 132,
     "metadata": {},
     "output_type": "execute_result"
    }
   ],
   "source": [
    "##### Precision\n",
    "TP / TP + FP\n",
    "\n",
    "confusion[1,1]/(confusion[0,1]+confusion[1,1])"
   ]
  },
  {
   "cell_type": "code",
   "execution_count": 133,
   "id": "239c489a",
   "metadata": {},
   "outputs": [
    {
     "data": {
      "text/plain": [
       "0.7718065316246383"
      ]
     },
     "execution_count": 133,
     "metadata": {},
     "output_type": "execute_result"
    }
   ],
   "source": [
    "##### Recall\n",
    "TP / TP + FN\n",
    "\n",
    "confusion[1,1]/(confusion[1,0]+confusion[1,1])"
   ]
  },
  {
   "cell_type": "code",
   "execution_count": 134,
   "id": "64359023",
   "metadata": {},
   "outputs": [
    {
     "data": {
      "text/plain": [
       "0.6737639841212558"
      ]
     },
     "execution_count": 134,
     "metadata": {},
     "output_type": "execute_result"
    }
   ],
   "source": [
    "from sklearn.metrics import precision_score, recall_score \n",
    "\n",
    "precision_score(y_train_pred_final.Converted , y_train_pred_final.final_Predicted)"
   ]
  },
  {
   "cell_type": "code",
   "execution_count": 135,
   "id": "7e812d90",
   "metadata": {},
   "outputs": [
    {
     "data": {
      "text/plain": [
       "0.7718065316246383"
      ]
     },
     "execution_count": 135,
     "metadata": {},
     "output_type": "execute_result"
    }
   ],
   "source": [
    "recall_score(y_train_pred_final.Converted, y_train_pred_final.final_Predicted)"
   ]
  },
  {
   "cell_type": "markdown",
   "id": "bbcf040b",
   "metadata": {},
   "source": [
    "### Precision and Recall Trade-off"
   ]
  },
  {
   "cell_type": "code",
   "execution_count": 136,
   "id": "a2921260",
   "metadata": {},
   "outputs": [],
   "source": [
    "# importing precision recall curve from sklearn library\n",
    "from sklearn.metrics import precision_recall_curve"
   ]
  },
  {
   "cell_type": "code",
   "execution_count": 137,
   "id": "0cf660ec",
   "metadata": {},
   "outputs": [],
   "source": [
    "# Creating precision recall curve\n",
    "y_train_pred_final.Converted, y_train_pred_final.final_Predicted\n",
    "p, r, thresholds = precision_recall_curve(y_train_pred_final.Converted, y_train_pred_final.Converted_prob)"
   ]
  },
  {
   "cell_type": "code",
   "execution_count": 138,
   "id": "33780495",
   "metadata": {},
   "outputs": [
    {
     "data": {
      "image/png": "[encoded data removed]",
      "text/plain": [
       "<Figure size 432x288 with 1 Axes>"
      ]
     },
     "metadata": {
      "needs_background": "light"
     },
     "output_type": "display_data"
    }
   ],
   "source": [
    "plt.plot(thresholds, p[:-1], \"g-\")\n",
    "plt.plot(thresholds, r[:-1], \"r-\")\n",
    "plt.show()"
   ]
  },
  {
   "cell_type": "markdown",
   "id": "e3366f25",
   "metadata": {},
   "source": [
    "## Predictions on the test set"
   ]
  },
  {
   "cell_type": "code",
   "execution_count": 139,
   "id": "60ed0260",
   "metadata": {},
   "outputs": [
    {
     "data": {
      "text/html": [
       "<div>\n",
       "<style scoped>\n",
       "    .dataframe tbody tr th:only-of-type {\n",
       "        vertical-align: middle;\n",
       "    }\n",
       "\n",
       "    .dataframe tbody tr th {\n",
       "        vertical-align: top;\n",
       "    }\n",
       "\n",
       "    .dataframe thead th {\n",
       "        text-align: right;\n",
       "    }\n",
       "</style>\n",
       "<table border=\"1\" class=\"dataframe\">\n",
       "  <thead>\n",
       "    <tr style=\"text-align: right;\">\n",
       "      <th></th>\n",
       "      <th>Do Not Email</th>\n",
       "      <th>TotalVisits</th>\n",
       "      <th>Total Time Spent on Website</th>\n",
       "      <th>Page Views Per Visit</th>\n",
       "      <th>Lead Origin_Lead Add Form</th>\n",
       "      <th>Lead Origin_Lead Import</th>\n",
       "      <th>Facebook</th>\n",
       "      <th>Google</th>\n",
       "      <th>Organic Search</th>\n",
       "      <th>Others</th>\n",
       "      <th>Reference</th>\n",
       "      <th>Referral Sites</th>\n",
       "      <th>Social Media</th>\n",
       "      <th>Welingak Website</th>\n",
       "      <th>Housewife</th>\n",
       "      <th>No data</th>\n",
       "      <th>Other</th>\n",
       "      <th>Student</th>\n",
       "      <th>Unemployed</th>\n",
       "      <th>Working Professional</th>\n",
       "    </tr>\n",
       "  </thead>\n",
       "  <tbody>\n",
       "    <tr>\n",
       "      <th>3504</th>\n",
       "      <td>-0.293797</td>\n",
       "      <td>-0.058621</td>\n",
       "      <td>-0.108519</td>\n",
       "      <td>0.416452</td>\n",
       "      <td>0</td>\n",
       "      <td>0</td>\n",
       "      <td>0</td>\n",
       "      <td>0</td>\n",
       "      <td>1</td>\n",
       "      <td>0</td>\n",
       "      <td>0</td>\n",
       "      <td>0</td>\n",
       "      <td>0</td>\n",
       "      <td>0</td>\n",
       "      <td>0</td>\n",
       "      <td>0</td>\n",
       "      <td>0</td>\n",
       "      <td>0</td>\n",
       "      <td>1</td>\n",
       "      <td>0</td>\n",
       "    </tr>\n",
       "    <tr>\n",
       "      <th>4050</th>\n",
       "      <td>-0.293797</td>\n",
       "      <td>-1.150166</td>\n",
       "      <td>-0.888077</td>\n",
       "      <td>-1.263530</td>\n",
       "      <td>1</td>\n",
       "      <td>0</td>\n",
       "      <td>0</td>\n",
       "      <td>0</td>\n",
       "      <td>0</td>\n",
       "      <td>0</td>\n",
       "      <td>1</td>\n",
       "      <td>0</td>\n",
       "      <td>0</td>\n",
       "      <td>0</td>\n",
       "      <td>0</td>\n",
       "      <td>0</td>\n",
       "      <td>0</td>\n",
       "      <td>0</td>\n",
       "      <td>1</td>\n",
       "      <td>0</td>\n",
       "    </tr>\n",
       "    <tr>\n",
       "      <th>7201</th>\n",
       "      <td>3.403712</td>\n",
       "      <td>-0.422469</td>\n",
       "      <td>0.420993</td>\n",
       "      <td>-0.143542</td>\n",
       "      <td>0</td>\n",
       "      <td>0</td>\n",
       "      <td>0</td>\n",
       "      <td>0</td>\n",
       "      <td>0</td>\n",
       "      <td>0</td>\n",
       "      <td>0</td>\n",
       "      <td>0</td>\n",
       "      <td>0</td>\n",
       "      <td>0</td>\n",
       "      <td>0</td>\n",
       "      <td>0</td>\n",
       "      <td>0</td>\n",
       "      <td>0</td>\n",
       "      <td>1</td>\n",
       "      <td>0</td>\n",
       "    </tr>\n",
       "    <tr>\n",
       "      <th>1196</th>\n",
       "      <td>-0.293797</td>\n",
       "      <td>0.305228</td>\n",
       "      <td>-0.110357</td>\n",
       "      <td>0.976446</td>\n",
       "      <td>0</td>\n",
       "      <td>0</td>\n",
       "      <td>0</td>\n",
       "      <td>0</td>\n",
       "      <td>1</td>\n",
       "      <td>0</td>\n",
       "      <td>0</td>\n",
       "      <td>0</td>\n",
       "      <td>0</td>\n",
       "      <td>0</td>\n",
       "      <td>0</td>\n",
       "      <td>0</td>\n",
       "      <td>0</td>\n",
       "      <td>0</td>\n",
       "      <td>1</td>\n",
       "      <td>0</td>\n",
       "    </tr>\n",
       "    <tr>\n",
       "      <th>8219</th>\n",
       "      <td>-0.293797</td>\n",
       "      <td>1.396773</td>\n",
       "      <td>-0.433947</td>\n",
       "      <td>-0.283540</td>\n",
       "      <td>0</td>\n",
       "      <td>0</td>\n",
       "      <td>0</td>\n",
       "      <td>0</td>\n",
       "      <td>0</td>\n",
       "      <td>0</td>\n",
       "      <td>0</td>\n",
       "      <td>0</td>\n",
       "      <td>0</td>\n",
       "      <td>0</td>\n",
       "      <td>0</td>\n",
       "      <td>0</td>\n",
       "      <td>0</td>\n",
       "      <td>0</td>\n",
       "      <td>1</td>\n",
       "      <td>0</td>\n",
       "    </tr>\n",
       "  </tbody>\n",
       "</table>\n",
       "</div>"
      ],
      "text/plain": [
       "      Do Not Email  TotalVisits  Total Time Spent on Website  \\\n",
       "3504     -0.293797    -0.058621                    -0.108519   \n",
       "4050     -0.293797    -1.150166                    -0.888077   \n",
       "7201      3.403712    -0.422469                     0.420993   \n",
       "1196     -0.293797     0.305228                    -0.110357   \n",
       "8219     -0.293797     1.396773                    -0.433947   \n",
       "\n",
       "      Page Views Per Visit  Lead Origin_Lead Add Form  \\\n",
       "3504              0.416452                          0   \n",
       "4050             -1.263530                          1   \n",
       "7201             -0.143542                          0   \n",
       "1196              0.976446                          0   \n",
       "8219             -0.283540                          0   \n",
       "\n",
       "      Lead Origin_Lead Import  Facebook  Google  Organic Search  Others  \\\n",
       "3504                        0         0       0               1       0   \n",
       "4050                        0         0       0               0       0   \n",
       "7201                        0         0       0               0       0   \n",
       "1196                        0         0       0               1       0   \n",
       "8219                        0         0       0               0       0   \n",
       "\n",
       "      Reference  Referral Sites  Social Media  Welingak Website  Housewife  \\\n",
       "3504          0               0             0                 0          0   \n",
       "4050          1               0             0                 0          0   \n",
       "7201          0               0             0                 0          0   \n",
       "1196          0               0             0                 0          0   \n",
       "8219          0               0             0                 0          0   \n",
       "\n",
       "      No data  Other  Student  Unemployed  Working Professional  \n",
       "3504        0      0        0           1                     0  \n",
       "4050        0      0        0           1                     0  \n",
       "7201        0      0        0           1                     0  \n",
       "1196        0      0        0           1                     0  \n",
       "8219        0      0        0           1                     0  "
      ]
     },
     "execution_count": 139,
     "metadata": {},
     "output_type": "execute_result"
    }
   ],
   "source": [
    "#scaling test set\n",
    "\n",
    "num_cols=X_test.select_dtypes(include=['float64', 'int64']).columns\n",
    "\n",
    "X_test[num_cols] = scaler.fit_transform(X_test[num_cols])\n",
    "\n",
    "X_test.head()"
   ]
  },
  {
   "cell_type": "code",
   "execution_count": 140,
   "id": "237ad962",
   "metadata": {},
   "outputs": [
    {
     "data": {
      "text/html": [
       "<div>\n",
       "<style scoped>\n",
       "    .dataframe tbody tr th:only-of-type {\n",
       "        vertical-align: middle;\n",
       "    }\n",
       "\n",
       "    .dataframe tbody tr th {\n",
       "        vertical-align: top;\n",
       "    }\n",
       "\n",
       "    .dataframe thead th {\n",
       "        text-align: right;\n",
       "    }\n",
       "</style>\n",
       "<table border=\"1\" class=\"dataframe\">\n",
       "  <thead>\n",
       "    <tr style=\"text-align: right;\">\n",
       "      <th></th>\n",
       "      <th>Do Not Email</th>\n",
       "      <th>TotalVisits</th>\n",
       "      <th>Total Time Spent on Website</th>\n",
       "      <th>Page Views Per Visit</th>\n",
       "      <th>Lead Origin_Lead Add Form</th>\n",
       "      <th>No data</th>\n",
       "      <th>Other</th>\n",
       "      <th>Student</th>\n",
       "      <th>Unemployed</th>\n",
       "    </tr>\n",
       "  </thead>\n",
       "  <tbody>\n",
       "    <tr>\n",
       "      <th>3504</th>\n",
       "      <td>-0.293797</td>\n",
       "      <td>-0.058621</td>\n",
       "      <td>-0.108519</td>\n",
       "      <td>0.416452</td>\n",
       "      <td>0</td>\n",
       "      <td>0</td>\n",
       "      <td>0</td>\n",
       "      <td>0</td>\n",
       "      <td>1</td>\n",
       "    </tr>\n",
       "    <tr>\n",
       "      <th>4050</th>\n",
       "      <td>-0.293797</td>\n",
       "      <td>-1.150166</td>\n",
       "      <td>-0.888077</td>\n",
       "      <td>-1.263530</td>\n",
       "      <td>1</td>\n",
       "      <td>0</td>\n",
       "      <td>0</td>\n",
       "      <td>0</td>\n",
       "      <td>1</td>\n",
       "    </tr>\n",
       "    <tr>\n",
       "      <th>7201</th>\n",
       "      <td>3.403712</td>\n",
       "      <td>-0.422469</td>\n",
       "      <td>0.420993</td>\n",
       "      <td>-0.143542</td>\n",
       "      <td>0</td>\n",
       "      <td>0</td>\n",
       "      <td>0</td>\n",
       "      <td>0</td>\n",
       "      <td>1</td>\n",
       "    </tr>\n",
       "    <tr>\n",
       "      <th>1196</th>\n",
       "      <td>-0.293797</td>\n",
       "      <td>0.305228</td>\n",
       "      <td>-0.110357</td>\n",
       "      <td>0.976446</td>\n",
       "      <td>0</td>\n",
       "      <td>0</td>\n",
       "      <td>0</td>\n",
       "      <td>0</td>\n",
       "      <td>1</td>\n",
       "    </tr>\n",
       "    <tr>\n",
       "      <th>8219</th>\n",
       "      <td>-0.293797</td>\n",
       "      <td>1.396773</td>\n",
       "      <td>-0.433947</td>\n",
       "      <td>-0.283540</td>\n",
       "      <td>0</td>\n",
       "      <td>0</td>\n",
       "      <td>0</td>\n",
       "      <td>0</td>\n",
       "      <td>1</td>\n",
       "    </tr>\n",
       "  </tbody>\n",
       "</table>\n",
       "</div>"
      ],
      "text/plain": [
       "      Do Not Email  TotalVisits  Total Time Spent on Website  \\\n",
       "3504     -0.293797    -0.058621                    -0.108519   \n",
       "4050     -0.293797    -1.150166                    -0.888077   \n",
       "7201      3.403712    -0.422469                     0.420993   \n",
       "1196     -0.293797     0.305228                    -0.110357   \n",
       "8219     -0.293797     1.396773                    -0.433947   \n",
       "\n",
       "      Page Views Per Visit  Lead Origin_Lead Add Form  No data  Other  \\\n",
       "3504              0.416452                          0        0      0   \n",
       "4050             -1.263530                          1        0      0   \n",
       "7201             -0.143542                          0        0      0   \n",
       "1196              0.976446                          0        0      0   \n",
       "8219             -0.283540                          0        0      0   \n",
       "\n",
       "      Student  Unemployed  \n",
       "3504        0           1  \n",
       "4050        0           1  \n",
       "7201        0           1  \n",
       "1196        0           1  \n",
       "8219        0           1  "
      ]
     },
     "execution_count": 140,
     "metadata": {},
     "output_type": "execute_result"
    }
   ],
   "source": [
    "X_test = X_test[col]\n",
    "X_test.head()"
   ]
  },
  {
   "cell_type": "code",
   "execution_count": 141,
   "id": "16d4d6cb",
   "metadata": {},
   "outputs": [],
   "source": [
    "X_test_sm = sm.add_constant(X_test)"
   ]
  },
  {
   "cell_type": "code",
   "execution_count": 142,
   "id": "78ddc48a",
   "metadata": {},
   "outputs": [
    {
     "data": {
      "text/plain": [
       "(2731, 10)"
      ]
     },
     "execution_count": 142,
     "metadata": {},
     "output_type": "execute_result"
    }
   ],
   "source": [
    "X_test_sm.shape"
   ]
  },
  {
   "cell_type": "code",
   "execution_count": 143,
   "id": "21208f81",
   "metadata": {},
   "outputs": [],
   "source": [
    "y_test_pred = res.predict(X_test_sm)  "
   ]
  },
  {
   "cell_type": "code",
   "execution_count": 144,
   "id": "a9f9dcfa",
   "metadata": {},
   "outputs": [
    {
     "data": {
      "text/plain": [
       "3504    0.310289\n",
       "4050    0.921415\n",
       "7201    0.179481\n",
       "1196    0.288291\n",
       "8219    0.360747\n",
       "8747    0.075869\n",
       "9048    0.244785\n",
       "6524    0.240399\n",
       "7693    0.073124\n",
       "8187    0.921415\n",
       "dtype: float64"
      ]
     },
     "execution_count": 144,
     "metadata": {},
     "output_type": "execute_result"
    }
   ],
   "source": [
    "y_test_pred[:10]"
   ]
  },
  {
   "cell_type": "code",
   "execution_count": 145,
   "id": "e2bff831",
   "metadata": {},
   "outputs": [],
   "source": [
    "# Converting y_pred to a dataframe which is an array\n",
    "y_pred_1 = pd.DataFrame(y_test_pred)"
   ]
  },
  {
   "cell_type": "code",
   "execution_count": 146,
   "id": "3884f821",
   "metadata": {},
   "outputs": [
    {
     "data": {
      "text/html": [
       "<div>\n",
       "<style scoped>\n",
       "    .dataframe tbody tr th:only-of-type {\n",
       "        vertical-align: middle;\n",
       "    }\n",
       "\n",
       "    .dataframe tbody tr th {\n",
       "        vertical-align: top;\n",
       "    }\n",
       "\n",
       "    .dataframe thead th {\n",
       "        text-align: right;\n",
       "    }\n",
       "</style>\n",
       "<table border=\"1\" class=\"dataframe\">\n",
       "  <thead>\n",
       "    <tr style=\"text-align: right;\">\n",
       "      <th></th>\n",
       "      <th>0</th>\n",
       "    </tr>\n",
       "  </thead>\n",
       "  <tbody>\n",
       "    <tr>\n",
       "      <th>3504</th>\n",
       "      <td>0.310289</td>\n",
       "    </tr>\n",
       "    <tr>\n",
       "      <th>4050</th>\n",
       "      <td>0.921415</td>\n",
       "    </tr>\n",
       "    <tr>\n",
       "      <th>7201</th>\n",
       "      <td>0.179481</td>\n",
       "    </tr>\n",
       "    <tr>\n",
       "      <th>1196</th>\n",
       "      <td>0.288291</td>\n",
       "    </tr>\n",
       "    <tr>\n",
       "      <th>8219</th>\n",
       "      <td>0.360747</td>\n",
       "    </tr>\n",
       "  </tbody>\n",
       "</table>\n",
       "</div>"
      ],
      "text/plain": [
       "             0\n",
       "3504  0.310289\n",
       "4050  0.921415\n",
       "7201  0.179481\n",
       "1196  0.288291\n",
       "8219  0.360747"
      ]
     },
     "execution_count": 146,
     "metadata": {},
     "output_type": "execute_result"
    }
   ],
   "source": [
    "# Let's see the head\n",
    "y_pred_1.head()"
   ]
  },
  {
   "cell_type": "code",
   "execution_count": 147,
   "id": "6100649e",
   "metadata": {},
   "outputs": [],
   "source": [
    "# Converting y_test to dataframe\n",
    "y_test_df = pd.DataFrame(y_test)"
   ]
  },
  {
   "cell_type": "code",
   "execution_count": 148,
   "id": "3ccc4bb0",
   "metadata": {},
   "outputs": [],
   "source": [
    "# Putting CustID to index\n",
    "y_test_df['Prospect ID'] = y_test_df.index"
   ]
  },
  {
   "cell_type": "code",
   "execution_count": 149,
   "id": "d6e0cdf9",
   "metadata": {},
   "outputs": [],
   "source": [
    "# Removing index for both dataframes to append them side by side \n",
    "y_pred_1.reset_index(drop=True, inplace=True)\n",
    "y_test_df.reset_index(drop=True, inplace=True)"
   ]
  },
  {
   "cell_type": "code",
   "execution_count": 150,
   "id": "e3217332",
   "metadata": {},
   "outputs": [],
   "source": [
    "# Appending y_test_df and y_pred_1\n",
    "y_pred_final = pd.concat([y_test_df, y_pred_1],axis=1)"
   ]
  },
  {
   "cell_type": "code",
   "execution_count": 151,
   "id": "ca7eec26",
   "metadata": {},
   "outputs": [
    {
     "data": {
      "text/html": [
       "<div>\n",
       "<style scoped>\n",
       "    .dataframe tbody tr th:only-of-type {\n",
       "        vertical-align: middle;\n",
       "    }\n",
       "\n",
       "    .dataframe tbody tr th {\n",
       "        vertical-align: top;\n",
       "    }\n",
       "\n",
       "    .dataframe thead th {\n",
       "        text-align: right;\n",
       "    }\n",
       "</style>\n",
       "<table border=\"1\" class=\"dataframe\">\n",
       "  <thead>\n",
       "    <tr style=\"text-align: right;\">\n",
       "      <th></th>\n",
       "      <th>Converted</th>\n",
       "      <th>Prospect ID</th>\n",
       "      <th>0</th>\n",
       "    </tr>\n",
       "  </thead>\n",
       "  <tbody>\n",
       "    <tr>\n",
       "      <th>0</th>\n",
       "      <td>0</td>\n",
       "      <td>3504</td>\n",
       "      <td>0.310289</td>\n",
       "    </tr>\n",
       "    <tr>\n",
       "      <th>1</th>\n",
       "      <td>1</td>\n",
       "      <td>4050</td>\n",
       "      <td>0.921415</td>\n",
       "    </tr>\n",
       "    <tr>\n",
       "      <th>2</th>\n",
       "      <td>0</td>\n",
       "      <td>7201</td>\n",
       "      <td>0.179481</td>\n",
       "    </tr>\n",
       "    <tr>\n",
       "      <th>3</th>\n",
       "      <td>0</td>\n",
       "      <td>1196</td>\n",
       "      <td>0.288291</td>\n",
       "    </tr>\n",
       "    <tr>\n",
       "      <th>4</th>\n",
       "      <td>1</td>\n",
       "      <td>8219</td>\n",
       "      <td>0.360747</td>\n",
       "    </tr>\n",
       "  </tbody>\n",
       "</table>\n",
       "</div>"
      ],
      "text/plain": [
       "   Converted  Prospect ID         0\n",
       "0          0         3504  0.310289\n",
       "1          1         4050  0.921415\n",
       "2          0         7201  0.179481\n",
       "3          0         1196  0.288291\n",
       "4          1         8219  0.360747"
      ]
     },
     "execution_count": 151,
     "metadata": {},
     "output_type": "execute_result"
    }
   ],
   "source": [
    "y_pred_final.head()"
   ]
  },
  {
   "cell_type": "code",
   "execution_count": 152,
   "id": "0bc4bf4f",
   "metadata": {},
   "outputs": [],
   "source": [
    "# Renaming the column \n",
    "y_pred_final= y_pred_final.rename(columns={ 0 : 'Converted_prob'})"
   ]
  },
  {
   "cell_type": "code",
   "execution_count": 153,
   "id": "9198cf43",
   "metadata": {},
   "outputs": [
    {
     "data": {
      "text/html": [
       "<div>\n",
       "<style scoped>\n",
       "    .dataframe tbody tr th:only-of-type {\n",
       "        vertical-align: middle;\n",
       "    }\n",
       "\n",
       "    .dataframe tbody tr th {\n",
       "        vertical-align: top;\n",
       "    }\n",
       "\n",
       "    .dataframe thead th {\n",
       "        text-align: right;\n",
       "    }\n",
       "</style>\n",
       "<table border=\"1\" class=\"dataframe\">\n",
       "  <thead>\n",
       "    <tr style=\"text-align: right;\">\n",
       "      <th></th>\n",
       "      <th>Converted</th>\n",
       "      <th>Prospect ID</th>\n",
       "      <th>Converted_prob</th>\n",
       "    </tr>\n",
       "  </thead>\n",
       "  <tbody>\n",
       "    <tr>\n",
       "      <th>0</th>\n",
       "      <td>0</td>\n",
       "      <td>3504</td>\n",
       "      <td>0.310289</td>\n",
       "    </tr>\n",
       "    <tr>\n",
       "      <th>1</th>\n",
       "      <td>1</td>\n",
       "      <td>4050</td>\n",
       "      <td>0.921415</td>\n",
       "    </tr>\n",
       "    <tr>\n",
       "      <th>2</th>\n",
       "      <td>0</td>\n",
       "      <td>7201</td>\n",
       "      <td>0.179481</td>\n",
       "    </tr>\n",
       "    <tr>\n",
       "      <th>3</th>\n",
       "      <td>0</td>\n",
       "      <td>1196</td>\n",
       "      <td>0.288291</td>\n",
       "    </tr>\n",
       "    <tr>\n",
       "      <th>4</th>\n",
       "      <td>1</td>\n",
       "      <td>8219</td>\n",
       "      <td>0.360747</td>\n",
       "    </tr>\n",
       "  </tbody>\n",
       "</table>\n",
       "</div>"
      ],
      "text/plain": [
       "   Converted  Prospect ID  Converted_prob\n",
       "0          0         3504        0.310289\n",
       "1          1         4050        0.921415\n",
       "2          0         7201        0.179481\n",
       "3          0         1196        0.288291\n",
       "4          1         8219        0.360747"
      ]
     },
     "execution_count": 153,
     "metadata": {},
     "output_type": "execute_result"
    }
   ],
   "source": [
    "y_pred_final.head()"
   ]
  },
  {
   "cell_type": "markdown",
   "id": "3ec6ca8e",
   "metadata": {},
   "source": [
    "### Assigning Lead Score"
   ]
  },
  {
   "cell_type": "code",
   "execution_count": 154,
   "id": "bc2be445",
   "metadata": {},
   "outputs": [],
   "source": [
    "# Rearranging the columns\n",
    "y_pred_final = y_pred_final[['Prospect ID','Converted','Converted_prob']]\n",
    "y_pred_final['Lead_Score'] = y_pred_final.Converted_prob.map( lambda x: round(x*100))"
   ]
  },
  {
   "cell_type": "code",
   "execution_count": 155,
   "id": "3c81ee03",
   "metadata": {},
   "outputs": [
    {
     "data": {
      "text/html": [
       "<div>\n",
       "<style scoped>\n",
       "    .dataframe tbody tr th:only-of-type {\n",
       "        vertical-align: middle;\n",
       "    }\n",
       "\n",
       "    .dataframe tbody tr th {\n",
       "        vertical-align: top;\n",
       "    }\n",
       "\n",
       "    .dataframe thead th {\n",
       "        text-align: right;\n",
       "    }\n",
       "</style>\n",
       "<table border=\"1\" class=\"dataframe\">\n",
       "  <thead>\n",
       "    <tr style=\"text-align: right;\">\n",
       "      <th></th>\n",
       "      <th>Prospect ID</th>\n",
       "      <th>Converted</th>\n",
       "      <th>Converted_prob</th>\n",
       "      <th>Lead_Score</th>\n",
       "    </tr>\n",
       "  </thead>\n",
       "  <tbody>\n",
       "    <tr>\n",
       "      <th>0</th>\n",
       "      <td>3504</td>\n",
       "      <td>0</td>\n",
       "      <td>0.310289</td>\n",
       "      <td>31</td>\n",
       "    </tr>\n",
       "    <tr>\n",
       "      <th>1</th>\n",
       "      <td>4050</td>\n",
       "      <td>1</td>\n",
       "      <td>0.921415</td>\n",
       "      <td>92</td>\n",
       "    </tr>\n",
       "    <tr>\n",
       "      <th>2</th>\n",
       "      <td>7201</td>\n",
       "      <td>0</td>\n",
       "      <td>0.179481</td>\n",
       "      <td>18</td>\n",
       "    </tr>\n",
       "    <tr>\n",
       "      <th>3</th>\n",
       "      <td>1196</td>\n",
       "      <td>0</td>\n",
       "      <td>0.288291</td>\n",
       "      <td>29</td>\n",
       "    </tr>\n",
       "    <tr>\n",
       "      <th>4</th>\n",
       "      <td>8219</td>\n",
       "      <td>1</td>\n",
       "      <td>0.360747</td>\n",
       "      <td>36</td>\n",
       "    </tr>\n",
       "  </tbody>\n",
       "</table>\n",
       "</div>"
      ],
      "text/plain": [
       "   Prospect ID  Converted  Converted_prob  Lead_Score\n",
       "0         3504          0        0.310289          31\n",
       "1         4050          1        0.921415          92\n",
       "2         7201          0        0.179481          18\n",
       "3         1196          0        0.288291          29\n",
       "4         8219          1        0.360747          36"
      ]
     },
     "execution_count": 155,
     "metadata": {},
     "output_type": "execute_result"
    }
   ],
   "source": [
    "# Let's see the head of y_pred_final\n",
    "y_pred_final.head()"
   ]
  },
  {
   "cell_type": "code",
   "execution_count": 156,
   "id": "b00202ae",
   "metadata": {},
   "outputs": [],
   "source": [
    "y_pred_final['final_Predicted'] = y_pred_final.Converted_prob.map(lambda x: 1 if x > 0.3 else 0)"
   ]
  },
  {
   "cell_type": "code",
   "execution_count": 157,
   "id": "81fed8fc",
   "metadata": {},
   "outputs": [
    {
     "data": {
      "text/html": [
       "<div>\n",
       "<style scoped>\n",
       "    .dataframe tbody tr th:only-of-type {\n",
       "        vertical-align: middle;\n",
       "    }\n",
       "\n",
       "    .dataframe tbody tr th {\n",
       "        vertical-align: top;\n",
       "    }\n",
       "\n",
       "    .dataframe thead th {\n",
       "        text-align: right;\n",
       "    }\n",
       "</style>\n",
       "<table border=\"1\" class=\"dataframe\">\n",
       "  <thead>\n",
       "    <tr style=\"text-align: right;\">\n",
       "      <th></th>\n",
       "      <th>Prospect ID</th>\n",
       "      <th>Converted</th>\n",
       "      <th>Converted_prob</th>\n",
       "      <th>Lead_Score</th>\n",
       "      <th>final_Predicted</th>\n",
       "    </tr>\n",
       "  </thead>\n",
       "  <tbody>\n",
       "    <tr>\n",
       "      <th>0</th>\n",
       "      <td>3504</td>\n",
       "      <td>0</td>\n",
       "      <td>0.310289</td>\n",
       "      <td>31</td>\n",
       "      <td>1</td>\n",
       "    </tr>\n",
       "    <tr>\n",
       "      <th>1</th>\n",
       "      <td>4050</td>\n",
       "      <td>1</td>\n",
       "      <td>0.921415</td>\n",
       "      <td>92</td>\n",
       "      <td>1</td>\n",
       "    </tr>\n",
       "    <tr>\n",
       "      <th>2</th>\n",
       "      <td>7201</td>\n",
       "      <td>0</td>\n",
       "      <td>0.179481</td>\n",
       "      <td>18</td>\n",
       "      <td>0</td>\n",
       "    </tr>\n",
       "    <tr>\n",
       "      <th>3</th>\n",
       "      <td>1196</td>\n",
       "      <td>0</td>\n",
       "      <td>0.288291</td>\n",
       "      <td>29</td>\n",
       "      <td>0</td>\n",
       "    </tr>\n",
       "    <tr>\n",
       "      <th>4</th>\n",
       "      <td>8219</td>\n",
       "      <td>1</td>\n",
       "      <td>0.360747</td>\n",
       "      <td>36</td>\n",
       "      <td>1</td>\n",
       "    </tr>\n",
       "  </tbody>\n",
       "</table>\n",
       "</div>"
      ],
      "text/plain": [
       "   Prospect ID  Converted  Converted_prob  Lead_Score  final_Predicted\n",
       "0         3504          0        0.310289          31                1\n",
       "1         4050          1        0.921415          92                1\n",
       "2         7201          0        0.179481          18                0\n",
       "3         1196          0        0.288291          29                0\n",
       "4         8219          1        0.360747          36                1"
      ]
     },
     "execution_count": 157,
     "metadata": {},
     "output_type": "execute_result"
    }
   ],
   "source": [
    "y_pred_final.head()"
   ]
  },
  {
   "cell_type": "code",
   "execution_count": 158,
   "id": "ac75d466",
   "metadata": {},
   "outputs": [
    {
     "data": {
      "text/plain": [
       "1    794\n",
       "0    248\n",
       "Name: final_Predicted, dtype: int64"
      ]
     },
     "execution_count": 158,
     "metadata": {},
     "output_type": "execute_result"
    }
   ],
   "source": [
    "# checking if 80% cases are correctly predicted based on the converted column.\n",
    "\n",
    "# get the total of final predicted conversion or non conversion counts from the actual converted rates\n",
    "\n",
    "checking_test_df = y_pred_final.loc[y_pred_final['Converted']==1,['Converted','final_Predicted']]\n",
    "checking_test_df['final_Predicted'].value_counts()"
   ]
  },
  {
   "cell_type": "code",
   "execution_count": 159,
   "id": "0c3b153d",
   "metadata": {},
   "outputs": [
    {
     "data": {
      "text/plain": [
       "0.8301343570057581"
      ]
     },
     "execution_count": 159,
     "metadata": {},
     "output_type": "execute_result"
    }
   ],
   "source": [
    "# check the precentage of final_predicted conversions on test data\n",
    "\n",
    "865/float(865+177)"
   ]
  },
  {
   "cell_type": "markdown",
   "id": "a3a74aaf",
   "metadata": {},
   "source": [
    "## Hence we can see that the final prediction of conversions have a target rate of 83% (same as predictions made on training data set)\n",
    "### Overall Metrics - Accuracy, Confusion Metrics, Sensitivity, Specificity, False Postive Rate, Positive Predictive Value, Negative Predicitive Value on final prediction on test set"
   ]
  },
  {
   "cell_type": "code",
   "execution_count": 160,
   "id": "834e7512",
   "metadata": {},
   "outputs": [
    {
     "data": {
      "text/plain": [
       "0.7700476016111315"
      ]
     },
     "execution_count": 160,
     "metadata": {},
     "output_type": "execute_result"
    }
   ],
   "source": [
    "# Let's check the overall accuracy.\n",
    "metrics.accuracy_score(y_pred_final.Converted, y_pred_final.final_Predicted)"
   ]
  },
  {
   "cell_type": "code",
   "execution_count": 161,
   "id": "55117065",
   "metadata": {},
   "outputs": [
    {
     "data": {
      "text/plain": [
       "array([[1309,  380],\n",
       "       [ 248,  794]], dtype=int64)"
      ]
     },
     "execution_count": 161,
     "metadata": {},
     "output_type": "execute_result"
    }
   ],
   "source": [
    "confusion2 = metrics.confusion_matrix(y_pred_final.Converted, y_pred_final.final_Predicted )\n",
    "confusion2"
   ]
  },
  {
   "cell_type": "code",
   "execution_count": 162,
   "id": "828a7d48",
   "metadata": {},
   "outputs": [],
   "source": [
    "TP = confusion2[1,1] # true positive \n",
    "TN = confusion2[0,0] # true negatives\n",
    "FP = confusion2[0,1] # false positives\n",
    "FN = confusion2[1,0] # false negatives"
   ]
  },
  {
   "cell_type": "code",
   "execution_count": 163,
   "id": "e1a1dec1",
   "metadata": {},
   "outputs": [
    {
     "data": {
      "text/plain": [
       "0.761996161228407"
      ]
     },
     "execution_count": 163,
     "metadata": {},
     "output_type": "execute_result"
    }
   ],
   "source": [
    "# Let's see the sensitivity of our logistic regression model\n",
    "TP / float(TP+FN)"
   ]
  },
  {
   "cell_type": "code",
   "execution_count": 164,
   "id": "1e75ef5b",
   "metadata": {},
   "outputs": [
    {
     "data": {
      "text/plain": [
       "0.7750148016577857"
      ]
     },
     "execution_count": 164,
     "metadata": {},
     "output_type": "execute_result"
    }
   ],
   "source": [
    "# Let us calculate specificity\n",
    "TN / float(TN+FP)"
   ]
  },
  {
   "cell_type": "markdown",
   "id": "180902e3",
   "metadata": {},
   "source": [
    "### Precision and Recall metrics for the test set"
   ]
  },
  {
   "cell_type": "code",
   "execution_count": 165,
   "id": "4fedcd52",
   "metadata": {},
   "outputs": [
    {
     "data": {
      "text/plain": [
       "0.676320272572402"
      ]
     },
     "execution_count": 165,
     "metadata": {},
     "output_type": "execute_result"
    }
   ],
   "source": [
    "precision_score(y_pred_final.Converted , y_pred_final.final_Predicted)\n"
   ]
  },
  {
   "cell_type": "code",
   "execution_count": 166,
   "id": "a3768896",
   "metadata": {},
   "outputs": [
    {
     "data": {
      "text/plain": [
       "0.761996161228407"
      ]
     },
     "execution_count": 166,
     "metadata": {},
     "output_type": "execute_result"
    }
   ],
   "source": [
    "recall_score(y_pred_final.Converted, y_pred_final.final_Predicted)\n"
   ]
  },
  {
   "cell_type": "markdown",
   "id": "e3bbc9fe",
   "metadata": {},
   "source": [
    "### Inference:\n",
    "After running the model on the Test Data these are the figures we obtain:\n",
    "\n",
    "- Accuracy : 77.00%\n",
    "- Sensitivity :76.2%\n",
    "- Specificity : 77.50%"
   ]
  },
  {
   "cell_type": "markdown",
   "id": "962374f1",
   "metadata": {},
   "source": [
    "## Conclusion:\n",
    "\n",
    "- While we have checked both Sensitivity-Specificity as well as Precision and Recall Metrics, we have considered the optimal cut off based on Sensitivity and Specificity for calculating the final prediction.\n",
    "- Accuracy, Sensitivity and Specificity values of test set are around 77%, 76% and 77.5% which are approximately closer to the respective values calculated using trained set.\n",
    "- Also the lead score calculated in the trained set of data shows the conversion rate on the final predicted model is around 80%\n",
    "- Hence overall this model seems to be good.\n",
    "\n",
    "#### Important features responsible for good conversion rate or the ones' which contributes more towards the probability of a lead getting converted are :\n",
    "\n",
    "- Lead Origin_Lead Add Form \n",
    "- Total Time Spent on website\n",
    "- Total Visits"
   ]
  },
  {
   "cell_type": "code",
   "execution_count": null,
   "id": "449f51ba",
   "metadata": {},
   "outputs": [],
   "source": []
  }
 ],
 "metadata": {
  "kernelspec": {
   "display_name": "Python 3 (ipykernel)",
   "language": "python",
   "name": "python3"
  },
  "language_info": {
   "codemirror_mode": {
    "name": "ipython",
    "version": 3
   },
   "file_extension": ".py",
   "mimetype": "text/x-python",
   "name": "python",
   "nbconvert_exporter": "python",
   "pygments_lexer": "ipython3",
   "version": "3.9.7"
  }
 },
 "nbformat": 4,
 "nbformat_minor": 5
}
